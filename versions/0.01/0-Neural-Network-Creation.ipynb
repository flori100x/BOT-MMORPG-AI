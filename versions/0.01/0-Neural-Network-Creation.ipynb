{
 "cells": [
  {
   "cell_type": "markdown",
   "id": "59839f53",
   "metadata": {},
   "source": [
    "# Creation of the Neural Networks of an unknown Dataset in TensorFlow and analysis with TensorBoard"
   ]
  },
  {
   "cell_type": "markdown",
   "id": "491aad68",
   "metadata": {},
   "source": [
    "Hello everyone today we are going to create a Neural Network by using Tensorflow and we will analize it with TensorBoard. The interesting thing of this post is that I will deal a custom dataset that I dont know a priory which is the neural network to use. So I will start writting the program from scratch."
   ]
  },
  {
   "cell_type": "markdown",
   "id": "e158cc87",
   "metadata": {},
   "source": []
  },
  {
   "cell_type": "code",
   "execution_count": null,
   "id": "3d269fb0",
   "metadata": {},
   "outputs": [],
   "source": []
  }
 ],
 "metadata": {
  "kernelspec": {
   "display_name": "Python (pygta5)",
   "language": "python",
   "name": "pygta5"
  },
  "language_info": {
   "codemirror_mode": {
    "name": "ipython",
    "version": 3
   },
   "file_extension": ".py",
   "mimetype": "text/x-python",
   "name": "python",
   "nbconvert_exporter": "python",
   "pygments_lexer": "ipython3",
   "version": "3.7.0"
  }
 },
 "nbformat": 4,
 "nbformat_minor": 5
}
