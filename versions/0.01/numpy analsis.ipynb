{
 "cells": [
  {
   "cell_type": "code",
   "execution_count": null,
   "id": "d7300185",
   "metadata": {},
   "outputs": [],
   "source": [
    "a1 = np.array([1, 2, 3], dtype=np.uint8)\n",
    "a2 = list(np.array([0, 0, 0, 0, 0, 0, 0, 0, 1]))\n",
    "a3 =list( np.array([0, 0, -13184, 30461, 1627, -2722, 0, 0, 0, 0, 0, 0, 0, 0, 0, 0, 0, 0, 0, 0]))\n"
   ]
  },
  {
   "cell_type": "code",
   "execution_count": null,
   "id": "c67c8e7d",
   "metadata": {},
   "outputs": [],
   "source": [
    "b=np.array([a1, \n",
    "            a2 ,\n",
    "            a3], \n",
    "           dtype=object)"
   ]
  },
  {
   "cell_type": "code",
   "execution_count": null,
   "id": "15629368",
   "metadata": {},
   "outputs": [],
   "source": [
    "b.shape"
   ]
  },
  {
   "cell_type": "code",
   "execution_count": null,
   "id": "ec1e2f9a",
   "metadata": {},
   "outputs": [],
   "source": [
    "c=np.array([b, \n",
    "            b,\n",
    "            b], \n",
    "           dtype=object)"
   ]
  },
  {
   "cell_type": "code",
   "execution_count": null,
   "id": "8386358b",
   "metadata": {},
   "outputs": [],
   "source": [
    "c.shape"
   ]
  },
  {
   "cell_type": "code",
   "execution_count": null,
   "id": "a417498f",
   "metadata": {},
   "outputs": [],
   "source": [
    "# Select a Row at index 1\n",
    "row = c[1]\n",
    "print('Contents of Row at Index 1 : ' , row)"
   ]
  },
  {
   "cell_type": "code",
   "execution_count": null,
   "id": "40792127",
   "metadata": {},
   "outputs": [],
   "source": [
    "#ndArray[row_index][column_index]\n",
    "# Select element at row index 1 & column index 2\n",
    "num = c[1][2]\n",
    "print('element at row index 1 & column index 2 is : ' , num)"
   ]
  },
  {
   "cell_type": "code",
   "execution_count": null,
   "id": "58f4c63c",
   "metadata": {},
   "outputs": [],
   "source": [
    "num = c[1][1]\n",
    "print('element at row index 1 & column index 2 is : ' , num)"
   ]
  },
  {
   "cell_type": "code",
   "execution_count": null,
   "id": "903d11f2",
   "metadata": {},
   "outputs": [],
   "source": [
    "# Select multiple rows from index 1 to 2\n",
    "rows = c[1:3, :]\n",
    "print('Rows from Index 1 to 2 :')\n",
    "print(rows)"
   ]
  },
  {
   "cell_type": "code",
   "execution_count": null,
   "id": "28fde191",
   "metadata": {},
   "outputs": [],
   "source": [
    "# Select multiple rows from index 1 to 2\n",
    "row1 = c[1][1]\n",
    "print(row1)"
   ]
  },
  {
   "cell_type": "code",
   "execution_count": null,
   "id": "8a114c9f",
   "metadata": {},
   "outputs": [],
   "source": [
    "row2 = c[1][2]\n",
    "print(row2)"
   ]
  },
  {
   "cell_type": "code",
   "execution_count": null,
   "id": "8294be4b",
   "metadata": {},
   "outputs": [],
   "source": [
    "# Create a 2D Numpy adArray with 3 rows & 3 columns | Matrix\n",
    "nArr2D = np.array(([21, 22, 23], [11, 22, 33], [43, 77, 89]))"
   ]
  },
  {
   "cell_type": "code",
   "execution_count": null,
   "id": "d5873354",
   "metadata": {},
   "outputs": [],
   "source": [
    "#ndArray[row_index][column_index]\n",
    "# Select element at row index 1 & column index 2\n",
    "num = nArr2D[1][2]\n",
    "print('element at row index 1 & column index 2 is : ' , num)"
   ]
  },
  {
   "cell_type": "code",
   "execution_count": null,
   "id": "9385e8e0",
   "metadata": {},
   "outputs": [],
   "source": [
    "# Another way to select element at row index 1 & column index 2\n",
    "num = nArr2D[1, 2]\n",
    "print('element at row index 1 & column index 2 is : ', num)"
   ]
  },
  {
   "cell_type": "code",
   "execution_count": null,
   "id": "8ca10f82",
   "metadata": {},
   "outputs": [],
   "source": [
    "# Select a Row at index 1\n",
    "row = nArr2D[1]\n",
    "print('Contents of Row at Index 1 : ' , row)"
   ]
  },
  {
   "cell_type": "code",
   "execution_count": null,
   "id": "ce55aae8",
   "metadata": {},
   "outputs": [],
   "source": [
    "# Select multiple rows from index 1 to 2\n",
    "rows = nArr2D[1:3, :]\n",
    "print('Rows from Index 1 to 2 :')\n",
    "print(rows)"
   ]
  },
  {
   "cell_type": "code",
   "execution_count": null,
   "id": "5ed54592",
   "metadata": {},
   "outputs": [],
   "source": [
    "#ndArray[first:last]\n",
    "# Select elements from index 1 to 6\n",
    "subArray = npArray[1:7]"
   ]
  },
  {
   "cell_type": "markdown",
   "id": "5fa10f2f",
   "metadata": {},
   "source": [
    "array([[array([[255, 255, 255,  255, 255, 255],\n",
    "               [255, 255, 255,  255, 255, 255],\n",
    "               [  0,   0, 255,  255, 255, 255],\n",
    "               [255, 255, 255, 255, 255, 255],\n",
    "               [255, 255, 255,  255, 255, 255],\n",
    "               [255, 255, 255,  255, 255, 255]], dtype=uint8),\n",
    "        list([0, 0, 0, 0, 0, 0, 0, 0, 1]),\n",
    "        list([0, 0, -13184, 30461, 1627, -2722, 0, 0, 0, 0, 0, 0, 0, 0, 0, 0, 0, 0, 0, 0])\n",
    "       ]],\n",
    "      dtype=object)"
   ]
  },
  {
   "cell_type": "code",
   "execution_count": null,
   "id": "15b330ce",
   "metadata": {},
   "outputs": [],
   "source": [
    "a = np.array((1,2,3))\n",
    "b = np.array((2,3,4))\n",
    "np.column_stack((a,b))\n"
   ]
  },
  {
   "cell_type": "code",
   "execution_count": null,
   "id": "790431b0",
   "metadata": {},
   "outputs": [],
   "source": [
    "a = numpy.array([1, 2, 3])\n",
    "b = numpy.array([5, 6])\n",
    "np.concatenate((a, b), axis=None)"
   ]
  },
  {
   "cell_type": "code",
   "execution_count": null,
   "id": "53bece6f",
   "metadata": {},
   "outputs": [],
   "source": [
    "numpy.concatenate([a,b])"
   ]
  },
  {
   "cell_type": "code",
   "execution_count": null,
   "id": "6811c639",
   "metadata": {},
   "outputs": [],
   "source": [
    "import numpy as np\n",
    "np_2d = np.array([[1.73, 1.68, 1.71, 1.89, 1.79], \n",
    "                  [65.4, 59.2, 63.6, 88.4, 68.7]])\n",
    "arr = np_2d"
   ]
  },
  {
   "cell_type": "code",
   "execution_count": null,
   "id": "51b2048b",
   "metadata": {},
   "outputs": [],
   "source": [
    "a = np.array([[1, 2, 3], \n",
    "              [4, 5, 6]])\n",
    "\n",
    "b = np.array([[9, 8, 7], \n",
    "              [6, 5, 4]])"
   ]
  },
  {
   "cell_type": "code",
   "execution_count": null,
   "id": "9d432738",
   "metadata": {},
   "outputs": [],
   "source": [
    "c=np.concatenate((a, b))"
   ]
  },
  {
   "cell_type": "code",
   "execution_count": null,
   "id": "e4542089",
   "metadata": {},
   "outputs": [],
   "source": [
    "d=np.vstack((a, b))"
   ]
  },
  {
   "cell_type": "code",
   "execution_count": null,
   "id": "f4b0a9f8",
   "metadata": {},
   "outputs": [],
   "source": [
    "import numpy as np\n",
    "np_3d = np.array([\n",
    "    \n",
    "                list([1, 2 ,3]), \n",
    "                list([4, 5 ,6]),\n",
    "                list([7, 8 ,9]),\n",
    "                list([8, 10 ,11])                \n",
    "                 ]\n",
    "                )\n",
    "arr = np_3d"
   ]
  },
  {
   "cell_type": "code",
   "execution_count": null,
   "id": "1b126cc2",
   "metadata": {},
   "outputs": [],
   "source": [
    "import numpy\n",
    "a = numpy.array([1, 2, 3])\n",
    "b = numpy.array([5, 6])\n"
   ]
  },
  {
   "cell_type": "code",
   "execution_count": null,
   "id": "fbeaa254",
   "metadata": {},
   "outputs": [],
   "source": [
    "numpy.concatenate([a,b])"
   ]
  }
 ],
 "metadata": {
  "kernelspec": {
   "display_name": "Python (pygta5)",
   "language": "python",
   "name": "pygta5"
  },
  "language_info": {
   "codemirror_mode": {
    "name": "ipython",
    "version": 3
   },
   "file_extension": ".py",
   "mimetype": "text/x-python",
   "name": "python",
   "nbconvert_exporter": "python",
   "pygments_lexer": "ipython3",
   "version": "3.7.0"
  }
 },
 "nbformat": 4,
 "nbformat_minor": 5
}
