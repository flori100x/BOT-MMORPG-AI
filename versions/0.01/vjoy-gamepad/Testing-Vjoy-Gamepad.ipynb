{
 "cells": [
  {
   "cell_type": "code",
   "execution_count": 1,
   "id": "eb93b9c6",
   "metadata": {},
   "outputs": [],
   "source": [
    "from vjoy2 import *"
   ]
  },
  {
   "cell_type": "code",
   "execution_count": 2,
   "id": "2eea16ef",
   "metadata": {},
   "outputs": [],
   "source": [
    "ultimate_release()"
   ]
  },
  {
   "cell_type": "code",
   "execution_count": 3,
   "id": "e0a2bf59",
   "metadata": {},
   "outputs": [],
   "source": [
    "#XY Axis up and down\n",
    "#test()"
   ]
  },
  {
   "cell_type": "code",
   "execution_count": 33,
   "id": "0ca85fe0",
   "metadata": {},
   "outputs": [
    {
     "name": "stdout",
     "output_type": "stream",
     "text": [
      "vj opening\n",
      "sending axes\n",
      "vj closing\n"
     ]
    }
   ],
   "source": [
    "#Testing keys\n",
    "test2()"
   ]
  },
  {
   "cell_type": "markdown",
   "id": "7f27450b",
   "metadata": {},
   "source": [
    "### Analizing the important buttons in the gamepad"
   ]
  },
  {
   "cell_type": "code",
   "execution_count": 19,
   "id": "e837329f",
   "metadata": {},
   "outputs": [],
   "source": [
    "ultimate_release()"
   ]
  },
  {
   "cell_type": "markdown",
   "id": "73641e39",
   "metadata": {},
   "source": [
    "<img src=\"img/left-r.jpg\" width=\"700\">"
   ]
  },
  {
   "cell_type": "code",
   "execution_count": 20,
   "id": "19f2ecd2",
   "metadata": {},
   "outputs": [],
   "source": [
    "#RX min\n",
    "look_left()\n"
   ]
  },
  {
   "cell_type": "markdown",
   "id": "25cf1fb1",
   "metadata": {},
   "source": [
    "<img src=\"img/right-r.jpg\" width=\"700\">"
   ]
  },
  {
   "cell_type": "code",
   "execution_count": 21,
   "id": "863b3d46",
   "metadata": {},
   "outputs": [],
   "source": [
    "#RX max\n",
    "look_right()"
   ]
  },
  {
   "cell_type": "markdown",
   "id": "e5d0d144",
   "metadata": {},
   "source": [
    "<img src=\"img/up-r.jpg\" width=\"700\">"
   ]
  },
  {
   "cell_type": "code",
   "execution_count": 22,
   "id": "275f8886",
   "metadata": {},
   "outputs": [],
   "source": [
    "#RY min\n",
    "look_up()"
   ]
  },
  {
   "cell_type": "markdown",
   "id": "bbe4bf79",
   "metadata": {},
   "source": [
    "<img src=\"img/down-r.jpg\" width=\"700\">"
   ]
  },
  {
   "cell_type": "code",
   "execution_count": 23,
   "id": "b0363f8d",
   "metadata": {},
   "outputs": [],
   "source": [
    "#Right\n",
    "game_right()"
   ]
  },
  {
   "cell_type": "code",
   "execution_count": 24,
   "id": "3823f721",
   "metadata": {},
   "outputs": [],
   "source": [
    "#left\n",
    "game_left()"
   ]
  },
  {
   "cell_type": "code",
   "execution_count": 25,
   "id": "016138e7",
   "metadata": {},
   "outputs": [],
   "source": [
    "#up\n",
    "game_up()"
   ]
  },
  {
   "cell_type": "code",
   "execution_count": 26,
   "id": "97d01ada",
   "metadata": {},
   "outputs": [],
   "source": [
    "#left\n",
    "game_down()"
   ]
  },
  {
   "cell_type": "code",
   "execution_count": 27,
   "id": "2b1d2308",
   "metadata": {},
   "outputs": [],
   "source": [
    "ultimate_release()"
   ]
  },
  {
   "cell_type": "code",
   "execution_count": 28,
   "id": "7140abfe",
   "metadata": {},
   "outputs": [],
   "source": [
    "#RY mx\n",
    "look_down()"
   ]
  },
  {
   "cell_type": "code",
   "execution_count": 29,
   "id": "c2d6bab8",
   "metadata": {},
   "outputs": [],
   "source": [
    "#RZ max\n",
    "throttle()"
   ]
  },
  {
   "cell_type": "code",
   "execution_count": 30,
   "id": "02d90c34",
   "metadata": {},
   "outputs": [],
   "source": [
    "#Z max\n",
    "reverse_brake()"
   ]
  },
  {
   "cell_type": "code",
   "execution_count": 31,
   "id": "2d8dcc3e",
   "metadata": {},
   "outputs": [],
   "source": [
    "ultimate_release()"
   ]
  }
 ],
 "metadata": {
  "kernelspec": {
   "display_name": "Python 3",
   "language": "python",
   "name": "python3"
  },
  "language_info": {
   "codemirror_mode": {
    "name": "ipython",
    "version": 3
   },
   "file_extension": ".py",
   "mimetype": "text/x-python",
   "name": "python",
   "nbconvert_exporter": "python",
   "pygments_lexer": "ipython3",
   "version": "3.8.8"
  }
 },
 "nbformat": 4,
 "nbformat_minor": 5
}
