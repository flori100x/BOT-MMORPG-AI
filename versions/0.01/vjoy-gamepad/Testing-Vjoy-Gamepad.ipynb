{
 "cells": [
  {
   "cell_type": "code",
   "execution_count": 5,
   "id": "00408b6f",
   "metadata": {},
   "outputs": [],
   "source": [
    "import pandas as pd"
   ]
  },
  {
   "cell_type": "code",
   "execution_count": 6,
   "id": "eb93b9c6",
   "metadata": {},
   "outputs": [],
   "source": [
    "from vjoy2 import *"
   ]
  },
  {
   "cell_type": "markdown",
   "id": "cdbf236b",
   "metadata": {},
   "source": [
    "Let us define the gamepad keys that we will use\n",
    "\n"
   ]
  },
  {
   "cell_type": "code",
   "execution_count": 208,
   "id": "6c5ae98a",
   "metadata": {},
   "outputs": [],
   "source": [
    "gamepad_real_keys=['LT', 'RT', 'Lx', 'Ly', 'Rx', 'Ry', 'UP', 'DOWN', 'LEFT', 'RIGHT',\n",
    "       'START', 'SELECT', 'L3', 'R3', 'LB', 'RB', 'A', 'B', 'X', 'Y']\n"
   ]
  },
  {
   "cell_type": "code",
   "execution_count": 2,
   "id": "2eea16ef",
   "metadata": {},
   "outputs": [],
   "source": [
    "ultimate_release()"
   ]
  },
  {
   "cell_type": "code",
   "execution_count": 28,
   "id": "e0a2bf59",
   "metadata": {},
   "outputs": [],
   "source": [
    "#Testing keys\n",
    "test1()"
   ]
  },
  {
   "cell_type": "code",
   "execution_count": 26,
   "id": "0ca85fe0",
   "metadata": {},
   "outputs": [
    {
     "name": "stdout",
     "output_type": "stream",
     "text": [
      "vj opening\n",
      "sending axes\n",
      "vj closing\n"
     ]
    }
   ],
   "source": [
    "#XY Axis up and down\n",
    "test2()"
   ]
  },
  {
   "cell_type": "code",
   "execution_count": 3,
   "id": "d580a164",
   "metadata": {},
   "outputs": [],
   "source": [
    "ultimate_release()"
   ]
  },
  {
   "cell_type": "markdown",
   "id": "7f27450b",
   "metadata": {},
   "source": [
    "### Analizing the important buttons in the gamepad"
   ]
  },
  {
   "cell_type": "markdown",
   "id": "8215c519",
   "metadata": {},
   "source": [
    "# Left Thumbstick"
   ]
  },
  {
   "cell_type": "code",
   "execution_count": 4,
   "id": "e837329f",
   "metadata": {},
   "outputs": [],
   "source": [
    "#RX min\n",
    "look_rx_left()"
   ]
  },
  {
   "cell_type": "markdown",
   "id": "73641e39",
   "metadata": {},
   "source": [
    "<img src=\"img/left-r.jpg\" width=\"700\">"
   ]
  },
  {
   "cell_type": "code",
   "execution_count": 27,
   "id": "19f2ecd2",
   "metadata": {},
   "outputs": [],
   "source": [
    "#RX max\n",
    "look_rx_right()\n"
   ]
  },
  {
   "cell_type": "markdown",
   "id": "25cf1fb1",
   "metadata": {},
   "source": [
    "<img src=\"img/right-r.jpg\" width=\"700\">"
   ]
  },
  {
   "cell_type": "code",
   "execution_count": 28,
   "id": "863b3d46",
   "metadata": {},
   "outputs": [],
   "source": [
    "#RY min\n",
    "look_ry_up()"
   ]
  },
  {
   "cell_type": "markdown",
   "id": "e5d0d144",
   "metadata": {},
   "source": [
    "<img src=\"img/up-r.jpg\" width=\"700\">"
   ]
  },
  {
   "cell_type": "code",
   "execution_count": 29,
   "id": "275f8886",
   "metadata": {},
   "outputs": [],
   "source": [
    "#RY max\n",
    "look_ry_down()"
   ]
  },
  {
   "cell_type": "markdown",
   "id": "bbe4bf79",
   "metadata": {},
   "source": [
    "<img src=\"img/down-r.jpg\" width=\"700\">"
   ]
  },
  {
   "cell_type": "code",
   "execution_count": 30,
   "id": "6e771a82",
   "metadata": {},
   "outputs": [],
   "source": [
    "ultimate_release()"
   ]
  },
  {
   "cell_type": "markdown",
   "id": "04bff53b",
   "metadata": {},
   "source": [
    "    \n",
    "#   Right Thumbstick  "
   ]
  },
  {
   "cell_type": "code",
   "execution_count": 31,
   "id": "3823f721",
   "metadata": {},
   "outputs": [],
   "source": [
    "#left\n",
    "game_lx_left()"
   ]
  },
  {
   "cell_type": "code",
   "execution_count": 32,
   "id": "7443654e",
   "metadata": {},
   "outputs": [],
   "source": [
    "#right\n",
    "game_lx_right()"
   ]
  },
  {
   "cell_type": "code",
   "execution_count": 33,
   "id": "016138e7",
   "metadata": {},
   "outputs": [],
   "source": [
    "#up\n",
    "game_ly_up()"
   ]
  },
  {
   "cell_type": "code",
   "execution_count": 34,
   "id": "97d01ada",
   "metadata": {},
   "outputs": [],
   "source": [
    "#left\n",
    "game_ly_down()"
   ]
  },
  {
   "cell_type": "code",
   "execution_count": 33,
   "id": "2b1d2308",
   "metadata": {},
   "outputs": [],
   "source": [
    "ultimate_release()"
   ]
  },
  {
   "cell_type": "markdown",
   "id": "cefb9691",
   "metadata": {},
   "source": [
    "# LT and RT  "
   ]
  },
  {
   "cell_type": "code",
   "execution_count": 14,
   "id": "0a665c5b",
   "metadata": {},
   "outputs": [],
   "source": [
    "#Z max\n",
    "gamepad_lt()"
   ]
  },
  {
   "cell_type": "code",
   "execution_count": 19,
   "id": "01182689",
   "metadata": {},
   "outputs": [],
   "source": [
    "#Z min\n",
    "gamepad_rt()"
   ]
  },
  {
   "cell_type": "code",
   "execution_count": 20,
   "id": "3b2f5b49",
   "metadata": {},
   "outputs": [],
   "source": [
    "ultimate_release()"
   ]
  },
  {
   "cell_type": "markdown",
   "id": "9722e012",
   "metadata": {},
   "source": [
    "\n",
    "# RZ"
   ]
  },
  {
   "cell_type": "code",
   "execution_count": 23,
   "id": "c2d6bab8",
   "metadata": {},
   "outputs": [],
   "source": [
    "#RZ max\n",
    "throttle_max()"
   ]
  },
  {
   "cell_type": "code",
   "execution_count": 24,
   "id": "02d90c34",
   "metadata": {},
   "outputs": [],
   "source": [
    "#RZ max\n",
    "throttle_min()"
   ]
  },
  {
   "cell_type": "markdown",
   "id": "b4a2074c",
   "metadata": {},
   "source": [
    "# Buttons A, B, X, Y,"
   ]
  },
  {
   "cell_type": "code",
   "execution_count": 111,
   "id": "f0dcec1c",
   "metadata": {},
   "outputs": [],
   "source": [
    "#Button 1 = A    \n",
    "def button_A():\n",
    "    vj.open()\n",
    "    btn = 1\n",
    "    vj.sendButtons(btn)\n",
    "    time.sleep(0.25)\n",
    "    vj.sendButtons(0)\n",
    "    vj.close() "
   ]
  },
  {
   "cell_type": "code",
   "execution_count": 2,
   "id": "15a2f854",
   "metadata": {},
   "outputs": [],
   "source": [
    "button_A()"
   ]
  },
  {
   "cell_type": "code",
   "execution_count": 113,
   "id": "74d79f78",
   "metadata": {},
   "outputs": [],
   "source": [
    "#Button 2 = B    \n",
    "def button_B():\n",
    "    vj.open()\n",
    "    btn = 2\n",
    "    vj.sendButtons(btn)\n",
    "    time.sleep(0.25)\n",
    "    vj.sendButtons(0)\n",
    "    vj.close() "
   ]
  },
  {
   "cell_type": "code",
   "execution_count": 3,
   "id": "33d7ae57",
   "metadata": {},
   "outputs": [],
   "source": [
    "button_B()"
   ]
  },
  {
   "cell_type": "code",
   "execution_count": 115,
   "id": "cc7f7a71",
   "metadata": {},
   "outputs": [],
   "source": [
    "#Button 3 = AB   \n",
    "def button_AB():\n",
    "    vj.open()\n",
    "    btn = 3\n",
    "    vj.sendButtons(btn)\n",
    "    time.sleep(0.25)\n",
    "    vj.sendButtons(0)\n",
    "    vj.close() "
   ]
  },
  {
   "cell_type": "code",
   "execution_count": 4,
   "id": "5ade1ab7",
   "metadata": {},
   "outputs": [],
   "source": [
    "button_AB()"
   ]
  },
  {
   "cell_type": "code",
   "execution_count": 117,
   "id": "7cfaa2b2",
   "metadata": {},
   "outputs": [],
   "source": [
    "#Button 4 = X   \n",
    "def button_X():\n",
    "    vj.open()\n",
    "    btn = 4\n",
    "    vj.sendButtons(btn)\n",
    "    time.sleep(0.25)\n",
    "    vj.sendButtons(0)\n",
    "    vj.close() "
   ]
  },
  {
   "cell_type": "code",
   "execution_count": 5,
   "id": "2f989ab3",
   "metadata": {},
   "outputs": [],
   "source": [
    "button_X()"
   ]
  },
  {
   "cell_type": "code",
   "execution_count": 119,
   "id": "b4c7e8a3",
   "metadata": {},
   "outputs": [],
   "source": [
    "#Button 5 = AX   \n",
    "def button_AX():\n",
    "    vj.open()\n",
    "    btn = 5\n",
    "    vj.sendButtons(btn)\n",
    "    time.sleep(0.25)\n",
    "    vj.sendButtons(0)\n",
    "    vj.close() "
   ]
  },
  {
   "cell_type": "code",
   "execution_count": 6,
   "id": "d39b88f4",
   "metadata": {},
   "outputs": [],
   "source": [
    "button_AX()"
   ]
  },
  {
   "cell_type": "code",
   "execution_count": 121,
   "id": "56e23c6e",
   "metadata": {},
   "outputs": [],
   "source": [
    "#Button 6 = BX   \n",
    "def button_BX():\n",
    "    vj.open()\n",
    "    btn = 6\n",
    "    vj.sendButtons(btn)\n",
    "    time.sleep(0.25)\n",
    "    vj.sendButtons(0)\n",
    "    vj.close() "
   ]
  },
  {
   "cell_type": "code",
   "execution_count": 7,
   "id": "95648cc5",
   "metadata": {},
   "outputs": [],
   "source": [
    "button_BX()"
   ]
  },
  {
   "cell_type": "code",
   "execution_count": 123,
   "id": "fd0c0571",
   "metadata": {},
   "outputs": [],
   "source": [
    "#Button 7 = ABX  \n",
    "def button_ABX():\n",
    "    vj.open()\n",
    "    btn = 7\n",
    "    vj.sendButtons(btn)\n",
    "    time.sleep(0.25)\n",
    "    vj.sendButtons(0)\n",
    "    vj.close() "
   ]
  },
  {
   "cell_type": "code",
   "execution_count": 8,
   "id": "511951c9",
   "metadata": {},
   "outputs": [],
   "source": [
    "button_ABX()"
   ]
  },
  {
   "cell_type": "code",
   "execution_count": 129,
   "id": "c45e1b29",
   "metadata": {},
   "outputs": [],
   "source": [
    "#Button 8 = Y  \n",
    "def button_Y():\n",
    "    vj.open()\n",
    "    btn = 8\n",
    "    vj.sendButtons(btn)\n",
    "    time.sleep(0.25)\n",
    "    vj.sendButtons(0)\n",
    "    vj.close() "
   ]
  },
  {
   "cell_type": "code",
   "execution_count": 9,
   "id": "2494589f",
   "metadata": {},
   "outputs": [],
   "source": [
    "button_Y()"
   ]
  },
  {
   "cell_type": "code",
   "execution_count": 145,
   "id": "45f35985",
   "metadata": {},
   "outputs": [],
   "source": [
    "#Button 9 = AY  \n",
    "def button_AY():\n",
    "    vj.open()\n",
    "    btn = 9\n",
    "    vj.sendButtons(btn)\n",
    "    time.sleep(0.25)\n",
    "    vj.sendButtons(0)\n",
    "    vj.close() "
   ]
  },
  {
   "cell_type": "code",
   "execution_count": 10,
   "id": "3108c3ee",
   "metadata": {},
   "outputs": [],
   "source": [
    "button_AY()"
   ]
  },
  {
   "cell_type": "code",
   "execution_count": 155,
   "id": "5bfed7b9",
   "metadata": {},
   "outputs": [],
   "source": [
    "#Button 10 = BY  \n",
    "def button_BY():\n",
    "    vj.open()\n",
    "    btn = 10\n",
    "    vj.sendButtons(btn)\n",
    "    time.sleep(0.25)\n",
    "    vj.sendButtons(0)\n",
    "    vj.close() "
   ]
  },
  {
   "cell_type": "code",
   "execution_count": 11,
   "id": "3ab2b654",
   "metadata": {},
   "outputs": [],
   "source": [
    "button_BY()"
   ]
  },
  {
   "cell_type": "code",
   "execution_count": 160,
   "id": "dbb1e7d9",
   "metadata": {},
   "outputs": [],
   "source": [
    "#Button 11 = ABY  \n",
    "def button_ABY():\n",
    "    vj.open()\n",
    "    btn = 11\n",
    "    vj.sendButtons(btn)\n",
    "    time.sleep(0.25)\n",
    "    vj.sendButtons(0)\n",
    "    vj.close() "
   ]
  },
  {
   "cell_type": "code",
   "execution_count": 12,
   "id": "cfa16308",
   "metadata": {},
   "outputs": [],
   "source": [
    "button_ABY()"
   ]
  },
  {
   "cell_type": "code",
   "execution_count": 168,
   "id": "6084a987",
   "metadata": {},
   "outputs": [],
   "source": [
    "#Button 12 = XY  \n",
    "def button_XY():\n",
    "    vj.open()\n",
    "    btn = 12\n",
    "    vj.sendButtons(btn)\n",
    "    time.sleep(0.25)\n",
    "    vj.sendButtons(0)\n",
    "    vj.close() "
   ]
  },
  {
   "cell_type": "code",
   "execution_count": 13,
   "id": "86c5fbed",
   "metadata": {},
   "outputs": [],
   "source": [
    "button_XY()"
   ]
  },
  {
   "cell_type": "code",
   "execution_count": 180,
   "id": "845866a1",
   "metadata": {},
   "outputs": [],
   "source": [
    "#Button 13 = AXY  \n",
    "def button_AXY():\n",
    "    vj.open()\n",
    "    btn = 13\n",
    "    vj.sendButtons(btn)\n",
    "    time.sleep(0.25)\n",
    "    vj.sendButtons(0)\n",
    "    vj.close() "
   ]
  },
  {
   "cell_type": "code",
   "execution_count": 14,
   "id": "80f104a3",
   "metadata": {},
   "outputs": [],
   "source": [
    "button_AXY()"
   ]
  },
  {
   "cell_type": "code",
   "execution_count": 185,
   "id": "12110565",
   "metadata": {},
   "outputs": [],
   "source": [
    "#Button 14 = BXY  \n",
    "def button_BXY():\n",
    "    vj.open()\n",
    "    btn = 14\n",
    "    vj.sendButtons(btn)\n",
    "    time.sleep(0.25)\n",
    "    vj.sendButtons(0)\n",
    "    vj.close() "
   ]
  },
  {
   "cell_type": "code",
   "execution_count": 15,
   "id": "67ee8e70",
   "metadata": {},
   "outputs": [],
   "source": [
    "button_BXY()"
   ]
  },
  {
   "cell_type": "code",
   "execution_count": 203,
   "id": "761b5a4e",
   "metadata": {},
   "outputs": [],
   "source": [
    "#Button 15 = ABXY  \n",
    "def button_ABXY():\n",
    "    vj.open()\n",
    "    btn = 15\n",
    "    vj.sendButtons(btn)\n",
    "    time.sleep(0.25)\n",
    "    vj.sendButtons(0)\n",
    "    vj.close() "
   ]
  },
  {
   "cell_type": "code",
   "execution_count": 17,
   "id": "e1b44986",
   "metadata": {},
   "outputs": [],
   "source": [
    "button_ABXY()"
   ]
  },
  {
   "cell_type": "markdown",
   "id": "117ec655",
   "metadata": {},
   "source": [
    "We are going to test all the keys ,\n",
    "we define all the modes, 0 to 28"
   ]
  },
  {
   "cell_type": "code",
   "execution_count": 16,
   "id": "fb45e91d",
   "metadata": {},
   "outputs": [],
   "source": [
    "from directkeys import PressKey,ReleaseKey, W, A, S, D\n",
    "import random"
   ]
  },
  {
   "cell_type": "code",
   "execution_count": 12,
   "id": "24002013",
   "metadata": {},
   "outputs": [],
   "source": [
    "t_time = 0.25\n",
    "def straight():\n",
    "    PressKey(W)\n",
    "    ReleaseKey(A)\n",
    "    ReleaseKey(D)\n",
    "    ReleaseKey(S)\n",
    "\n",
    "def left():\n",
    "    if random.randrange(0,3) == 1:\n",
    "        PressKey(W)\n",
    "    else:\n",
    "        ReleaseKey(W)\n",
    "    PressKey(A)\n",
    "    ReleaseKey(S)\n",
    "    ReleaseKey(D)\n",
    "    #ReleaseKey(S)\n",
    "\n",
    "def right():\n",
    "    if random.randrange(0,3) == 1:\n",
    "        PressKey(W)\n",
    "    else:\n",
    "        ReleaseKey(W)\n",
    "    PressKey(D)\n",
    "    ReleaseKey(A)\n",
    "    ReleaseKey(S)\n",
    "    \n",
    "def reverse():\n",
    "    PressKey(S)\n",
    "    ReleaseKey(A)\n",
    "    ReleaseKey(W)\n",
    "    ReleaseKey(D)\n",
    "\n",
    "\n",
    "def forward_left():\n",
    "    PressKey(W)\n",
    "    PressKey(A)\n",
    "    ReleaseKey(D)\n",
    "    ReleaseKey(S)\n",
    "    \n",
    "    \n",
    "def forward_right():\n",
    "    PressKey(W)\n",
    "    PressKey(D)\n",
    "    ReleaseKey(A)\n",
    "    ReleaseKey(S)\n",
    "    \n",
    "def reverse_left():\n",
    "    PressKey(S)\n",
    "    PressKey(A)\n",
    "    ReleaseKey(W)\n",
    "    ReleaseKey(D)\n",
    "    \n",
    "def reverse_right():\n",
    "    PressKey(S)\n",
    "    PressKey(D)\n",
    "    ReleaseKey(W)\n",
    "    ReleaseKey(A)\n",
    "\n",
    "def no_keys():\n",
    "    if random.randrange(0,3) == 1:\n",
    "        PressKey(W)\n",
    "    else:\n",
    "        ReleaseKey(W)\n",
    "    ReleaseKey(A)\n",
    "    ReleaseKey(S)\n",
    "    ReleaseKey(D)"
   ]
  },
  {
   "cell_type": "code",
   "execution_count": 44,
   "id": "2225da8c",
   "metadata": {},
   "outputs": [],
   "source": [
    "def action(mode_choice):\n",
    "    #mode_choise : Input number from 0 to 28\n",
    "    #KEYBOARD INPUT\n",
    "    if mode_choice == 0:\n",
    "        straight()\n",
    "        choice_picked = 'straight'\n",
    "    elif mode_choice == 1:\n",
    "        reverse()\n",
    "        choice_picked = 'reverse'\n",
    "    elif mode_choice == 2:\n",
    "        left()\n",
    "        choice_picked = 'left'\n",
    "    elif mode_choice == 3:\n",
    "        right()\n",
    "        choice_picked = 'right'\n",
    "    elif mode_choice == 4:\n",
    "        forward_left()\n",
    "        choice_picked = 'forward+left'\n",
    "    elif mode_choice == 5:\n",
    "        forward_right()\n",
    "        choice_picked = 'forward+right'\n",
    "    elif mode_choice == 6:\n",
    "        reverse_left()\n",
    "        choice_picked = 'reverse+left'\n",
    "    elif mode_choice == 7:\n",
    "        reverse_right()\n",
    "        choice_picked = 'reverse+right'\n",
    "    elif mode_choice == 8:\n",
    "        no_keys()\n",
    "        choice_picked = 'nokeys'\n",
    "    #GAMEPAD INPUT                \n",
    "    elif mode_choice == 9:\n",
    "        gamepad_lt()\n",
    "        choice_picked ='LT'\n",
    "    elif mode_choice == 10:\n",
    "        gamepad_rt()\n",
    "        choice_picked ='RT'\n",
    "    elif mode_choice == 11:\n",
    "        if val_prediction < 0:\n",
    "            game_lx_left()\n",
    "            choice_picked ='Lx'\n",
    "        else:\n",
    "            game_lx_right()\n",
    "            choice_picked ='Lx'\n",
    "    elif mode_choice == 12:\n",
    "        if val_prediction < 0:\n",
    "            game_ly_down()\n",
    "            choice_picked ='Ly'\n",
    "        else:\n",
    "            game_ly_up()\n",
    "            choice_picked ='Ly'   \n",
    "    elif mode_choice == 13:\n",
    "        if val_prediction < 0:\n",
    "            look_rx_left()\n",
    "            choice_picked ='Rx'\n",
    "        else:\n",
    "            look_rx_right()\n",
    "            choice_picked ='Rx'  \n",
    "    elif mode_choice == 14:\n",
    "        if val_prediction < 0:\n",
    "            look_ry_down()\n",
    "            choice_picked ='Ry'\n",
    "        else:\n",
    "            look_ry_up()\n",
    "            choice_picked ='Ry'                 \n",
    "    elif mode_choice == 15:\n",
    "        #To be defined\n",
    "        choice_picked ='UP'\n",
    "    elif mode_choice == 16:\n",
    "        #To be defined\n",
    "        choice_picked ='DOWN'               \n",
    "    elif mode_choice == 17:\n",
    "        #To be defined\n",
    "        choice_picked ='LEFT'\n",
    "    elif mode_choice == 18:\n",
    "        #To be defined\n",
    "        choice_picked ='RIGHT'\n",
    "    elif mode_choice == 19:\n",
    "        #To be defined\n",
    "        choice_picked ='START'\n",
    "    elif mode_choice == 20:\n",
    "        #To be defined\n",
    "        choice_picked ='SELECT'\n",
    "    elif mode_choice == 21:\n",
    "        #To be defined\n",
    "        choice_picked ='L3'\n",
    "    elif mode_choice == 22:\n",
    "        #To be defined\n",
    "        choice_picked ='R3'\n",
    "    elif mode_choice == 23:\n",
    "        #To be defined\n",
    "        choice_picked ='LB'\n",
    "    elif mode_choice == 24:\n",
    "        #To be defined\n",
    "        choice_picked ='RB'\n",
    "    elif mode_choice == 25:\n",
    "        button_A()\n",
    "        choice_picked ='A'\n",
    "    elif mode_choice == 26:\n",
    "        button_B()\n",
    "        choice_picked ='B'\n",
    "    elif mode_choice == 27:\n",
    "        button_X()\n",
    "        choice_picked ='X'\n",
    "    elif mode_choice == 28:\n",
    "        button_Y()\n",
    "        choice_picked ='Y'\n",
    "    print(choice_picked)"
   ]
  },
  {
   "cell_type": "code",
   "execution_count": 48,
   "id": "232fc0b2",
   "metadata": {},
   "outputs": [],
   "source": [
    "val_prediction=-0.4799"
   ]
  },
  {
   "cell_type": "code",
   "execution_count": 49,
   "id": "785072bb",
   "metadata": {},
   "outputs": [
    {
     "data": {
      "text/plain": [
       "range(2, 29)"
      ]
     },
     "execution_count": 49,
     "metadata": {},
     "output_type": "execute_result"
    }
   ],
   "source": [
    "range(2,29)"
   ]
  },
  {
   "cell_type": "code",
   "execution_count": 50,
   "id": "42a33b2d",
   "metadata": {},
   "outputs": [
    {
     "name": "stdout",
     "output_type": "stream",
     "text": [
      "9\n",
      "LT\n",
      "10\n",
      "RT\n",
      "11\n",
      "Lx\n",
      "12\n",
      "Ly\n",
      "13\n",
      "Rx\n"
     ]
    }
   ],
   "source": [
    "for x in range(9,14):\n",
    "    mode_choice=x\n",
    "    print(mode_choice)\n",
    "    action(mode_choice)\n",
    "    time.sleep(1)\n",
    "    ultimate_release()"
   ]
  },
  {
   "cell_type": "code",
   "execution_count": null,
   "id": "573e4197",
   "metadata": {},
   "outputs": [],
   "source": []
  },
  {
   "cell_type": "code",
   "execution_count": null,
   "id": "4f437812",
   "metadata": {},
   "outputs": [],
   "source": []
  },
  {
   "cell_type": "code",
   "execution_count": null,
   "id": "ba845dec",
   "metadata": {},
   "outputs": [],
   "source": []
  },
  {
   "cell_type": "code",
   "execution_count": null,
   "id": "936b42a0",
   "metadata": {},
   "outputs": [],
   "source": []
  },
  {
   "cell_type": "code",
   "execution_count": null,
   "id": "3e1523a8",
   "metadata": {},
   "outputs": [],
   "source": []
  },
  {
   "cell_type": "code",
   "execution_count": null,
   "id": "ceb448be",
   "metadata": {},
   "outputs": [],
   "source": []
  },
  {
   "cell_type": "code",
   "execution_count": null,
   "id": "b3e3d385",
   "metadata": {},
   "outputs": [],
   "source": []
  },
  {
   "cell_type": "code",
   "execution_count": null,
   "id": "5d9f439e",
   "metadata": {},
   "outputs": [],
   "source": []
  },
  {
   "cell_type": "code",
   "execution_count": null,
   "id": "d22aecce",
   "metadata": {},
   "outputs": [],
   "source": []
  },
  {
   "cell_type": "code",
   "execution_count": null,
   "id": "96f33f3e",
   "metadata": {},
   "outputs": [],
   "source": []
  }
 ],
 "metadata": {
  "kernelspec": {
   "display_name": "Python 3",
   "language": "python",
   "name": "python3"
  },
  "language_info": {
   "codemirror_mode": {
    "name": "ipython",
    "version": 3
   },
   "file_extension": ".py",
   "mimetype": "text/x-python",
   "name": "python",
   "nbconvert_exporter": "python",
   "pygments_lexer": "ipython3",
   "version": "3.8.8"
  }
 },
 "nbformat": 4,
 "nbformat_minor": 5
}
