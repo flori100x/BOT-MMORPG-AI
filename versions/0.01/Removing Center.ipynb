{
 "cells": [
  {
   "cell_type": "markdown",
   "id": "b3b37796",
   "metadata": {},
   "source": [
    "https://answers.opencv.org/question/223216/python-eliminate-small-contours/"
   ]
  },
  {
   "cell_type": "markdown",
   "id": "ce4cbb0b",
   "metadata": {},
   "source": [
    "https://www.pyimagesearch.com/2015/02/09/removing-contours-image-using-python-opencv/"
   ]
  },
  {
   "cell_type": "code",
   "execution_count": 3,
   "id": "3eefa94d",
   "metadata": {},
   "outputs": [
    {
     "ename": "ModuleNotFoundError",
     "evalue": "No module named 'imutils'",
     "output_type": "error",
     "traceback": [
      "\u001b[1;31m---------------------------------------------------------------------------\u001b[0m",
      "\u001b[1;31mModuleNotFoundError\u001b[0m                       Traceback (most recent call last)",
      "\u001b[1;32m<ipython-input-3-433b82158b67>\u001b[0m in \u001b[0;36m<module>\u001b[1;34m\u001b[0m\n\u001b[0;32m      1\u001b[0m \u001b[1;31m# import the necessary packages\u001b[0m\u001b[1;33m\u001b[0m\u001b[1;33m\u001b[0m\u001b[0m\n\u001b[0;32m      2\u001b[0m \u001b[1;32mimport\u001b[0m \u001b[0mnumpy\u001b[0m \u001b[1;32mas\u001b[0m \u001b[0mnp\u001b[0m\u001b[1;33m\u001b[0m\u001b[0m\n\u001b[1;32m----> 3\u001b[1;33m \u001b[1;32mimport\u001b[0m \u001b[0mimutils\u001b[0m\u001b[1;33m\u001b[0m\u001b[0m\n\u001b[0m\u001b[0;32m      4\u001b[0m \u001b[1;32mimport\u001b[0m \u001b[0mcv2\u001b[0m\u001b[1;33m\u001b[0m\u001b[0m\n\u001b[0;32m      5\u001b[0m \u001b[1;32mdef\u001b[0m \u001b[0mis_contour_bad\u001b[0m\u001b[1;33m(\u001b[0m\u001b[0mc\u001b[0m\u001b[1;33m)\u001b[0m\u001b[1;33m:\u001b[0m\u001b[1;33m\u001b[0m\u001b[0m\n",
      "\u001b[1;31mModuleNotFoundError\u001b[0m: No module named 'imutils'"
     ]
    }
   ],
   "source": [
    "# import the necessary packages\n",
    "import numpy as np\n",
    "import imutils\n",
    "import cv2\n",
    "def is_contour_bad(c):\n",
    "\t# approximate the contour\n",
    "\tperi = cv2.arcLength(c, True)\n",
    "\tapprox = cv2.approxPolyDP(c, 0.02 * peri, True)\n",
    "\t# the contour is 'bad' if it is not a rectangle\n",
    "\treturn not len(approx) == 4"
   ]
  },
  {
   "cell_type": "code",
   "execution_count": 2,
   "id": "7830f530",
   "metadata": {},
   "outputs": [
    {
     "ename": "NameError",
     "evalue": "name 'cv2' is not defined",
     "output_type": "error",
     "traceback": [
      "\u001b[1;31m---------------------------------------------------------------------------\u001b[0m",
      "\u001b[1;31mNameError\u001b[0m                                 Traceback (most recent call last)",
      "\u001b[1;32m<ipython-input-2-ad158e60f721>\u001b[0m in \u001b[0;36m<module>\u001b[1;34m\u001b[0m\n\u001b[0;32m      2\u001b[0m \u001b[1;31m# load the shapes image, convert it to grayscale, and edge edges in\u001b[0m\u001b[1;33m\u001b[0m\u001b[1;33m\u001b[0m\u001b[0m\n\u001b[0;32m      3\u001b[0m \u001b[1;31m# the image\u001b[0m\u001b[1;33m\u001b[0m\u001b[1;33m\u001b[0m\u001b[0m\n\u001b[1;32m----> 4\u001b[1;33m \u001b[0mimage\u001b[0m \u001b[1;33m=\u001b[0m \u001b[0mcv2\u001b[0m\u001b[1;33m.\u001b[0m\u001b[0mimread\u001b[0m\u001b[1;33m(\u001b[0m\u001b[1;34m\"Image_2.png\"\u001b[0m\u001b[1;33m)\u001b[0m\u001b[1;33m\u001b[0m\u001b[0m\n\u001b[0m\u001b[0;32m      5\u001b[0m \u001b[0mgray\u001b[0m \u001b[1;33m=\u001b[0m \u001b[0mcv2\u001b[0m\u001b[1;33m.\u001b[0m\u001b[0mcvtColor\u001b[0m\u001b[1;33m(\u001b[0m\u001b[0mimage\u001b[0m\u001b[1;33m,\u001b[0m \u001b[0mcv2\u001b[0m\u001b[1;33m.\u001b[0m\u001b[0mCOLOR_BGR2GRAY\u001b[0m\u001b[1;33m)\u001b[0m\u001b[1;33m\u001b[0m\u001b[0m\n\u001b[0;32m      6\u001b[0m \u001b[0medged\u001b[0m \u001b[1;33m=\u001b[0m \u001b[0mcv2\u001b[0m\u001b[1;33m.\u001b[0m\u001b[0mCanny\u001b[0m\u001b[1;33m(\u001b[0m\u001b[0mgray\u001b[0m\u001b[1;33m,\u001b[0m \u001b[1;36m50\u001b[0m\u001b[1;33m,\u001b[0m \u001b[1;36m100\u001b[0m\u001b[1;33m)\u001b[0m\u001b[1;33m\u001b[0m\u001b[0m\n",
      "\u001b[1;31mNameError\u001b[0m: name 'cv2' is not defined"
     ]
    }
   ],
   "source": [
    "#Removing contours from an image using Python and OpenCV\n",
    "# load the shapes image, convert it to grayscale, and edge edges in\n",
    "# the image\n",
    "image = cv2.imread(\"Image_2.png\")\n",
    "gray = cv2.cvtColor(image, cv2.COLOR_BGR2GRAY)\n",
    "edged = cv2.Canny(gray, 50, 100)\n",
    "cv2.imshow(\"Original\", image)\n",
    "# find contours in the image and initialize the mask that will be\n",
    "# used to remove the bad contours\n",
    "cnts = cv2.findContours(edged.copy(), cv2.RETR_LIST, cv2.CHAIN_APPROX_SIMPLE)\n",
    "cnts = imutils.grab_contours(cnts)\n",
    "mask = np.ones(image.shape[:2], dtype=\"uint8\") * 255\n",
    "# loop over the contours\n",
    "for c in cnts:\n",
    "\t# if the contour is bad, draw it on the mask\n",
    "\tif is_contour_bad(c):\n",
    "\t\tcv2.drawContours(mask, [c], -1, 0, -1)\n",
    "# remove the contours from the image and show the resulting images\n",
    "image = cv2.bitwise_and(image, image, mask=mask)\n",
    "cv2.imshow(\"Mask\", mask)\n",
    "cv2.imshow(\"After\", image)\n",
    "cv2.waitKey(0)"
   ]
  },
  {
   "cell_type": "code",
   "execution_count": null,
   "id": "ebc68d89",
   "metadata": {},
   "outputs": [],
   "source": [
    "https://stackoverflow.com/questions/61764914/remove-mask-circle-from-image-using-opencv-python"
   ]
  },
  {
   "cell_type": "markdown",
   "id": "8ed4ef0d",
   "metadata": {},
   "source": [
    "2\n",
    "\n",
    "If I understand the problem, here is one way to do it in Python/OpenCV\n",
    "\n",
    "- Read the input\n",
    "- Convert to gray\n",
    "- Threshold\n",
    "- Apply morphology to clean it as a mask\n",
    "- Invert mask and make 3 channel\n",
    "- Apply mask to input to make circle black\n",
    "- Save the results"
   ]
  },
  {
   "cell_type": "code",
   "execution_count": 4,
   "id": "dd0040cf",
   "metadata": {},
   "outputs": [],
   "source": [
    "import cv2\n",
    "import numpy as np\n",
    "\n",
    "# load image\n",
    "img = cv2.imread('white_circle.jpg')\n",
    "\n",
    "# convert to gray\n",
    "gray = cv2.cvtColor(img, cv2.COLOR_BGR2GRAY)\n",
    "\n",
    "# threshold input image\n",
    "thresh = cv2.threshold(gray, 0, 255, cv2.THRESH_BINARY+cv2.THRESH_OTSU)[1]"
   ]
  },
  {
   "cell_type": "code",
   "execution_count": 5,
   "id": "c547e048",
   "metadata": {},
   "outputs": [],
   "source": [
    "\n",
    "# apply morphology open and close and dilate\n",
    "kernel = cv2.getStructuringElement(cv2.MORPH_ELLIPSE, (11,11))\n",
    "mask = cv2.morphologyEx(thresh, cv2.MORPH_OPEN, kernel)\n",
    "kernel = cv2.getStructuringElement(cv2.MORPH_ELLIPSE, (55,55))\n",
    "mask = cv2.morphologyEx(mask, cv2.MORPH_CLOSE, kernel)\n",
    "kernel = cv2.getStructuringElement(cv2.MORPH_ELLIPSE, (3,3))\n",
    "mask = cv2.morphologyEx(mask, cv2.MORPH_DILATE, kernel)"
   ]
  },
  {
   "cell_type": "code",
   "execution_count": 6,
   "id": "e8e70517",
   "metadata": {},
   "outputs": [],
   "source": [
    "# invert mask\n",
    "mask = 255 -mask\n",
    "\n",
    "# make mask 3 channel\n",
    "mask = cv2.merge([mask,mask,mask])\n",
    "\n",
    "# apply mask to image to blacken circle area\n",
    "result = img.copy()\n",
    "result = cv2.bitwise_and(img, mask)\n",
    "\n",
    "# save resulting masked image\n",
    "cv2.imwrite('white_circle_thresh.jpg', thresh)\n",
    "cv2.imwrite('white_circle_mask.jpg', mask)\n",
    "cv2.imwrite('white_circle_masked.jpg', result)\n",
    "\n",
    "# display result, though it won't show transparency\n",
    "cv2.imshow(\"thresh\", thresh)\n",
    "cv2.imshow(\"mask\", mask)\n",
    "cv2.imshow(\"result\", result)\n",
    "cv2.waitKey(0)\n",
    "cv2.destroyAllWindows()"
   ]
  },
  {
   "cell_type": "code",
   "execution_count": null,
   "id": "674bd8e2",
   "metadata": {},
   "outputs": [],
   "source": [
    "q"
   ]
  }
 ],
 "metadata": {
  "kernelspec": {
   "display_name": "Python (pygta5)",
   "language": "python",
   "name": "pygta5"
  },
  "language_info": {
   "codemirror_mode": {
    "name": "ipython",
    "version": 3
   },
   "file_extension": ".py",
   "mimetype": "text/x-python",
   "name": "python",
   "nbconvert_exporter": "python",
   "pygments_lexer": "ipython3",
   "version": "3.7.0"
  }
 },
 "nbformat": 4,
 "nbformat_minor": 5
}
