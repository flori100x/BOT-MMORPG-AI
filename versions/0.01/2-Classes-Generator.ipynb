{
 "cells": [
  {
   "cell_type": "markdown",
   "id": "87a0151a",
   "metadata": {},
   "source": [
    "# Classes Generator by Folder"
   ]
  },
  {
   "cell_type": "markdown",
   "id": "e69a814e",
   "metadata": {},
   "source": [
    "In this notebook we are going to clean the input file and separate the pictures by classes in their respective directory.\n",
    "\n",
    "I will do this only to test another strategy to create a new neural network in keras."
   ]
  },
  {
   "cell_type": "markdown",
   "id": "6bfe3c50",
   "metadata": {},
   "source": [
    "The purpose of this section is select the image arrays that corresponds to the selected input choosed in the previous section."
   ]
  },
  {
   "cell_type": "code",
   "execution_count": 22,
   "id": "c6004854",
   "metadata": {},
   "outputs": [
    {
     "name": "stdout",
     "output_type": "stream",
     "text": [
      "WARNING:tensorflow:From C:\\Users\\rusla\\AppData\\Roaming\\Python\\Python37\\site-packages\\tensorflow\\python\\compat\\v2_compat.py:107: disable_resource_variables (from tensorflow.python.ops.variable_scope) is deprecated and will be removed in a future version.\n",
      "Instructions for updating:\n",
      "non-resource variables are not supported in the long term\n"
     ]
    }
   ],
   "source": [
    "import numpy as np\n",
    "from grabscreen import grab_screen\n",
    "import cv2\n",
    "#import tdqm\n",
    "import os\n",
    "import pandas as pd\n",
    "#from tqdm import tqdm\n",
    "from collections import deque\n",
    "from models import inception_v3 as googlenet\n",
    "from models import alexnet2\n",
    "from random import shuffle\n",
    "import matplotlib.pyplot as plt\n",
    "from sklearn.model_selection import train_test_split\n",
    "WIDTH = 480\n",
    "HEIGHT = 270\n",
    "\n",
    "\n",
    "from IPython.display import clear_output, Image, display\n",
    "import PIL.Image\n",
    "from matplotlib import pyplot as plt\n",
    "\n",
    "def showarray(a, fmt='jpeg'):\n",
    "    a_n = np.uint8(np.clip(a, 0, 255))\n",
    "    try :\n",
    "        f = io.BytesIO()\n",
    "        PIL.Image.fromarray(a_n).save(f, fmt)\n",
    "        display(Image(data=f.getvalue()))\n",
    "    except:\n",
    "        #a = a[:, :, ::-1] # convert image from RGB (skimage) to BGR (opencv)\n",
    "        # display image   \n",
    "        plt.imshow(a)\n",
    "        plt.show()  \n",
    "\n",
    "def df_to_numpy_input(df_input,index): \n",
    "    # flattening a 2d numpy array\n",
    "    # into 1d array\n",
    "    # and remove dtype at the end of numpy array\n",
    "    lista=df_input.loc[[index]].values.tolist()\n",
    "    arr=np.array(lista).ravel()\n",
    "    return arr\n",
    "\n",
    "def df_to_numpy_image(df_image_clean,index):\n",
    "    #select the row with index label 'index'\n",
    "    image_clean=df_image_clean.loc[[index]].T.to_numpy()\n",
    "    lists =image_clean.tolist()\n",
    "    # Nested List Comprehension to flatten a given 2-D matrix\n",
    "    # 2-D List\n",
    "    matrix = lists\n",
    "    flatten_matrix = [val.tolist() for sublist in matrix for val in sublist]\n",
    "    # converting list to array\n",
    "    arr = np.array(flatten_matrix)\n",
    "    return arr\n",
    "def cleaning_data_reduced(train_data , show=False):    \n",
    "    #Creation and cleaning of the input dataframe\n",
    "    df = pd.DataFrame()\n",
    "    for i in range(len(train_data)):\n",
    "        row=list(train_data[i][1])\n",
    "        #print(row)\n",
    "        temp = pd.DataFrame([row])\n",
    "       # print(temp)\n",
    "        df = pd.concat([df, temp])\n",
    "    df=df.reset_index(drop=True)\n",
    "\n",
    "\n",
    "    # Parameters of the cleaning part\n",
    "    num_bins = 25\n",
    "    # We choose the threshold by choosing the RX diffeerent of zero\n",
    "    threshold= (df[13] != 0).astype(int).sum(axis=0)\n",
    "    samples_per_bin = threshold\n",
    "    hist, bins = np.histogram(df[13], num_bins)\n",
    "    center = (bins[:-1]+ bins[1:]) * 0.5    \n",
    "    \n",
    "    \n",
    "    #Cleaning procedure\n",
    "    remove_list = []\n",
    "    for j in range(num_bins):\n",
    "        list_ = []\n",
    "        for i in range(len(df[13])):\n",
    "            serie=df[13].iloc[[i]]\n",
    "            ls = serie.tolist()\n",
    "            if ls[0] >= bins[j] and ls[0] <= bins[j+1]:\n",
    "                list_.append(i)      \n",
    "        #list_ = shuffle(list_)\n",
    "        list_ = list_[samples_per_bin:]\n",
    "        remove_list.extend(list_)\n",
    "        \n",
    "    #Implementation of the cleaning    \n",
    "    df_removed=df.drop(remove_list, axis=0, inplace=False)\n",
    "    df.drop(df.index[remove_list], inplace=True)\n",
    "    \n",
    "    \n",
    "    \n",
    "    ## We select only the columns different to zero###\n",
    "    df=df.loc[:, (df != 0).any()]\n",
    "    \n",
    "    ## We remove the NO Key\n",
    "    del df[8]\n",
    "    \n",
    "    print('remaining:', len(df))\n",
    "    df=df.reset_index(drop=True) # We reset the index ! attention    \n",
    "    if show == True:\n",
    "        #Visualization of cleaning\n",
    "        hist, _ = np.histogram(df[13], (num_bins))\n",
    "        plt.bar(center, hist, width=0.05)\n",
    "        plt.plot((np.min(df[13]), np.max(df[13])), (samples_per_bin, samples_per_bin))\n",
    "    \n",
    "    #Creation and cleaning of the image dataframe\n",
    "    \n",
    "    df_image = pd.DataFrame()\n",
    "    for i in range(len(train_data)):\n",
    "        row=list(train_data[i][0]) # For images  Here we lost the (i, 480, 3) shape\n",
    "        #print(row)    \n",
    "        temp = pd.DataFrame([row])\n",
    "       # print(temp)\n",
    "        df_image = pd.concat([df_image, temp])\n",
    "    df_image=df_image.reset_index(drop=True)\n",
    "    df_image_removed=df_image.drop(remove_list, axis=0, inplace=False)\n",
    "    df_image_clean=df_image_removed.reset_index(drop=True)\n",
    "    #We verify that the dimensions are the same\n",
    "    assert len(df) == len(df_image_clean), \"The dimensions are not equal, something is wrong \"\n",
    "    \n",
    "    return df_image_clean, df"
   ]
  },
  {
   "cell_type": "code",
   "execution_count": null,
   "id": "0b62f42d",
   "metadata": {},
   "outputs": [],
   "source": []
  },
  {
   "cell_type": "code",
   "execution_count": 13,
   "id": "40a21574",
   "metadata": {},
   "outputs": [],
   "source": [
    "#processed image rgb color - no image filters\n",
    "file_name = \"preprocessed_training_data-2.npy\"\n",
    "# full file information\n",
    "train_data = np.load(file_name,allow_pickle=True)"
   ]
  },
  {
   "cell_type": "markdown",
   "id": "d98991c5",
   "metadata": {},
   "source": [
    "# Standard Cleaning"
   ]
  },
  {
   "cell_type": "code",
   "execution_count": 14,
   "id": "dc9f878c",
   "metadata": {
    "scrolled": true
   },
   "outputs": [
    {
     "name": "stdout",
     "output_type": "stream",
     "text": [
      "remaining: 38\n"
     ]
    },
    {
     "data": {
      "image/png": "[encoded data removed]",
      "text/plain": [
       "<Figure size 432x288 with 1 Axes>"
      ]
     },
     "metadata": {
      "needs_background": "light"
     },
     "output_type": "display_data"
    }
   ],
   "source": [
    "df_image_clean, df = cleaning_data_reduced(train_data,show=True)"
   ]
  },
  {
   "cell_type": "code",
   "execution_count": 15,
   "id": "16db740a",
   "metadata": {},
   "outputs": [
    {
     "data": {
      "text/html": [
       "<div>\n",
       "<style scoped>\n",
       "    .dataframe tbody tr th:only-of-type {\n",
       "        vertical-align: middle;\n",
       "    }\n",
       "\n",
       "    .dataframe tbody tr th {\n",
       "        vertical-align: top;\n",
       "    }\n",
       "\n",
       "    .dataframe thead th {\n",
       "        text-align: right;\n",
       "    }\n",
       "</style>\n",
       "<table border=\"1\" class=\"dataframe\">\n",
       "  <thead>\n",
       "    <tr style=\"text-align: right;\">\n",
       "      <th></th>\n",
       "      <th>12</th>\n",
       "      <th>13</th>\n",
       "    </tr>\n",
       "  </thead>\n",
       "  <tbody>\n",
       "    <tr>\n",
       "      <th>0</th>\n",
       "      <td>1</td>\n",
       "      <td>0</td>\n",
       "    </tr>\n",
       "    <tr>\n",
       "      <th>1</th>\n",
       "      <td>1</td>\n",
       "      <td>0</td>\n",
       "    </tr>\n",
       "    <tr>\n",
       "      <th>2</th>\n",
       "      <td>1</td>\n",
       "      <td>0</td>\n",
       "    </tr>\n",
       "    <tr>\n",
       "      <th>3</th>\n",
       "      <td>1</td>\n",
       "      <td>0</td>\n",
       "    </tr>\n",
       "    <tr>\n",
       "      <th>4</th>\n",
       "      <td>1</td>\n",
       "      <td>0</td>\n",
       "    </tr>\n",
       "  </tbody>\n",
       "</table>\n",
       "</div>"
      ],
      "text/plain": [
       "   12  13\n",
       "0   1   0\n",
       "1   1   0\n",
       "2   1   0\n",
       "3   1   0\n",
       "4   1   0"
      ]
     },
     "execution_count": 15,
     "metadata": {},
     "output_type": "execute_result"
    }
   ],
   "source": [
    "df.head()"
   ]
  },
  {
   "cell_type": "code",
   "execution_count": 16,
   "id": "21bf6361",
   "metadata": {},
   "outputs": [
    {
     "data": {
      "text/html": [
       "<div>\n",
       "<style scoped>\n",
       "    .dataframe tbody tr th:only-of-type {\n",
       "        vertical-align: middle;\n",
       "    }\n",
       "\n",
       "    .dataframe tbody tr th {\n",
       "        vertical-align: top;\n",
       "    }\n",
       "\n",
       "    .dataframe thead th {\n",
       "        text-align: right;\n",
       "    }\n",
       "</style>\n",
       "<table border=\"1\" class=\"dataframe\">\n",
       "  <thead>\n",
       "    <tr style=\"text-align: right;\">\n",
       "      <th></th>\n",
       "      <th>12</th>\n",
       "      <th>13</th>\n",
       "    </tr>\n",
       "  </thead>\n",
       "  <tbody>\n",
       "    <tr>\n",
       "      <th>count</th>\n",
       "      <td>38.0</td>\n",
       "      <td>38.000000</td>\n",
       "    </tr>\n",
       "    <tr>\n",
       "      <th>mean</th>\n",
       "      <td>1.0</td>\n",
       "      <td>0.131579</td>\n",
       "    </tr>\n",
       "    <tr>\n",
       "      <th>std</th>\n",
       "      <td>0.0</td>\n",
       "      <td>0.704083</td>\n",
       "    </tr>\n",
       "    <tr>\n",
       "      <th>min</th>\n",
       "      <td>1.0</td>\n",
       "      <td>-1.000000</td>\n",
       "    </tr>\n",
       "    <tr>\n",
       "      <th>25%</th>\n",
       "      <td>1.0</td>\n",
       "      <td>0.000000</td>\n",
       "    </tr>\n",
       "    <tr>\n",
       "      <th>50%</th>\n",
       "      <td>1.0</td>\n",
       "      <td>0.000000</td>\n",
       "    </tr>\n",
       "    <tr>\n",
       "      <th>75%</th>\n",
       "      <td>1.0</td>\n",
       "      <td>1.000000</td>\n",
       "    </tr>\n",
       "    <tr>\n",
       "      <th>max</th>\n",
       "      <td>1.0</td>\n",
       "      <td>1.000000</td>\n",
       "    </tr>\n",
       "  </tbody>\n",
       "</table>\n",
       "</div>"
      ],
      "text/plain": [
       "         12         13\n",
       "count  38.0  38.000000\n",
       "mean    1.0   0.131579\n",
       "std     0.0   0.704083\n",
       "min     1.0  -1.000000\n",
       "25%     1.0   0.000000\n",
       "50%     1.0   0.000000\n",
       "75%     1.0   1.000000\n",
       "max     1.0   1.000000"
      ]
     },
     "execution_count": 16,
     "metadata": {},
     "output_type": "execute_result"
    }
   ],
   "source": [
    "df.describe()"
   ]
  },
  {
   "cell_type": "code",
   "execution_count": 17,
   "id": "66679074",
   "metadata": {},
   "outputs": [
    {
     "name": "stdout",
     "output_type": "stream",
     "text": [
      "Training Samples: 30\n",
      "Valid Samples: 8\n"
     ]
    },
    {
     "data": {
      "image/png": "[encoded data removed]",
      "text/plain": [
       "<Figure size 864x288 with 2 Axes>"
      ]
     },
     "metadata": {
      "needs_background": "light"
     },
     "output_type": "display_data"
    }
   ],
   "source": [
    "X_train, X_valid, y_train, y_valid = train_test_split(df_image_clean, df, test_size=0.2, random_state=6)\n",
    "print('Training Samples: {}\\nValid Samples: {}'.format(len(X_train), len(y_valid)))\n",
    "fig, axes = plt.subplots(1, 2, figsize=(12, 4))\n",
    "num_bins=25\n",
    "axes[0].hist(y_train, bins=num_bins, width=0.05)\n",
    "axes[0].set_title('Training set')\n",
    "axes[1].hist(y_valid, bins=num_bins, width=0.05)\n",
    "axes[1].set_title('Validation set')\n",
    "# Train Image part ( 4 Dimensional)\n",
    "X_image = np.array([df_to_numpy_image(X_train,i) for i in X_train.index])\n",
    "X=X_image.reshape(-1,WIDTH,HEIGHT,3)\n",
    "#Train Input part ( 1 Dimensional )\n",
    "Y = [df_to_numpy_input(y_train,i) for i in y_train.index]\n",
    "# Test Image part ( 4 Dimensional)\n",
    "test_image = np.array([df_to_numpy_image(X_valid,i) for i in X_valid.index])\n",
    "test_x=test_image.reshape(-1,WIDTH,HEIGHT,3)\n",
    "## Test Input part( 1 Dimensional )\n",
    "test_y = [df_to_numpy_input(y_valid,i) for i in y_valid.index]"
   ]
  },
  {
   "cell_type": "markdown",
   "id": "34eb74cf",
   "metadata": {},
   "source": [
    "Let us choose a picture where was used lx"
   ]
  },
  {
   "cell_type": "code",
   "execution_count": 18,
   "id": "0124850e",
   "metadata": {},
   "outputs": [
    {
     "data": {
      "text/html": [
       "<div>\n",
       "<style scoped>\n",
       "    .dataframe tbody tr th:only-of-type {\n",
       "        vertical-align: middle;\n",
       "    }\n",
       "\n",
       "    .dataframe tbody tr th {\n",
       "        vertical-align: top;\n",
       "    }\n",
       "\n",
       "    .dataframe thead th {\n",
       "        text-align: right;\n",
       "    }\n",
       "</style>\n",
       "<table border=\"1\" class=\"dataframe\">\n",
       "  <thead>\n",
       "    <tr style=\"text-align: right;\">\n",
       "      <th></th>\n",
       "      <th>12</th>\n",
       "      <th>13</th>\n",
       "    </tr>\n",
       "  </thead>\n",
       "  <tbody>\n",
       "    <tr>\n",
       "      <th>26</th>\n",
       "      <td>1</td>\n",
       "      <td>-1</td>\n",
       "    </tr>\n",
       "    <tr>\n",
       "      <th>27</th>\n",
       "      <td>1</td>\n",
       "      <td>-1</td>\n",
       "    </tr>\n",
       "    <tr>\n",
       "      <th>24</th>\n",
       "      <td>1</td>\n",
       "      <td>-1</td>\n",
       "    </tr>\n",
       "    <tr>\n",
       "      <th>20</th>\n",
       "      <td>1</td>\n",
       "      <td>-1</td>\n",
       "    </tr>\n",
       "  </tbody>\n",
       "</table>\n",
       "</div>"
      ],
      "text/plain": [
       "    12  13\n",
       "26   1  -1\n",
       "27   1  -1\n",
       "24   1  -1\n",
       "20   1  -1"
      ]
     },
     "execution_count": 18,
     "metadata": {},
     "output_type": "execute_result"
    }
   ],
   "source": [
    "# selecting rows based on condition LX to the left\n",
    "y_train.loc[y_train[13] < 0]"
   ]
  },
  {
   "cell_type": "code",
   "execution_count": 19,
   "id": "e48f01ba",
   "metadata": {},
   "outputs": [],
   "source": [
    "def show_action_reduced(X_train,y_train,index_to_select):\n",
    "    dato=np.array([y_train.loc[index_to_select].tolist()])\n",
    "    columna_name=['W', 'S', 'A', 'D', 'WA', 'WD', 'SA', 'SD','NOKEY','LT', 'RT', 'Lx', 'Ly', 'Rx', 'Ry', 'UP', 'DOWN', 'LEFT', 'RIGHT',\n",
    "           'START', 'SELECT', 'L3', 'R3', 'LB', 'RB', 'A', 'B', 'X', 'Y']\n",
    "    columna=[columna_name[x] for x in y_train.columns ]\n",
    "    #print(columna)\n",
    "    df_pred = pd.DataFrame(dato,columns=columna)\n",
    "    df_pred_transposed = df_pred.T \n",
    "    print(df_pred_transposed) \n",
    "    image_check=df_to_numpy_image(X_train,index_to_select)\n",
    "    showarray(image_check)"
   ]
  },
  {
   "cell_type": "code",
   "execution_count": 20,
   "id": "45279d2a",
   "metadata": {},
   "outputs": [
    {
     "data": {
      "text/html": [
       "<div>\n",
       "<style scoped>\n",
       "    .dataframe tbody tr th:only-of-type {\n",
       "        vertical-align: middle;\n",
       "    }\n",
       "\n",
       "    .dataframe tbody tr th {\n",
       "        vertical-align: top;\n",
       "    }\n",
       "\n",
       "    .dataframe thead th {\n",
       "        text-align: right;\n",
       "    }\n",
       "</style>\n",
       "<table border=\"1\" class=\"dataframe\">\n",
       "  <thead>\n",
       "    <tr style=\"text-align: right;\">\n",
       "      <th></th>\n",
       "      <th>12</th>\n",
       "      <th>13</th>\n",
       "    </tr>\n",
       "  </thead>\n",
       "  <tbody>\n",
       "    <tr>\n",
       "      <th>17</th>\n",
       "      <td>1</td>\n",
       "      <td>0</td>\n",
       "    </tr>\n",
       "    <tr>\n",
       "      <th>26</th>\n",
       "      <td>1</td>\n",
       "      <td>-1</td>\n",
       "    </tr>\n",
       "    <tr>\n",
       "      <th>32</th>\n",
       "      <td>1</td>\n",
       "      <td>1</td>\n",
       "    </tr>\n",
       "    <tr>\n",
       "      <th>6</th>\n",
       "      <td>1</td>\n",
       "      <td>0</td>\n",
       "    </tr>\n",
       "    <tr>\n",
       "      <th>36</th>\n",
       "      <td>1</td>\n",
       "      <td>1</td>\n",
       "    </tr>\n",
       "  </tbody>\n",
       "</table>\n",
       "</div>"
      ],
      "text/plain": [
       "    12  13\n",
       "17   1   0\n",
       "26   1  -1\n",
       "32   1   1\n",
       "6    1   0\n",
       "36   1   1"
      ]
     },
     "execution_count": 20,
     "metadata": {},
     "output_type": "execute_result"
    }
   ],
   "source": [
    "y_train.head()"
   ]
  },
  {
   "cell_type": "code",
   "execution_count": 21,
   "id": "a9354b91",
   "metadata": {},
   "outputs": [
    {
     "name": "stdout",
     "output_type": "stream",
     "text": [
      "    0\n",
      "Ly  1\n",
      "Rx -1\n"
     ]
    },
    {
     "data": {
      "image/png": "[encoded data removed]",
      "text/plain": [
       "<Figure size 432x288 with 1 Axes>"
      ]
     },
     "metadata": {
      "needs_background": "light"
     },
     "output_type": "display_data"
    }
   ],
   "source": [
    "show_action_reduced(X_train,y_train,24)"
   ]
  },
  {
   "cell_type": "code",
   "execution_count": 22,
   "id": "314d8e2e",
   "metadata": {},
   "outputs": [],
   "source": [
    "#from tqdm import tqdm      # a nice pretty percentage bar for tasks"
   ]
  },
  {
   "cell_type": "code",
   "execution_count": 23,
   "id": "fea92395",
   "metadata": {},
   "outputs": [],
   "source": [
    "def df_to_numpy_image(df_image_clean,index):\n",
    "    #select the row with index label 'index'\n",
    "    image_clean=df_image_clean.loc[[index]].T.to_numpy()\n",
    "    lists =image_clean.tolist()\n",
    "    # Nested List Comprehension to flatten a given 2-D matrix\n",
    "    # 2-D List\n",
    "    matrix = lists\n",
    "    flatten_matrix = [val.tolist() for sublist in matrix for val in sublist]\n",
    "    # converting list to array\n",
    "    arr = np.array(flatten_matrix)\n",
    "    return arr"
   ]
  },
  {
   "cell_type": "code",
   "execution_count": 24,
   "id": "f5bf4d23",
   "metadata": {},
   "outputs": [
    {
     "name": "stdout",
     "output_type": "stream",
     "text": [
      "preprocessed_training_data-1.npy\n",
      "remaining: 54\n",
      "preprocessed_training_data-2.npy\n",
      "remaining: 38\n",
      "preprocessed_training_data-3.npy\n",
      "remaining: 68\n",
      "preprocessed_training_data-4.npy\n",
      "remaining: 52\n",
      "preprocessed_training_data-5.npy\n",
      "remaining: 52\n",
      "preprocessed_training_data-6.npy\n",
      "remaining: 18\n",
      "preprocessed_training_data-7.npy\n",
      "remaining: 12\n",
      "preprocessed_training_data-8.npy\n",
      "remaining: 40\n",
      "preprocessed_training_data-9.npy\n",
      "remaining: 16\n",
      "preprocessed_training_data-10.npy\n",
      "remaining: 68\n",
      "preprocessed_training_data-11.npy\n",
      "remaining: 40\n",
      "preprocessed_training_data-12.npy\n",
      "remaining: 40\n",
      "preprocessed_training_data-13.npy\n",
      "remaining: 14\n",
      "preprocessed_training_data-14.npy\n",
      "remaining: 24\n",
      "preprocessed_training_data-15.npy\n",
      "remaining: 102\n",
      "preprocessed_training_data-16.npy\n",
      "remaining: 50\n",
      "preprocessed_training_data-17.npy\n",
      "remaining: 20\n",
      "preprocessed_training_data-18.npy\n",
      "remaining: 56\n",
      "preprocessed_training_data-19.npy\n",
      "remaining: 44\n",
      "preprocessed_training_data-20.npy\n",
      "remaining: 12\n",
      "preprocessed_training_data-21.npy\n",
      "remaining: 78\n",
      "preprocessed_training_data-22.npy\n",
      "remaining: 22\n",
      "preprocessed_training_data-23.npy\n",
      "remaining: 66\n",
      "preprocessed_training_data-24.npy\n",
      "remaining: 38\n",
      "preprocessed_training_data-25.npy\n",
      "remaining: 66\n",
      "preprocessed_training_data-26.npy\n",
      "remaining: 96\n",
      "preprocessed_training_data-27.npy\n",
      "remaining: 24\n",
      "preprocessed_training_data-28.npy\n",
      "remaining: 56\n",
      "preprocessed_training_data-29.npy\n",
      "remaining: 72\n",
      "preprocessed_training_data-30.npy\n",
      "remaining: 90\n"
     ]
    }
   ],
   "source": [
    "FILE_I_END=30\n",
    "data_order = [i for i in range(1,FILE_I_END+1)]\n",
    "for count,i in enumerate(data_order):\n",
    "    file_name = 'preprocessed_training_data-{}.npy'.format(i)\n",
    "    print(file_name)\n",
    "    # full file information\n",
    "    train_data = np.load(file_name,allow_pickle=True)\n",
    "    df_image_clean, df = cleaning_data_reduced(train_data,show=False)\n",
    "    x_file_name = 'clean_reduced/x_training_data-{}.csv'.format(i)\n",
    "    y_file_name = 'clean_reduced/y_training_data-{}.csv'.format(i)   \n",
    "      \n",
    "    df_image_clean.to_pickle(x_file_name)\n",
    "    df.to_csv(y_file_name,index=False)"
   ]
  },
  {
   "cell_type": "markdown",
   "id": "cccf68e5",
   "metadata": {},
   "source": [
    "\n",
    "# Removing Initial Record\n",
    "## Manual Cleaning"
   ]
  },
  {
   "cell_type": "markdown",
   "id": "d7eff8ef",
   "metadata": {},
   "source": [
    "During the recording I have recorderded for few seconds the desktop, from 0 to 27 rows"
   ]
  },
  {
   "cell_type": "code",
   "execution_count": 25,
   "id": "ee6ee2ed",
   "metadata": {},
   "outputs": [],
   "source": [
    "df_x = pd.read_pickle('clean_reduced/x_training_data-1.csv')\n",
    "# delete a range of rows - index values 0-27\n",
    "df_x = df_x.drop(labels=range(0, 27), axis=0)\n",
    "df_x.to_pickle(\"clean_reduced/x_training_data-1.csv\")"
   ]
  },
  {
   "cell_type": "code",
   "execution_count": 26,
   "id": "7e3d791b",
   "metadata": {},
   "outputs": [],
   "source": [
    "df_y = pd.read_csv('clean_reduced/y_training_data-1.csv')\n",
    "# delete a range of rows - index values 0-27\n",
    "df_y = df_y.drop(labels=range(0, 27), axis=0)\n",
    "df_y.to_csv(\"clean_reduced/y_training_data-1.csv\",index=False)"
   ]
  },
  {
   "cell_type": "markdown",
   "id": "805d571d",
   "metadata": {},
   "source": [
    "# Analysis of the cleaning"
   ]
  },
  {
   "cell_type": "code",
   "execution_count": 27,
   "id": "cebd1e06",
   "metadata": {},
   "outputs": [],
   "source": [
    "df_x = pd.read_pickle('clean_reduced/x_training_data-1.csv')"
   ]
  },
  {
   "cell_type": "code",
   "execution_count": 28,
   "id": "0a0cb239",
   "metadata": {},
   "outputs": [
    {
     "data": {
      "text/html": [
       "<div>\n",
       "<style scoped>\n",
       "    .dataframe tbody tr th:only-of-type {\n",
       "        vertical-align: middle;\n",
       "    }\n",
       "\n",
       "    .dataframe tbody tr th {\n",
       "        vertical-align: top;\n",
       "    }\n",
       "\n",
       "    .dataframe thead th {\n",
       "        text-align: right;\n",
       "    }\n",
       "</style>\n",
       "<table border=\"1\" class=\"dataframe\">\n",
       "  <thead>\n",
       "    <tr style=\"text-align: right;\">\n",
       "      <th></th>\n",
       "      <th>0</th>\n",
       "      <th>1</th>\n",
       "      <th>2</th>\n",
       "      <th>3</th>\n",
       "      <th>4</th>\n",
       "      <th>5</th>\n",
       "      <th>6</th>\n",
       "      <th>7</th>\n",
       "      <th>8</th>\n",
       "      <th>9</th>\n",
       "      <th>...</th>\n",
       "      <th>260</th>\n",
       "      <th>261</th>\n",
       "      <th>262</th>\n",
       "      <th>263</th>\n",
       "      <th>264</th>\n",
       "      <th>265</th>\n",
       "      <th>266</th>\n",
       "      <th>267</th>\n",
       "      <th>268</th>\n",
       "      <th>269</th>\n",
       "    </tr>\n",
       "  </thead>\n",
       "  <tbody>\n",
       "    <tr>\n",
       "      <th>27</th>\n",
       "      <td>[[217, 165, 84], [216, 165, 85], [216, 166, 85...</td>\n",
       "      <td>[[217, 166, 86], [217, 166, 86], [217, 167, 87...</td>\n",
       "      <td>[[218, 168, 88], [217, 168, 88], [217, 168, 89...</td>\n",
       "      <td>[[219, 169, 90], [219, 169, 89], [219, 169, 90...</td>\n",
       "      <td>[[219, 170, 91], [219, 170, 91], [219, 170, 92...</td>\n",
       "      <td>[[220, 171, 92], [221, 171, 93], [220, 171, 93...</td>\n",
       "      <td>[[221, 171, 93], [221, 171, 93], [220, 171, 93...</td>\n",
       "      <td>[[222, 173, 95], [222, 172, 94], [222, 172, 94...</td>\n",
       "      <td>[[223, 174, 97], [223, 174, 97], [223, 173, 96...</td>\n",
       "      <td>[[224, 175, 98], [224, 175, 99], [224, 175, 99...</td>\n",
       "      <td>...</td>\n",
       "      <td>[[0, 0, 0], [0, 0, 0], [0, 0, 0], [0, 0, 0], [...</td>\n",
       "      <td>[[0, 0, 0], [0, 0, 0], [0, 0, 0], [0, 0, 0], [...</td>\n",
       "      <td>[[0, 0, 0], [0, 0, 0], [0, 0, 0], [0, 0, 0], [...</td>\n",
       "      <td>[[0, 0, 0], [0, 0, 0], [0, 0, 0], [0, 0, 0], [...</td>\n",
       "      <td>[[0, 0, 0], [0, 0, 0], [0, 0, 0], [0, 0, 0], [...</td>\n",
       "      <td>[[0, 0, 0], [0, 0, 0], [0, 0, 0], [0, 0, 0], [...</td>\n",
       "      <td>[[0, 0, 0], [0, 0, 0], [0, 0, 0], [0, 0, 0], [...</td>\n",
       "      <td>[[0, 0, 0], [0, 0, 0], [0, 0, 0], [0, 0, 0], [...</td>\n",
       "      <td>[[0, 0, 0], [0, 0, 0], [0, 0, 0], [0, 0, 0], [...</td>\n",
       "      <td>[[0, 0, 0], [0, 0, 0], [0, 0, 0], [0, 0, 0], [...</td>\n",
       "    </tr>\n",
       "  </tbody>\n",
       "</table>\n",
       "<p>1 rows × 270 columns</p>\n",
       "</div>"
      ],
      "text/plain": [
       "                                                  0    \\\n",
       "27  [[217, 165, 84], [216, 165, 85], [216, 166, 85...   \n",
       "\n",
       "                                                  1    \\\n",
       "27  [[217, 166, 86], [217, 166, 86], [217, 167, 87...   \n",
       "\n",
       "                                                  2    \\\n",
       "27  [[218, 168, 88], [217, 168, 88], [217, 168, 89...   \n",
       "\n",
       "                                                  3    \\\n",
       "27  [[219, 169, 90], [219, 169, 89], [219, 169, 90...   \n",
       "\n",
       "                                                  4    \\\n",
       "27  [[219, 170, 91], [219, 170, 91], [219, 170, 92...   \n",
       "\n",
       "                                                  5    \\\n",
       "27  [[220, 171, 92], [221, 171, 93], [220, 171, 93...   \n",
       "\n",
       "                                                  6    \\\n",
       "27  [[221, 171, 93], [221, 171, 93], [220, 171, 93...   \n",
       "\n",
       "                                                  7    \\\n",
       "27  [[222, 173, 95], [222, 172, 94], [222, 172, 94...   \n",
       "\n",
       "                                                  8    \\\n",
       "27  [[223, 174, 97], [223, 174, 97], [223, 173, 96...   \n",
       "\n",
       "                                                  9    ...  \\\n",
       "27  [[224, 175, 98], [224, 175, 99], [224, 175, 99...  ...   \n",
       "\n",
       "                                                  260  \\\n",
       "27  [[0, 0, 0], [0, 0, 0], [0, 0, 0], [0, 0, 0], [...   \n",
       "\n",
       "                                                  261  \\\n",
       "27  [[0, 0, 0], [0, 0, 0], [0, 0, 0], [0, 0, 0], [...   \n",
       "\n",
       "                                                  262  \\\n",
       "27  [[0, 0, 0], [0, 0, 0], [0, 0, 0], [0, 0, 0], [...   \n",
       "\n",
       "                                                  263  \\\n",
       "27  [[0, 0, 0], [0, 0, 0], [0, 0, 0], [0, 0, 0], [...   \n",
       "\n",
       "                                                  264  \\\n",
       "27  [[0, 0, 0], [0, 0, 0], [0, 0, 0], [0, 0, 0], [...   \n",
       "\n",
       "                                                  265  \\\n",
       "27  [[0, 0, 0], [0, 0, 0], [0, 0, 0], [0, 0, 0], [...   \n",
       "\n",
       "                                                  266  \\\n",
       "27  [[0, 0, 0], [0, 0, 0], [0, 0, 0], [0, 0, 0], [...   \n",
       "\n",
       "                                                  267  \\\n",
       "27  [[0, 0, 0], [0, 0, 0], [0, 0, 0], [0, 0, 0], [...   \n",
       "\n",
       "                                                  268  \\\n",
       "27  [[0, 0, 0], [0, 0, 0], [0, 0, 0], [0, 0, 0], [...   \n",
       "\n",
       "                                                  269  \n",
       "27  [[0, 0, 0], [0, 0, 0], [0, 0, 0], [0, 0, 0], [...  \n",
       "\n",
       "[1 rows x 270 columns]"
      ]
     },
     "execution_count": 28,
     "metadata": {},
     "output_type": "execute_result"
    }
   ],
   "source": [
    "df_x.head(1)"
   ]
  },
  {
   "cell_type": "code",
   "execution_count": 29,
   "id": "aec1b379",
   "metadata": {},
   "outputs": [],
   "source": [
    "import io\n",
    "import cv2\n",
    "import numpy as np\n",
    "from IPython.display import clear_output, Image, display\n",
    "import PIL.Image\n",
    "from matplotlib import pyplot as plt\n",
    "from numpy import load"
   ]
  },
  {
   "cell_type": "code",
   "execution_count": 30,
   "id": "e4e5cff8",
   "metadata": {},
   "outputs": [],
   "source": [
    "def showarray(a, fmt='jpeg'):\n",
    "    a_n = np.uint8(np.clip(a, 0, 255))\n",
    "    try :\n",
    "        f = io.BytesIO()\n",
    "        PIL.Image.fromarray(a_n).save(f, fmt)\n",
    "        display(Image(data=f.getvalue()))\n",
    "    except:\n",
    "        #a = a[:, :, ::-1] # convert image from RGB (skimage) to BGR (opencv)\n",
    "        # display image   \n",
    "        plt.imshow(a)\n",
    "        plt.show()  "
   ]
  },
  {
   "cell_type": "markdown",
   "id": "30ac35e6",
   "metadata": {},
   "source": [
    "# Combining multiple CSV files"
   ]
  },
  {
   "cell_type": "code",
   "execution_count": 31,
   "id": "521440b3",
   "metadata": {},
   "outputs": [],
   "source": [
    "#os.chdir(\"../\")"
   ]
  },
  {
   "cell_type": "code",
   "execution_count": 32,
   "id": "0e46c383",
   "metadata": {},
   "outputs": [],
   "source": [
    "import os\n",
    "import glob\n",
    "import pandas as pd\n",
    "os.chdir(\"./clean_reduced\")\n",
    "extension = 'csv'"
   ]
  },
  {
   "cell_type": "markdown",
   "id": "7e282d28",
   "metadata": {},
   "source": [
    "## For images"
   ]
  },
  {
   "cell_type": "code",
   "execution_count": 33,
   "id": "328ed0fa",
   "metadata": {},
   "outputs": [],
   "source": [
    "dfs = []\n",
    "for filename in glob.glob('x_training_data*.{}'.format(extension)):\n",
    "    newDF = pd.read_pickle(filename)\n",
    "    dfs.append(newDF)\n",
    "combined_csv_x  = pd.concat(dfs, ignore_index=True)"
   ]
  },
  {
   "cell_type": "code",
   "execution_count": 34,
   "id": "3585d581",
   "metadata": {},
   "outputs": [
    {
     "data": {
      "text/plain": [
       "(1401, 270)"
      ]
     },
     "execution_count": 34,
     "metadata": {},
     "output_type": "execute_result"
    }
   ],
   "source": [
    "combined_csv_x.shape"
   ]
  },
  {
   "cell_type": "code",
   "execution_count": 35,
   "id": "eea2cc87",
   "metadata": {},
   "outputs": [
    {
     "data": {
      "text/plain": [
       "(270, 480, 3)"
      ]
     },
     "execution_count": 35,
     "metadata": {},
     "output_type": "execute_result"
    }
   ],
   "source": [
    "test_1=df_to_numpy_image(combined_csv_x,0)\n",
    "test_1.shape"
   ]
  },
  {
   "cell_type": "code",
   "execution_count": 36,
   "id": "32a93930",
   "metadata": {},
   "outputs": [
    {
     "data": {
      "image/jpeg": "[encoded data removed]",
      "text/plain": [
       "<IPython.core.display.Image object>"
      ]
     },
     "metadata": {},
     "output_type": "display_data"
    }
   ],
   "source": [
    "showarray(test_1)"
   ]
  },
  {
   "cell_type": "code",
   "execution_count": 37,
   "id": "016f59f2",
   "metadata": {},
   "outputs": [],
   "source": [
    "#export to csv\n",
    "combined_csv_x.to_pickle(\"../data_reduced/x_training_data.csv\")"
   ]
  },
  {
   "cell_type": "code",
   "execution_count": 38,
   "id": "14dd77cd",
   "metadata": {},
   "outputs": [],
   "source": [
    "x_training_data=pd.read_pickle('../data_reduced/x_training_data.csv')  "
   ]
  },
  {
   "cell_type": "code",
   "execution_count": 39,
   "id": "452b625a",
   "metadata": {},
   "outputs": [
    {
     "data": {
      "text/plain": [
       "(270, 480, 3)"
      ]
     },
     "execution_count": 39,
     "metadata": {},
     "output_type": "execute_result"
    }
   ],
   "source": [
    "test_1=df_to_numpy_image(x_training_data,0)\n",
    "test_1.shape"
   ]
  },
  {
   "cell_type": "code",
   "execution_count": 40,
   "id": "85e802e7",
   "metadata": {},
   "outputs": [
    {
     "data": {
      "image/jpeg": "[encoded data removed]",
      "text/plain": [
       "<IPython.core.display.Image object>"
      ]
     },
     "metadata": {},
     "output_type": "display_data"
    }
   ],
   "source": [
    "showarray(test_1)"
   ]
  },
  {
   "cell_type": "markdown",
   "id": "d68be801",
   "metadata": {},
   "source": [
    "## For inputs"
   ]
  },
  {
   "cell_type": "code",
   "execution_count": 41,
   "id": "391969b2",
   "metadata": {},
   "outputs": [],
   "source": [
    "#combine all files in the list\n",
    "all_filenames_y = [i for i in glob.glob('y_training_data*.{}'.format(extension))]\n",
    "combined_csv_y = pd.concat([pd.read_csv(f) for f in all_filenames_y])"
   ]
  },
  {
   "cell_type": "code",
   "execution_count": 42,
   "id": "2bb31738",
   "metadata": {},
   "outputs": [
    {
     "data": {
      "text/html": [
       "<div>\n",
       "<style scoped>\n",
       "    .dataframe tbody tr th:only-of-type {\n",
       "        vertical-align: middle;\n",
       "    }\n",
       "\n",
       "    .dataframe tbody tr th {\n",
       "        vertical-align: top;\n",
       "    }\n",
       "\n",
       "    .dataframe thead th {\n",
       "        text-align: right;\n",
       "    }\n",
       "</style>\n",
       "<table border=\"1\" class=\"dataframe\">\n",
       "  <thead>\n",
       "    <tr style=\"text-align: right;\">\n",
       "      <th></th>\n",
       "      <th>12</th>\n",
       "      <th>13</th>\n",
       "      <th>11</th>\n",
       "    </tr>\n",
       "  </thead>\n",
       "  <tbody>\n",
       "    <tr>\n",
       "      <th>0</th>\n",
       "      <td>1</td>\n",
       "      <td>1</td>\n",
       "      <td>NaN</td>\n",
       "    </tr>\n",
       "    <tr>\n",
       "      <th>1</th>\n",
       "      <td>1</td>\n",
       "      <td>-1</td>\n",
       "      <td>NaN</td>\n",
       "    </tr>\n",
       "    <tr>\n",
       "      <th>2</th>\n",
       "      <td>1</td>\n",
       "      <td>-1</td>\n",
       "      <td>NaN</td>\n",
       "    </tr>\n",
       "    <tr>\n",
       "      <th>3</th>\n",
       "      <td>1</td>\n",
       "      <td>1</td>\n",
       "      <td>NaN</td>\n",
       "    </tr>\n",
       "    <tr>\n",
       "      <th>4</th>\n",
       "      <td>1</td>\n",
       "      <td>1</td>\n",
       "      <td>NaN</td>\n",
       "    </tr>\n",
       "  </tbody>\n",
       "</table>\n",
       "</div>"
      ],
      "text/plain": [
       "   12  13  11\n",
       "0   1   1 NaN\n",
       "1   1  -1 NaN\n",
       "2   1  -1 NaN\n",
       "3   1   1 NaN\n",
       "4   1   1 NaN"
      ]
     },
     "execution_count": 42,
     "metadata": {},
     "output_type": "execute_result"
    }
   ],
   "source": [
    "combined_csv_y.head()"
   ]
  },
  {
   "cell_type": "code",
   "execution_count": 43,
   "id": "16340787",
   "metadata": {},
   "outputs": [
    {
     "data": {
      "text/html": [
       "<div>\n",
       "<style scoped>\n",
       "    .dataframe tbody tr th:only-of-type {\n",
       "        vertical-align: middle;\n",
       "    }\n",
       "\n",
       "    .dataframe tbody tr th {\n",
       "        vertical-align: top;\n",
       "    }\n",
       "\n",
       "    .dataframe thead th {\n",
       "        text-align: right;\n",
       "    }\n",
       "</style>\n",
       "<table border=\"1\" class=\"dataframe\">\n",
       "  <thead>\n",
       "    <tr style=\"text-align: right;\">\n",
       "      <th></th>\n",
       "      <th>12</th>\n",
       "      <th>13</th>\n",
       "      <th>11</th>\n",
       "    </tr>\n",
       "  </thead>\n",
       "  <tbody>\n",
       "    <tr>\n",
       "      <th>count</th>\n",
       "      <td>1401.000000</td>\n",
       "      <td>1401.000000</td>\n",
       "      <td>162.000000</td>\n",
       "    </tr>\n",
       "    <tr>\n",
       "      <th>mean</th>\n",
       "      <td>0.876517</td>\n",
       "      <td>-0.002855</td>\n",
       "      <td>0.037037</td>\n",
       "    </tr>\n",
       "    <tr>\n",
       "      <th>std</th>\n",
       "      <td>0.333421</td>\n",
       "      <td>0.714137</td>\n",
       "      <td>0.189438</td>\n",
       "    </tr>\n",
       "    <tr>\n",
       "      <th>min</th>\n",
       "      <td>-1.000000</td>\n",
       "      <td>-1.000000</td>\n",
       "      <td>0.000000</td>\n",
       "    </tr>\n",
       "    <tr>\n",
       "      <th>25%</th>\n",
       "      <td>1.000000</td>\n",
       "      <td>-1.000000</td>\n",
       "      <td>0.000000</td>\n",
       "    </tr>\n",
       "    <tr>\n",
       "      <th>50%</th>\n",
       "      <td>1.000000</td>\n",
       "      <td>0.000000</td>\n",
       "      <td>0.000000</td>\n",
       "    </tr>\n",
       "    <tr>\n",
       "      <th>75%</th>\n",
       "      <td>1.000000</td>\n",
       "      <td>1.000000</td>\n",
       "      <td>0.000000</td>\n",
       "    </tr>\n",
       "    <tr>\n",
       "      <th>max</th>\n",
       "      <td>1.000000</td>\n",
       "      <td>1.000000</td>\n",
       "      <td>1.000000</td>\n",
       "    </tr>\n",
       "  </tbody>\n",
       "</table>\n",
       "</div>"
      ],
      "text/plain": [
       "                12           13          11\n",
       "count  1401.000000  1401.000000  162.000000\n",
       "mean      0.876517    -0.002855    0.037037\n",
       "std       0.333421     0.714137    0.189438\n",
       "min      -1.000000    -1.000000    0.000000\n",
       "25%       1.000000    -1.000000    0.000000\n",
       "50%       1.000000     0.000000    0.000000\n",
       "75%       1.000000     1.000000    0.000000\n",
       "max       1.000000     1.000000    1.000000"
      ]
     },
     "execution_count": 43,
     "metadata": {},
     "output_type": "execute_result"
    }
   ],
   "source": [
    "combined_csv_y.describe()"
   ]
  },
  {
   "cell_type": "code",
   "execution_count": 44,
   "id": "9f88f3a4",
   "metadata": {},
   "outputs": [
    {
     "data": {
      "text/plain": [
       "1239"
      ]
     },
     "execution_count": 44,
     "metadata": {},
     "output_type": "execute_result"
    }
   ],
   "source": [
    "combined_csv_y['11'].isna().sum()"
   ]
  },
  {
   "cell_type": "code",
   "execution_count": 45,
   "id": "54e95d03",
   "metadata": {},
   "outputs": [],
   "source": [
    "combined_csv_y['11'] = combined_csv_y['11'].fillna(0)"
   ]
  },
  {
   "cell_type": "code",
   "execution_count": 46,
   "id": "946e6fb0",
   "metadata": {},
   "outputs": [
    {
     "data": {
      "text/plain": [
       "0"
      ]
     },
     "execution_count": 46,
     "metadata": {},
     "output_type": "execute_result"
    }
   ],
   "source": [
    "combined_csv_y['11'].isna().sum()"
   ]
  },
  {
   "cell_type": "code",
   "execution_count": 47,
   "id": "bfb5414e",
   "metadata": {},
   "outputs": [],
   "source": [
    "#export to csv\n",
    "combined_csv_y.to_csv( \"../data_reduced/y_training_data.csv\", index=False)\n",
    "#If you getUnicodeEncodeError , simply add encoding='utf-8' ; or encoding='utf-8-sig'"
   ]
  },
  {
   "cell_type": "code",
   "execution_count": 48,
   "id": "03fcf1ed",
   "metadata": {},
   "outputs": [
    {
     "data": {
      "text/plain": [
       "(1401, 3)"
      ]
     },
     "execution_count": 48,
     "metadata": {},
     "output_type": "execute_result"
    }
   ],
   "source": [
    "combined_csv_y.shape"
   ]
  },
  {
   "cell_type": "markdown",
   "id": "5b4ae133",
   "metadata": {},
   "source": [
    "## Verifing images and inputs"
   ]
  },
  {
   "cell_type": "code",
   "execution_count": 49,
   "id": "c208cc20",
   "metadata": {},
   "outputs": [],
   "source": [
    "x_training_data=pd.read_pickle('../data_reduced/x_training_data.csv')  \n",
    "y_training_data=pd.read_csv('../data_reduced/y_training_data.csv')  "
   ]
  },
  {
   "cell_type": "code",
   "execution_count": 50,
   "id": "983fd2f2",
   "metadata": {},
   "outputs": [
    {
     "data": {
      "text/plain": [
       "(1401, 270)"
      ]
     },
     "execution_count": 50,
     "metadata": {},
     "output_type": "execute_result"
    }
   ],
   "source": [
    "x_training_data.shape"
   ]
  },
  {
   "cell_type": "code",
   "execution_count": 51,
   "id": "b1226798",
   "metadata": {},
   "outputs": [
    {
     "data": {
      "text/plain": [
       "(1401, 3)"
      ]
     },
     "execution_count": 51,
     "metadata": {},
     "output_type": "execute_result"
    }
   ],
   "source": [
    "y_training_data.shape"
   ]
  },
  {
   "cell_type": "code",
   "execution_count": 52,
   "id": "cf61a4ca",
   "metadata": {},
   "outputs": [],
   "source": [
    "# We count that the size of raws are equal for images and inputs\n",
    "assert x_training_data.shape[0] == y_training_data.shape[0]"
   ]
  },
  {
   "cell_type": "code",
   "execution_count": 53,
   "id": "9c6ec16c",
   "metadata": {},
   "outputs": [],
   "source": [
    "# The size of columns for image is 270\n",
    "assert x_training_data.shape[1] == 270"
   ]
  },
  {
   "cell_type": "code",
   "execution_count": 54,
   "id": "5b4d7ce1",
   "metadata": {},
   "outputs": [
    {
     "data": {
      "text/plain": [
       "(270, 480, 3)"
      ]
     },
     "execution_count": 54,
     "metadata": {},
     "output_type": "execute_result"
    }
   ],
   "source": [
    "test_1=df_to_numpy_image(x_training_data,0)\n",
    "test_1.shape"
   ]
  },
  {
   "cell_type": "code",
   "execution_count": 55,
   "id": "e8ff27d9",
   "metadata": {},
   "outputs": [
    {
     "data": {
      "image/jpeg": "[encoded data removed]",
      "text/plain": [
       "<IPython.core.display.Image object>"
      ]
     },
     "metadata": {},
     "output_type": "display_data"
    }
   ],
   "source": [
    "showarray(test_1)"
   ]
  },
  {
   "cell_type": "code",
   "execution_count": 56,
   "id": "ab427d41",
   "metadata": {},
   "outputs": [],
   "source": [
    "X_train, X_valid, y_train, y_valid = train_test_split(x_training_data, y_training_data, test_size=0.2, random_state=6)"
   ]
  },
  {
   "cell_type": "code",
   "execution_count": 57,
   "id": "6bccbc82",
   "metadata": {
    "scrolled": true
   },
   "outputs": [
    {
     "name": "stdout",
     "output_type": "stream",
     "text": [
      "Training Samples: 1120\n",
      "Valid Samples: 281\n"
     ]
    },
    {
     "data": {
      "text/plain": [
       "Text(0.5, 1.0, 'Validation set')"
      ]
     },
     "execution_count": 57,
     "metadata": {},
     "output_type": "execute_result"
    },
    {
     "data": {
      "image/png": "[encoded data removed]",
      "text/plain": [
       "<Figure size 864x288 with 2 Axes>"
      ]
     },
     "metadata": {
      "needs_background": "light"
     },
     "output_type": "display_data"
    }
   ],
   "source": [
    "num_bins = 25\n",
    "print('Training Samples: {}\\nValid Samples: {}'.format(len(X_train), len(y_valid)))\n",
    "fig, axes = plt.subplots(1, 2, figsize=(12, 4))\n",
    "axes[0].hist(y_train, bins=num_bins, width=0.05)\n",
    "axes[0].set_title('Training set')\n",
    "axes[1].hist(y_valid, bins=num_bins, width=0.05)\n",
    "axes[1].set_title('Validation set')\n"
   ]
  },
  {
   "cell_type": "markdown",
   "id": "84f89c16",
   "metadata": {},
   "source": [
    "The previous plot show the distribution of data to be used. It is seen thant still we have the problem of the unbalanced data, so we require additional procedures to deal this unbalanced data."
   ]
  },
  {
   "cell_type": "code",
   "execution_count": 58,
   "id": "5b0696d0",
   "metadata": {},
   "outputs": [],
   "source": [
    "import pandas as pd"
   ]
  },
  {
   "cell_type": "code",
   "execution_count": 59,
   "id": "8cf2b563",
   "metadata": {},
   "outputs": [],
   "source": [
    "y_training_data=pd.read_csv('../data_reduced/y_training_data.csv')  "
   ]
  },
  {
   "cell_type": "code",
   "execution_count": 60,
   "id": "209c26d0",
   "metadata": {},
   "outputs": [],
   "source": [
    "data_y=y_training_data"
   ]
  },
  {
   "cell_type": "code",
   "execution_count": 61,
   "id": "b8c8049f",
   "metadata": {},
   "outputs": [
    {
     "data": {
      "text/html": [
       "<div>\n",
       "<style scoped>\n",
       "    .dataframe tbody tr th:only-of-type {\n",
       "        vertical-align: middle;\n",
       "    }\n",
       "\n",
       "    .dataframe tbody tr th {\n",
       "        vertical-align: top;\n",
       "    }\n",
       "\n",
       "    .dataframe thead th {\n",
       "        text-align: right;\n",
       "    }\n",
       "</style>\n",
       "<table border=\"1\" class=\"dataframe\">\n",
       "  <thead>\n",
       "    <tr style=\"text-align: right;\">\n",
       "      <th></th>\n",
       "      <th>12</th>\n",
       "      <th>13</th>\n",
       "      <th>11</th>\n",
       "    </tr>\n",
       "  </thead>\n",
       "  <tbody>\n",
       "    <tr>\n",
       "      <th>0</th>\n",
       "      <td>1</td>\n",
       "      <td>1</td>\n",
       "      <td>0.0</td>\n",
       "    </tr>\n",
       "    <tr>\n",
       "      <th>1</th>\n",
       "      <td>1</td>\n",
       "      <td>-1</td>\n",
       "      <td>0.0</td>\n",
       "    </tr>\n",
       "    <tr>\n",
       "      <th>2</th>\n",
       "      <td>1</td>\n",
       "      <td>-1</td>\n",
       "      <td>0.0</td>\n",
       "    </tr>\n",
       "    <tr>\n",
       "      <th>3</th>\n",
       "      <td>1</td>\n",
       "      <td>1</td>\n",
       "      <td>0.0</td>\n",
       "    </tr>\n",
       "    <tr>\n",
       "      <th>4</th>\n",
       "      <td>1</td>\n",
       "      <td>1</td>\n",
       "      <td>0.0</td>\n",
       "    </tr>\n",
       "  </tbody>\n",
       "</table>\n",
       "</div>"
      ],
      "text/plain": [
       "   12  13   11\n",
       "0   1   1  0.0\n",
       "1   1  -1  0.0\n",
       "2   1  -1  0.0\n",
       "3   1   1  0.0\n",
       "4   1   1  0.0"
      ]
     },
     "execution_count": 61,
     "metadata": {},
     "output_type": "execute_result"
    }
   ],
   "source": [
    "data_y.head()"
   ]
  },
  {
   "cell_type": "code",
   "execution_count": 62,
   "id": "a4425e40",
   "metadata": {},
   "outputs": [
    {
     "data": {
      "text/html": [
       "<div>\n",
       "<style scoped>\n",
       "    .dataframe tbody tr th:only-of-type {\n",
       "        vertical-align: middle;\n",
       "    }\n",
       "\n",
       "    .dataframe tbody tr th {\n",
       "        vertical-align: top;\n",
       "    }\n",
       "\n",
       "    .dataframe thead th {\n",
       "        text-align: right;\n",
       "    }\n",
       "</style>\n",
       "<table border=\"1\" class=\"dataframe\">\n",
       "  <thead>\n",
       "    <tr style=\"text-align: right;\">\n",
       "      <th></th>\n",
       "      <th>12</th>\n",
       "      <th>13</th>\n",
       "      <th>11</th>\n",
       "    </tr>\n",
       "  </thead>\n",
       "  <tbody>\n",
       "    <tr>\n",
       "      <th>count</th>\n",
       "      <td>1401.000000</td>\n",
       "      <td>1401.000000</td>\n",
       "      <td>1401.000000</td>\n",
       "    </tr>\n",
       "    <tr>\n",
       "      <th>mean</th>\n",
       "      <td>0.876517</td>\n",
       "      <td>-0.002855</td>\n",
       "      <td>0.004283</td>\n",
       "    </tr>\n",
       "    <tr>\n",
       "      <th>std</th>\n",
       "      <td>0.333421</td>\n",
       "      <td>0.714137</td>\n",
       "      <td>0.065325</td>\n",
       "    </tr>\n",
       "    <tr>\n",
       "      <th>min</th>\n",
       "      <td>-1.000000</td>\n",
       "      <td>-1.000000</td>\n",
       "      <td>0.000000</td>\n",
       "    </tr>\n",
       "    <tr>\n",
       "      <th>25%</th>\n",
       "      <td>1.000000</td>\n",
       "      <td>-1.000000</td>\n",
       "      <td>0.000000</td>\n",
       "    </tr>\n",
       "    <tr>\n",
       "      <th>50%</th>\n",
       "      <td>1.000000</td>\n",
       "      <td>0.000000</td>\n",
       "      <td>0.000000</td>\n",
       "    </tr>\n",
       "    <tr>\n",
       "      <th>75%</th>\n",
       "      <td>1.000000</td>\n",
       "      <td>1.000000</td>\n",
       "      <td>0.000000</td>\n",
       "    </tr>\n",
       "    <tr>\n",
       "      <th>max</th>\n",
       "      <td>1.000000</td>\n",
       "      <td>1.000000</td>\n",
       "      <td>1.000000</td>\n",
       "    </tr>\n",
       "  </tbody>\n",
       "</table>\n",
       "</div>"
      ],
      "text/plain": [
       "                12           13           11\n",
       "count  1401.000000  1401.000000  1401.000000\n",
       "mean      0.876517    -0.002855     0.004283\n",
       "std       0.333421     0.714137     0.065325\n",
       "min      -1.000000    -1.000000     0.000000\n",
       "25%       1.000000    -1.000000     0.000000\n",
       "50%       1.000000     0.000000     0.000000\n",
       "75%       1.000000     1.000000     0.000000\n",
       "max       1.000000     1.000000     1.000000"
      ]
     },
     "execution_count": 62,
     "metadata": {},
     "output_type": "execute_result"
    }
   ],
   "source": [
    "data_y.describe()"
   ]
  },
  {
   "cell_type": "code",
   "execution_count": null,
   "id": "d9b7984d",
   "metadata": {},
   "outputs": [],
   "source": []
  },
  {
   "cell_type": "code",
   "execution_count": 63,
   "id": "ab3fdcc5",
   "metadata": {},
   "outputs": [],
   "source": [
    "import seaborn as sns\n",
    "def undersampling(data_y, column_name):\n",
    "    '''\n",
    "    data_y : pands dataframe to apply undersampling \n",
    "    column_name : column name string\n",
    "    \n",
    "    '''\n",
    "    fig, ax =plt.subplots(1,2)\n",
    "    #Before undersampling\n",
    "    sns.countplot(data_y[column_name], ax=ax[0])\n",
    "    # class count\n",
    "    class_count_0, class_count_1, class_count_2 = data_y[column_name].value_counts()\n",
    "    \n",
    "    # Separate class\n",
    "    class_0 = data_y[data_y[column_name] == 0]\n",
    "    class_1 = data_y[data_y[column_name] == 1]\n",
    "    class_2 = data_y[data_y[column_name] == -1]\n",
    "    \n",
    "    \n",
    "    \n",
    "    print('class 0:', class_0.shape)\n",
    "    print('class 1:', class_1.shape)\n",
    "    print('class 2:', class_2.shape)\n",
    "    class_0_under = class_0.sample(class_count_1)\n",
    "    y_under = pd.concat([class_0_under, class_1, class_2], axis=0)\n",
    "    print(\"total class of 1 and 0:\",y_under[column_name].value_counts())\n",
    "    # plot the count after under-sampeling\n",
    "    sns.countplot(y_under[column_name], ax=ax[1])\n",
    "    fig.show()\n",
    "    return y_under "
   ]
  },
  {
   "cell_type": "code",
   "execution_count": 64,
   "id": "37da681c",
   "metadata": {},
   "outputs": [
    {
     "name": "stdout",
     "output_type": "stream",
     "text": [
      "class 0: (687, 3)\n",
      "class 1: (355, 3)\n",
      "class 2: (359, 3)\n",
      "total class of 1 and 0: -1    359\n",
      " 0    359\n",
      " 1    355\n",
      "Name: 13, dtype: int64\n"
     ]
    },
    {
     "name": "stderr",
     "output_type": "stream",
     "text": [
      "C:\\Anaconda3\\envs\\pygta5\\lib\\site-packages\\seaborn\\_decorators.py:43: FutureWarning: Pass the following variable as a keyword arg: x. From version 0.12, the only valid positional argument will be `data`, and passing other arguments without an explicit keyword will result in an error or misinterpretation.\n",
      "  FutureWarning\n",
      "C:\\Anaconda3\\envs\\pygta5\\lib\\site-packages\\seaborn\\_decorators.py:43: FutureWarning: Pass the following variable as a keyword arg: x. From version 0.12, the only valid positional argument will be `data`, and passing other arguments without an explicit keyword will result in an error or misinterpretation.\n",
      "  FutureWarning\n",
      "C:\\Anaconda3\\envs\\pygta5\\lib\\site-packages\\ipykernel_launcher.py:29: UserWarning: Matplotlib is currently using module://ipykernel.pylab.backend_inline, which is a non-GUI backend, so cannot show the figure.\n"
     ]
    },
    {
     "data": {
      "image/png": "[encoded data removed]",
      "text/plain": [
       "<Figure size 432x288 with 2 Axes>"
      ]
     },
     "metadata": {
      "needs_background": "light"
     },
     "output_type": "display_data"
    }
   ],
   "source": [
    "data_y_und=undersampling(data_y,'13')"
   ]
  },
  {
   "cell_type": "code",
   "execution_count": 65,
   "id": "92c183e2",
   "metadata": {},
   "outputs": [],
   "source": [
    "#pip install seaborn"
   ]
  },
  {
   "cell_type": "code",
   "execution_count": 66,
   "id": "fee6a99a",
   "metadata": {},
   "outputs": [],
   "source": [
    "import seaborn as sns"
   ]
  },
  {
   "cell_type": "code",
   "execution_count": 67,
   "id": "2cd6e8a4",
   "metadata": {},
   "outputs": [
    {
     "name": "stderr",
     "output_type": "stream",
     "text": [
      "C:\\Anaconda3\\envs\\pygta5\\lib\\site-packages\\seaborn\\_decorators.py:43: FutureWarning: Pass the following variable as a keyword arg: x. From version 0.12, the only valid positional argument will be `data`, and passing other arguments without an explicit keyword will result in an error or misinterpretation.\n",
      "  FutureWarning\n"
     ]
    },
    {
     "data": {
      "text/plain": [
       "<AxesSubplot:xlabel='12', ylabel='count'>"
      ]
     },
     "execution_count": 67,
     "metadata": {},
     "output_type": "execute_result"
    },
    {
     "data": {
      "image/png": "[encoded data removed]",
      "text/plain": [
       "<Figure size 432x288 with 1 Axes>"
      ]
     },
     "metadata": {
      "needs_background": "light"
     },
     "output_type": "display_data"
    }
   ],
   "source": [
    "sns.countplot(data_y['12'])"
   ]
  },
  {
   "cell_type": "code",
   "execution_count": 68,
   "id": "54b125e3",
   "metadata": {},
   "outputs": [
    {
     "name": "stderr",
     "output_type": "stream",
     "text": [
      "C:\\Anaconda3\\envs\\pygta5\\lib\\site-packages\\seaborn\\_decorators.py:43: FutureWarning: Pass the following variable as a keyword arg: x. From version 0.12, the only valid positional argument will be `data`, and passing other arguments without an explicit keyword will result in an error or misinterpretation.\n",
      "  FutureWarning\n"
     ]
    },
    {
     "data": {
      "text/plain": [
       "<AxesSubplot:xlabel='13', ylabel='count'>"
      ]
     },
     "execution_count": 68,
     "metadata": {},
     "output_type": "execute_result"
    },
    {
     "data": {
      "image/png": "[encoded data removed]",
      "text/plain": [
       "<Figure size 432x288 with 1 Axes>"
      ]
     },
     "metadata": {
      "needs_background": "light"
     },
     "output_type": "display_data"
    }
   ],
   "source": [
    "sns.countplot(data_y['13'])"
   ]
  },
  {
   "cell_type": "markdown",
   "id": "123f8e5a",
   "metadata": {},
   "source": [
    "The simplest implementation of over-sampling is to duplicate random records from the minority class, which can cause overfishing.\n",
    "In under-sampling, the simplest technique involves removing random records from the majority class, which can cause loss of information."
   ]
  },
  {
   "cell_type": "code",
   "execution_count": 69,
   "id": "19a78fe5",
   "metadata": {},
   "outputs": [],
   "source": [
    "# class count\n",
    "class_count_0, class_count_1, class_count_2 = data_y['13'].value_counts()"
   ]
  },
  {
   "cell_type": "code",
   "execution_count": 70,
   "id": "ce68adcc",
   "metadata": {},
   "outputs": [
    {
     "data": {
      "text/plain": [
       "687"
      ]
     },
     "execution_count": 70,
     "metadata": {},
     "output_type": "execute_result"
    }
   ],
   "source": [
    "class_count_0"
   ]
  },
  {
   "cell_type": "code",
   "execution_count": 71,
   "id": "c4f65cd9",
   "metadata": {},
   "outputs": [
    {
     "data": {
      "text/plain": [
       "359"
      ]
     },
     "execution_count": 71,
     "metadata": {},
     "output_type": "execute_result"
    }
   ],
   "source": [
    "class_count_1"
   ]
  },
  {
   "cell_type": "code",
   "execution_count": 72,
   "id": "56f000ba",
   "metadata": {},
   "outputs": [
    {
     "data": {
      "text/plain": [
       "355"
      ]
     },
     "execution_count": 72,
     "metadata": {},
     "output_type": "execute_result"
    }
   ],
   "source": [
    "class_count_2"
   ]
  },
  {
   "cell_type": "code",
   "execution_count": 73,
   "id": "d59d2c61",
   "metadata": {},
   "outputs": [],
   "source": [
    "# Separate class\n",
    "class_0 = data_y[data_y['13'] == 0]\n",
    "class_1 = data_y[data_y['13'] == 1]\n",
    "class_2 = data_y[data_y['13'] == -1]\n",
    "# print the shape of the class"
   ]
  },
  {
   "cell_type": "code",
   "execution_count": 74,
   "id": "aa409a0f",
   "metadata": {},
   "outputs": [
    {
     "name": "stdout",
     "output_type": "stream",
     "text": [
      "class 0: (687, 3)\n",
      "class 1: (355, 3)\n",
      "class 2: (359, 3)\n"
     ]
    }
   ],
   "source": [
    "print('class 0:', class_0.shape)\n",
    "print('class 1:', class_1.shape)\n",
    "print('class 2:', class_2.shape)"
   ]
  },
  {
   "cell_type": "markdown",
   "id": "cffdcf04",
   "metadata": {},
   "source": [
    "Undersampling can be defined as removing some observations of the majority class. This is done until the majority and minority class is balanced out.\n",
    "\n",
    "Undersampling can be a good choice when you have a ton of data -think millions of rows. But a drawback to undersampling is that we are removing information that may be valuable."
   ]
  },
  {
   "cell_type": "code",
   "execution_count": 75,
   "id": "831f1bed",
   "metadata": {},
   "outputs": [],
   "source": [
    "class_0_under = class_0.sample(class_count_1)"
   ]
  },
  {
   "cell_type": "code",
   "execution_count": 76,
   "id": "aa2d00a7",
   "metadata": {},
   "outputs": [],
   "source": [
    "y_under = pd.concat([class_0_under, class_1, class_2], axis=0)"
   ]
  },
  {
   "cell_type": "code",
   "execution_count": 77,
   "id": "6f840048",
   "metadata": {},
   "outputs": [
    {
     "name": "stdout",
     "output_type": "stream",
     "text": [
      "total class of 1 and 0: -1    359\n",
      " 0    359\n",
      " 1    355\n",
      "Name: 13, dtype: int64\n"
     ]
    }
   ],
   "source": [
    "print(\"total class of 1 and 0:\",y_under['13'].value_counts())\n",
    "# plot the count after under-sampeling"
   ]
  },
  {
   "cell_type": "code",
   "execution_count": 78,
   "id": "9e2b1677",
   "metadata": {},
   "outputs": [
    {
     "data": {
      "text/plain": [
       "<AxesSubplot:title={'center':'count (target)'}>"
      ]
     },
     "execution_count": 78,
     "metadata": {},
     "output_type": "execute_result"
    },
    {
     "data": {
      "image/png": "[encoded data removed]",
      "text/plain": [
       "<Figure size 432x288 with 1 Axes>"
      ]
     },
     "metadata": {
      "needs_background": "light"
     },
     "output_type": "display_data"
    }
   ],
   "source": [
    "y_under['13'].value_counts().plot(kind='bar', title='count (target)')"
   ]
  },
  {
   "cell_type": "code",
   "execution_count": 79,
   "id": "c70ec833",
   "metadata": {},
   "outputs": [
    {
     "data": {
      "text/plain": [
       "pandas.core.frame.DataFrame"
      ]
     },
     "execution_count": 79,
     "metadata": {},
     "output_type": "execute_result"
    }
   ],
   "source": [
    "type(y_under)"
   ]
  },
  {
   "cell_type": "code",
   "execution_count": 80,
   "id": "43dcca95",
   "metadata": {},
   "outputs": [
    {
     "data": {
      "text/html": [
       "<div>\n",
       "<style scoped>\n",
       "    .dataframe tbody tr th:only-of-type {\n",
       "        vertical-align: middle;\n",
       "    }\n",
       "\n",
       "    .dataframe tbody tr th {\n",
       "        vertical-align: top;\n",
       "    }\n",
       "\n",
       "    .dataframe thead th {\n",
       "        text-align: right;\n",
       "    }\n",
       "</style>\n",
       "<table border=\"1\" class=\"dataframe\">\n",
       "  <thead>\n",
       "    <tr style=\"text-align: right;\">\n",
       "      <th></th>\n",
       "      <th>12</th>\n",
       "      <th>13</th>\n",
       "      <th>11</th>\n",
       "    </tr>\n",
       "  </thead>\n",
       "  <tbody>\n",
       "    <tr>\n",
       "      <th>28</th>\n",
       "      <td>1</td>\n",
       "      <td>0</td>\n",
       "      <td>0.0</td>\n",
       "    </tr>\n",
       "    <tr>\n",
       "      <th>1085</th>\n",
       "      <td>1</td>\n",
       "      <td>0</td>\n",
       "      <td>0.0</td>\n",
       "    </tr>\n",
       "    <tr>\n",
       "      <th>984</th>\n",
       "      <td>1</td>\n",
       "      <td>0</td>\n",
       "      <td>0.0</td>\n",
       "    </tr>\n",
       "    <tr>\n",
       "      <th>808</th>\n",
       "      <td>1</td>\n",
       "      <td>0</td>\n",
       "      <td>0.0</td>\n",
       "    </tr>\n",
       "    <tr>\n",
       "      <th>266</th>\n",
       "      <td>1</td>\n",
       "      <td>0</td>\n",
       "      <td>0.0</td>\n",
       "    </tr>\n",
       "    <tr>\n",
       "      <th>...</th>\n",
       "      <td>...</td>\n",
       "      <td>...</td>\n",
       "      <td>...</td>\n",
       "    </tr>\n",
       "    <tr>\n",
       "      <th>1384</th>\n",
       "      <td>1</td>\n",
       "      <td>-1</td>\n",
       "      <td>0.0</td>\n",
       "    </tr>\n",
       "    <tr>\n",
       "      <th>1393</th>\n",
       "      <td>1</td>\n",
       "      <td>-1</td>\n",
       "      <td>0.0</td>\n",
       "    </tr>\n",
       "    <tr>\n",
       "      <th>1398</th>\n",
       "      <td>1</td>\n",
       "      <td>-1</td>\n",
       "      <td>0.0</td>\n",
       "    </tr>\n",
       "    <tr>\n",
       "      <th>1399</th>\n",
       "      <td>1</td>\n",
       "      <td>-1</td>\n",
       "      <td>0.0</td>\n",
       "    </tr>\n",
       "    <tr>\n",
       "      <th>1400</th>\n",
       "      <td>1</td>\n",
       "      <td>-1</td>\n",
       "      <td>0.0</td>\n",
       "    </tr>\n",
       "  </tbody>\n",
       "</table>\n",
       "<p>1073 rows × 3 columns</p>\n",
       "</div>"
      ],
      "text/plain": [
       "      12  13   11\n",
       "28     1   0  0.0\n",
       "1085   1   0  0.0\n",
       "984    1   0  0.0\n",
       "808    1   0  0.0\n",
       "266    1   0  0.0\n",
       "...   ..  ..  ...\n",
       "1384   1  -1  0.0\n",
       "1393   1  -1  0.0\n",
       "1398   1  -1  0.0\n",
       "1399   1  -1  0.0\n",
       "1400   1  -1  0.0\n",
       "\n",
       "[1073 rows x 3 columns]"
      ]
     },
     "execution_count": 80,
     "metadata": {},
     "output_type": "execute_result"
    }
   ],
   "source": [
    "y_under"
   ]
  },
  {
   "cell_type": "code",
   "execution_count": 81,
   "id": "44c30ccf",
   "metadata": {},
   "outputs": [
    {
     "data": {
      "text/plain": [
       "-1    359\n",
       " 0    359\n",
       " 1    355\n",
       "Name: 13, dtype: int64"
      ]
     },
     "execution_count": 81,
     "metadata": {},
     "output_type": "execute_result"
    }
   ],
   "source": [
    "y_under['13'].value_counts()"
   ]
  },
  {
   "cell_type": "code",
   "execution_count": 82,
   "id": "65585bf3",
   "metadata": {},
   "outputs": [
    {
     "name": "stderr",
     "output_type": "stream",
     "text": [
      "C:\\Anaconda3\\envs\\pygta5\\lib\\site-packages\\seaborn\\_decorators.py:43: FutureWarning: Pass the following variable as a keyword arg: x. From version 0.12, the only valid positional argument will be `data`, and passing other arguments without an explicit keyword will result in an error or misinterpretation.\n",
      "  FutureWarning\n"
     ]
    },
    {
     "data": {
      "text/plain": [
       "<AxesSubplot:xlabel='13', ylabel='count'>"
      ]
     },
     "execution_count": 82,
     "metadata": {},
     "output_type": "execute_result"
    },
    {
     "data": {
      "image/png": "[encoded data removed]",
      "text/plain": [
       "<Figure size 432x288 with 1 Axes>"
      ]
     },
     "metadata": {
      "needs_background": "light"
     },
     "output_type": "display_data"
    }
   ],
   "source": [
    "sns.countplot(y_under['13'])"
   ]
  },
  {
   "cell_type": "code",
   "execution_count": 83,
   "id": "32465bf3",
   "metadata": {},
   "outputs": [
    {
     "data": {
      "text/html": [
       "<div>\n",
       "<style scoped>\n",
       "    .dataframe tbody tr th:only-of-type {\n",
       "        vertical-align: middle;\n",
       "    }\n",
       "\n",
       "    .dataframe tbody tr th {\n",
       "        vertical-align: top;\n",
       "    }\n",
       "\n",
       "    .dataframe thead th {\n",
       "        text-align: right;\n",
       "    }\n",
       "</style>\n",
       "<table border=\"1\" class=\"dataframe\">\n",
       "  <thead>\n",
       "    <tr style=\"text-align: right;\">\n",
       "      <th></th>\n",
       "      <th>12</th>\n",
       "      <th>13</th>\n",
       "      <th>11</th>\n",
       "    </tr>\n",
       "  </thead>\n",
       "  <tbody>\n",
       "    <tr>\n",
       "      <th>28</th>\n",
       "      <td>1</td>\n",
       "      <td>0</td>\n",
       "      <td>0.0</td>\n",
       "    </tr>\n",
       "    <tr>\n",
       "      <th>1085</th>\n",
       "      <td>1</td>\n",
       "      <td>0</td>\n",
       "      <td>0.0</td>\n",
       "    </tr>\n",
       "    <tr>\n",
       "      <th>984</th>\n",
       "      <td>1</td>\n",
       "      <td>0</td>\n",
       "      <td>0.0</td>\n",
       "    </tr>\n",
       "    <tr>\n",
       "      <th>808</th>\n",
       "      <td>1</td>\n",
       "      <td>0</td>\n",
       "      <td>0.0</td>\n",
       "    </tr>\n",
       "    <tr>\n",
       "      <th>266</th>\n",
       "      <td>1</td>\n",
       "      <td>0</td>\n",
       "      <td>0.0</td>\n",
       "    </tr>\n",
       "  </tbody>\n",
       "</table>\n",
       "</div>"
      ],
      "text/plain": [
       "      12  13   11\n",
       "28     1   0  0.0\n",
       "1085   1   0  0.0\n",
       "984    1   0  0.0\n",
       "808    1   0  0.0\n",
       "266    1   0  0.0"
      ]
     },
     "execution_count": 83,
     "metadata": {},
     "output_type": "execute_result"
    }
   ],
   "source": [
    "y_under.head()"
   ]
  },
  {
   "cell_type": "code",
   "execution_count": 84,
   "id": "04a23732",
   "metadata": {},
   "outputs": [
    {
     "name": "stdout",
     "output_type": "stream",
     "text": [
      "class 0: (687, 3)\n",
      "class 1: (355, 3)\n",
      "class 2: (359, 3)\n",
      "total class of 1 and 0: -1    359\n",
      " 0    359\n",
      " 1    355\n",
      "Name: 13, dtype: int64\n"
     ]
    },
    {
     "name": "stderr",
     "output_type": "stream",
     "text": [
      "C:\\Anaconda3\\envs\\pygta5\\lib\\site-packages\\seaborn\\_decorators.py:43: FutureWarning: Pass the following variable as a keyword arg: x. From version 0.12, the only valid positional argument will be `data`, and passing other arguments without an explicit keyword will result in an error or misinterpretation.\n",
      "  FutureWarning\n",
      "C:\\Anaconda3\\envs\\pygta5\\lib\\site-packages\\seaborn\\_decorators.py:43: FutureWarning: Pass the following variable as a keyword arg: x. From version 0.12, the only valid positional argument will be `data`, and passing other arguments without an explicit keyword will result in an error or misinterpretation.\n",
      "  FutureWarning\n",
      "C:\\Anaconda3\\envs\\pygta5\\lib\\site-packages\\ipykernel_launcher.py:29: UserWarning: Matplotlib is currently using module://ipykernel.pylab.backend_inline, which is a non-GUI backend, so cannot show the figure.\n"
     ]
    },
    {
     "data": {
      "image/png": "[encoded data removed]",
      "text/plain": [
       "<Figure size 432x288 with 2 Axes>"
      ]
     },
     "metadata": {
      "needs_background": "light"
     },
     "output_type": "display_data"
    }
   ],
   "source": [
    "y_under=undersampling(data_y,'13')"
   ]
  },
  {
   "cell_type": "code",
   "execution_count": 85,
   "id": "aece1de0",
   "metadata": {},
   "outputs": [
    {
     "data": {
      "text/html": [
       "<div>\n",
       "<style scoped>\n",
       "    .dataframe tbody tr th:only-of-type {\n",
       "        vertical-align: middle;\n",
       "    }\n",
       "\n",
       "    .dataframe tbody tr th {\n",
       "        vertical-align: top;\n",
       "    }\n",
       "\n",
       "    .dataframe thead th {\n",
       "        text-align: right;\n",
       "    }\n",
       "</style>\n",
       "<table border=\"1\" class=\"dataframe\">\n",
       "  <thead>\n",
       "    <tr style=\"text-align: right;\">\n",
       "      <th></th>\n",
       "      <th>12</th>\n",
       "      <th>13</th>\n",
       "      <th>11</th>\n",
       "    </tr>\n",
       "  </thead>\n",
       "  <tbody>\n",
       "    <tr>\n",
       "      <th>count</th>\n",
       "      <td>1073.000000</td>\n",
       "      <td>1073.000000</td>\n",
       "      <td>1073.000000</td>\n",
       "    </tr>\n",
       "    <tr>\n",
       "      <th>mean</th>\n",
       "      <td>0.845294</td>\n",
       "      <td>-0.003728</td>\n",
       "      <td>0.005592</td>\n",
       "    </tr>\n",
       "    <tr>\n",
       "      <th>std</th>\n",
       "      <td>0.366914</td>\n",
       "      <td>0.816107</td>\n",
       "      <td>0.074604</td>\n",
       "    </tr>\n",
       "    <tr>\n",
       "      <th>min</th>\n",
       "      <td>-1.000000</td>\n",
       "      <td>-1.000000</td>\n",
       "      <td>0.000000</td>\n",
       "    </tr>\n",
       "    <tr>\n",
       "      <th>25%</th>\n",
       "      <td>1.000000</td>\n",
       "      <td>-1.000000</td>\n",
       "      <td>0.000000</td>\n",
       "    </tr>\n",
       "    <tr>\n",
       "      <th>50%</th>\n",
       "      <td>1.000000</td>\n",
       "      <td>0.000000</td>\n",
       "      <td>0.000000</td>\n",
       "    </tr>\n",
       "    <tr>\n",
       "      <th>75%</th>\n",
       "      <td>1.000000</td>\n",
       "      <td>1.000000</td>\n",
       "      <td>0.000000</td>\n",
       "    </tr>\n",
       "    <tr>\n",
       "      <th>max</th>\n",
       "      <td>1.000000</td>\n",
       "      <td>1.000000</td>\n",
       "      <td>1.000000</td>\n",
       "    </tr>\n",
       "  </tbody>\n",
       "</table>\n",
       "</div>"
      ],
      "text/plain": [
       "                12           13           11\n",
       "count  1073.000000  1073.000000  1073.000000\n",
       "mean      0.845294    -0.003728     0.005592\n",
       "std       0.366914     0.816107     0.074604\n",
       "min      -1.000000    -1.000000     0.000000\n",
       "25%       1.000000    -1.000000     0.000000\n",
       "50%       1.000000     0.000000     0.000000\n",
       "75%       1.000000     1.000000     0.000000\n",
       "max       1.000000     1.000000     1.000000"
      ]
     },
     "execution_count": 85,
     "metadata": {},
     "output_type": "execute_result"
    }
   ],
   "source": [
    "y_under.describe()"
   ]
  },
  {
   "cell_type": "code",
   "execution_count": 86,
   "id": "58b7317f",
   "metadata": {},
   "outputs": [
    {
     "data": {
      "text/plain": [
       "<AxesSubplot:title={'center':'count (target)'}>"
      ]
     },
     "execution_count": 86,
     "metadata": {},
     "output_type": "execute_result"
    },
    {
     "data": {
      "image/png": "[encoded data removed]",
      "text/plain": [
       "<Figure size 432x288 with 1 Axes>"
      ]
     },
     "metadata": {
      "needs_background": "light"
     },
     "output_type": "display_data"
    }
   ],
   "source": [
    "y_under['11'].value_counts().plot(kind='bar', title='count (target)')"
   ]
  },
  {
   "cell_type": "code",
   "execution_count": 87,
   "id": "01b415c2",
   "metadata": {},
   "outputs": [],
   "source": [
    "del y_under['11']"
   ]
  },
  {
   "cell_type": "code",
   "execution_count": 88,
   "id": "bfdb6e6f",
   "metadata": {},
   "outputs": [
    {
     "data": {
      "text/html": [
       "<div>\n",
       "<style scoped>\n",
       "    .dataframe tbody tr th:only-of-type {\n",
       "        vertical-align: middle;\n",
       "    }\n",
       "\n",
       "    .dataframe tbody tr th {\n",
       "        vertical-align: top;\n",
       "    }\n",
       "\n",
       "    .dataframe thead th {\n",
       "        text-align: right;\n",
       "    }\n",
       "</style>\n",
       "<table border=\"1\" class=\"dataframe\">\n",
       "  <thead>\n",
       "    <tr style=\"text-align: right;\">\n",
       "      <th></th>\n",
       "      <th>12</th>\n",
       "      <th>13</th>\n",
       "    </tr>\n",
       "  </thead>\n",
       "  <tbody>\n",
       "    <tr>\n",
       "      <th>count</th>\n",
       "      <td>1073.000000</td>\n",
       "      <td>1073.000000</td>\n",
       "    </tr>\n",
       "    <tr>\n",
       "      <th>mean</th>\n",
       "      <td>0.845294</td>\n",
       "      <td>-0.003728</td>\n",
       "    </tr>\n",
       "    <tr>\n",
       "      <th>std</th>\n",
       "      <td>0.366914</td>\n",
       "      <td>0.816107</td>\n",
       "    </tr>\n",
       "    <tr>\n",
       "      <th>min</th>\n",
       "      <td>-1.000000</td>\n",
       "      <td>-1.000000</td>\n",
       "    </tr>\n",
       "    <tr>\n",
       "      <th>25%</th>\n",
       "      <td>1.000000</td>\n",
       "      <td>-1.000000</td>\n",
       "    </tr>\n",
       "    <tr>\n",
       "      <th>50%</th>\n",
       "      <td>1.000000</td>\n",
       "      <td>0.000000</td>\n",
       "    </tr>\n",
       "    <tr>\n",
       "      <th>75%</th>\n",
       "      <td>1.000000</td>\n",
       "      <td>1.000000</td>\n",
       "    </tr>\n",
       "    <tr>\n",
       "      <th>max</th>\n",
       "      <td>1.000000</td>\n",
       "      <td>1.000000</td>\n",
       "    </tr>\n",
       "  </tbody>\n",
       "</table>\n",
       "</div>"
      ],
      "text/plain": [
       "                12           13\n",
       "count  1073.000000  1073.000000\n",
       "mean      0.845294    -0.003728\n",
       "std       0.366914     0.816107\n",
       "min      -1.000000    -1.000000\n",
       "25%       1.000000    -1.000000\n",
       "50%       1.000000     0.000000\n",
       "75%       1.000000     1.000000\n",
       "max       1.000000     1.000000"
      ]
     },
     "execution_count": 88,
     "metadata": {},
     "output_type": "execute_result"
    }
   ],
   "source": [
    "y_under.describe()"
   ]
  },
  {
   "cell_type": "code",
   "execution_count": 89,
   "id": "c69bd484",
   "metadata": {},
   "outputs": [
    {
     "data": {
      "text/plain": [
       "<AxesSubplot:title={'center':'count (target)'}>"
      ]
     },
     "execution_count": 89,
     "metadata": {},
     "output_type": "execute_result"
    },
    {
     "data": {
      "image/png": "[encoded data removed]",
      "text/plain": [
       "<Figure size 432x288 with 1 Axes>"
      ]
     },
     "metadata": {
      "needs_background": "light"
     },
     "output_type": "display_data"
    }
   ],
   "source": [
    "y_under['12'].value_counts().plot(kind='bar', title='count (target)')"
   ]
  },
  {
   "cell_type": "code",
   "execution_count": 90,
   "id": "040383f1",
   "metadata": {},
   "outputs": [],
   "source": [
    "def undersampling12(data_y, column_name):\n",
    "    '''\n",
    "    data_y : pands dataframe to apply undersampling \n",
    "    column_name : column name string\n",
    "    \n",
    "    '''\n",
    "    fig, ax =plt.subplots(1,2)\n",
    "    #Before undersampling\n",
    "    sns.countplot(data_y[column_name], ax=ax[0])\n",
    "    # class count\n",
    "    class_count_0, class_count_1, class_count_2 = data_y[column_name].value_counts()\n",
    "    \n",
    "    # Separate class\n",
    "    class_0 = data_y[data_y[column_name] == 0]\n",
    "    class_1 = data_y[data_y[column_name] == 1]\n",
    "    class_2 = data_y[data_y[column_name] == -1]\n",
    "    \n",
    "    print('class 0:', class_0.shape)\n",
    "    print('class 1:', class_1.shape)\n",
    "    print('class 2:', class_2.shape)\n",
    "    class_1_under = class_1.sample(class_count_1)\n",
    "    y_under = pd.concat([class_0, class_1_under, class_2], axis=0)\n",
    "    print(\"total class of 1 and 0:\",y_under[column_name].value_counts())\n",
    "    # plot the count after under-sampeling\n",
    "    sns.countplot(y_under[column_name], ax=ax[1])\n",
    "    fig.show()\n",
    "    return y_under "
   ]
  },
  {
   "cell_type": "code",
   "execution_count": 91,
   "id": "6bfc401b",
   "metadata": {},
   "outputs": [
    {
     "name": "stdout",
     "output_type": "stream",
     "text": [
      "class 0: (162, 2)\n",
      "class 1: (909, 2)\n",
      "class 2: (2, 2)\n",
      "total class of 1 and 0:  1    162\n",
      " 0    162\n",
      "-1      2\n",
      "Name: 12, dtype: int64\n"
     ]
    },
    {
     "name": "stderr",
     "output_type": "stream",
     "text": [
      "C:\\Anaconda3\\envs\\pygta5\\lib\\site-packages\\seaborn\\_decorators.py:43: FutureWarning: Pass the following variable as a keyword arg: x. From version 0.12, the only valid positional argument will be `data`, and passing other arguments without an explicit keyword will result in an error or misinterpretation.\n",
      "  FutureWarning\n",
      "C:\\Anaconda3\\envs\\pygta5\\lib\\site-packages\\seaborn\\_decorators.py:43: FutureWarning: Pass the following variable as a keyword arg: x. From version 0.12, the only valid positional argument will be `data`, and passing other arguments without an explicit keyword will result in an error or misinterpretation.\n",
      "  FutureWarning\n",
      "C:\\Anaconda3\\envs\\pygta5\\lib\\site-packages\\ipykernel_launcher.py:26: UserWarning: Matplotlib is currently using module://ipykernel.pylab.backend_inline, which is a non-GUI backend, so cannot show the figure.\n"
     ]
    },
    {
     "data": {
      "image/png": "[encoded data removed]",
      "text/plain": [
       "<Figure size 432x288 with 2 Axes>"
      ]
     },
     "metadata": {
      "needs_background": "light"
     },
     "output_type": "display_data"
    }
   ],
   "source": [
    "y_under_b=undersampling12(y_under,'12')"
   ]
  },
  {
   "cell_type": "code",
   "execution_count": null,
   "id": "94ac6ddf",
   "metadata": {},
   "outputs": [],
   "source": []
  },
  {
   "cell_type": "code",
   "execution_count": 92,
   "id": "6f298d6a",
   "metadata": {},
   "outputs": [
    {
     "name": "stderr",
     "output_type": "stream",
     "text": [
      "C:\\Anaconda3\\envs\\pygta5\\lib\\site-packages\\seaborn\\_decorators.py:43: FutureWarning: Pass the following variable as a keyword arg: x. From version 0.12, the only valid positional argument will be `data`, and passing other arguments without an explicit keyword will result in an error or misinterpretation.\n",
      "  FutureWarning\n"
     ]
    },
    {
     "data": {
      "text/plain": [
       "<AxesSubplot:xlabel='13', ylabel='count'>"
      ]
     },
     "execution_count": 92,
     "metadata": {},
     "output_type": "execute_result"
    },
    {
     "data": {
      "image/png": "[encoded data removed]",
      "text/plain": [
       "<Figure size 432x288 with 1 Axes>"
      ]
     },
     "metadata": {
      "needs_background": "light"
     },
     "output_type": "display_data"
    }
   ],
   "source": [
    "sns.countplot(y_under_b['13'])"
   ]
  },
  {
   "cell_type": "code",
   "execution_count": 93,
   "id": "a3063c82",
   "metadata": {},
   "outputs": [
    {
     "name": "stderr",
     "output_type": "stream",
     "text": [
      "C:\\Anaconda3\\envs\\pygta5\\lib\\site-packages\\seaborn\\_decorators.py:43: FutureWarning: Pass the following variable as a keyword arg: x. From version 0.12, the only valid positional argument will be `data`, and passing other arguments without an explicit keyword will result in an error or misinterpretation.\n",
      "  FutureWarning\n"
     ]
    },
    {
     "data": {
      "text/plain": [
       "<AxesSubplot:xlabel='12', ylabel='count'>"
      ]
     },
     "execution_count": 93,
     "metadata": {},
     "output_type": "execute_result"
    },
    {
     "data": {
      "image/png": "[encoded data removed]",
      "text/plain": [
       "<Figure size 432x288 with 1 Axes>"
      ]
     },
     "metadata": {
      "needs_background": "light"
     },
     "output_type": "display_data"
    }
   ],
   "source": [
    "sns.countplot(y_under_b['12'])"
   ]
  },
  {
   "cell_type": "code",
   "execution_count": 94,
   "id": "2b3d6ef4",
   "metadata": {},
   "outputs": [],
   "source": [
    "#y_under_c=undersampling(y_under_b,'13')"
   ]
  },
  {
   "cell_type": "code",
   "execution_count": 95,
   "id": "f63ff277",
   "metadata": {},
   "outputs": [],
   "source": [
    "y_under=y_under_b"
   ]
  },
  {
   "cell_type": "markdown",
   "id": "ec0256bf",
   "metadata": {},
   "source": [
    "Selecting Pandas rows based on list index"
   ]
  },
  {
   "cell_type": "code",
   "execution_count": 96,
   "id": "5f0791f8",
   "metadata": {},
   "outputs": [],
   "source": [
    "data_x=pd.read_pickle('../data_reduced/x_training_data.csv')  "
   ]
  },
  {
   "cell_type": "code",
   "execution_count": 135,
   "id": "4db885da",
   "metadata": {},
   "outputs": [
    {
     "data": {
      "text/html": [
       "<div>\n",
       "<style scoped>\n",
       "    .dataframe tbody tr th:only-of-type {\n",
       "        vertical-align: middle;\n",
       "    }\n",
       "\n",
       "    .dataframe tbody tr th {\n",
       "        vertical-align: top;\n",
       "    }\n",
       "\n",
       "    .dataframe thead th {\n",
       "        text-align: right;\n",
       "    }\n",
       "</style>\n",
       "<table border=\"1\" class=\"dataframe\">\n",
       "  <thead>\n",
       "    <tr style=\"text-align: right;\">\n",
       "      <th></th>\n",
       "      <th>12</th>\n",
       "      <th>13</th>\n",
       "    </tr>\n",
       "  </thead>\n",
       "  <tbody>\n",
       "    <tr>\n",
       "      <th>315</th>\n",
       "      <td>0</td>\n",
       "      <td>0</td>\n",
       "    </tr>\n",
       "    <tr>\n",
       "      <th>316</th>\n",
       "      <td>0</td>\n",
       "      <td>0</td>\n",
       "    </tr>\n",
       "    <tr>\n",
       "      <th>324</th>\n",
       "      <td>0</td>\n",
       "      <td>0</td>\n",
       "    </tr>\n",
       "    <tr>\n",
       "      <th>246</th>\n",
       "      <td>0</td>\n",
       "      <td>1</td>\n",
       "    </tr>\n",
       "    <tr>\n",
       "      <th>247</th>\n",
       "      <td>0</td>\n",
       "      <td>1</td>\n",
       "    </tr>\n",
       "  </tbody>\n",
       "</table>\n",
       "</div>"
      ],
      "text/plain": [
       "     12  13\n",
       "315   0   0\n",
       "316   0   0\n",
       "324   0   0\n",
       "246   0   1\n",
       "247   0   1"
      ]
     },
     "execution_count": 135,
     "metadata": {},
     "output_type": "execute_result"
    }
   ],
   "source": [
    "y_under.head()"
   ]
  },
  {
   "cell_type": "code",
   "execution_count": 137,
   "id": "5abd2b14",
   "metadata": {},
   "outputs": [
    {
     "data": {
      "text/plain": [
       "(326, 2)"
      ]
     },
     "execution_count": 137,
     "metadata": {},
     "output_type": "execute_result"
    }
   ],
   "source": [
    "y_under.shape"
   ]
  },
  {
   "cell_type": "code",
   "execution_count": 98,
   "id": "16272dd6",
   "metadata": {},
   "outputs": [],
   "source": [
    "ind_list =list(y_under.index)"
   ]
  },
  {
   "cell_type": "code",
   "execution_count": 99,
   "id": "5ce6ae89",
   "metadata": {},
   "outputs": [],
   "source": [
    "x_under=data_x.iloc[ind_list]"
   ]
  },
  {
   "cell_type": "code",
   "execution_count": 100,
   "id": "1249e101",
   "metadata": {},
   "outputs": [],
   "source": [
    "#export to csv\n",
    "x_under.to_pickle(\"../data_reduced/undersampling/x_training_data.csv\")"
   ]
  },
  {
   "cell_type": "code",
   "execution_count": 152,
   "id": "a17732fc",
   "metadata": {},
   "outputs": [
    {
     "data": {
      "text/html": [
       "<div>\n",
       "<style scoped>\n",
       "    .dataframe tbody tr th:only-of-type {\n",
       "        vertical-align: middle;\n",
       "    }\n",
       "\n",
       "    .dataframe tbody tr th {\n",
       "        vertical-align: top;\n",
       "    }\n",
       "\n",
       "    .dataframe thead th {\n",
       "        text-align: right;\n",
       "    }\n",
       "</style>\n",
       "<table border=\"1\" class=\"dataframe\">\n",
       "  <thead>\n",
       "    <tr style=\"text-align: right;\">\n",
       "      <th></th>\n",
       "      <th>12</th>\n",
       "      <th>13</th>\n",
       "    </tr>\n",
       "  </thead>\n",
       "  <tbody>\n",
       "    <tr>\n",
       "      <th>315</th>\n",
       "      <td>0</td>\n",
       "      <td>0</td>\n",
       "    </tr>\n",
       "    <tr>\n",
       "      <th>316</th>\n",
       "      <td>0</td>\n",
       "      <td>0</td>\n",
       "    </tr>\n",
       "    <tr>\n",
       "      <th>324</th>\n",
       "      <td>0</td>\n",
       "      <td>0</td>\n",
       "    </tr>\n",
       "    <tr>\n",
       "      <th>246</th>\n",
       "      <td>0</td>\n",
       "      <td>1</td>\n",
       "    </tr>\n",
       "    <tr>\n",
       "      <th>247</th>\n",
       "      <td>0</td>\n",
       "      <td>1</td>\n",
       "    </tr>\n",
       "  </tbody>\n",
       "</table>\n",
       "</div>"
      ],
      "text/plain": [
       "     12  13\n",
       "315   0   0\n",
       "316   0   0\n",
       "324   0   0\n",
       "246   0   1\n",
       "247   0   1"
      ]
     },
     "execution_count": 152,
     "metadata": {},
     "output_type": "execute_result"
    }
   ],
   "source": [
    "y_under.head()"
   ]
  },
  {
   "cell_type": "code",
   "execution_count": 171,
   "id": "a744773a",
   "metadata": {},
   "outputs": [],
   "source": [
    "#export to csv\n",
    "y_under.to_csv( \"../data_reduced/undersampling/y_training_data.csv\", index=True)"
   ]
  },
  {
   "cell_type": "code",
   "execution_count": 172,
   "id": "ab6bff6b",
   "metadata": {},
   "outputs": [],
   "source": [
    "y_training_data=pd.read_csv('../data_reduced/undersampling/y_training_data.csv', index_col=[0])  "
   ]
  },
  {
   "cell_type": "code",
   "execution_count": 173,
   "id": "cdc7f408",
   "metadata": {},
   "outputs": [
    {
     "data": {
      "text/html": [
       "<div>\n",
       "<style scoped>\n",
       "    .dataframe tbody tr th:only-of-type {\n",
       "        vertical-align: middle;\n",
       "    }\n",
       "\n",
       "    .dataframe tbody tr th {\n",
       "        vertical-align: top;\n",
       "    }\n",
       "\n",
       "    .dataframe thead th {\n",
       "        text-align: right;\n",
       "    }\n",
       "</style>\n",
       "<table border=\"1\" class=\"dataframe\">\n",
       "  <thead>\n",
       "    <tr style=\"text-align: right;\">\n",
       "      <th></th>\n",
       "      <th>12</th>\n",
       "      <th>13</th>\n",
       "    </tr>\n",
       "  </thead>\n",
       "  <tbody>\n",
       "    <tr>\n",
       "      <th>315</th>\n",
       "      <td>0</td>\n",
       "      <td>0</td>\n",
       "    </tr>\n",
       "    <tr>\n",
       "      <th>316</th>\n",
       "      <td>0</td>\n",
       "      <td>0</td>\n",
       "    </tr>\n",
       "    <tr>\n",
       "      <th>324</th>\n",
       "      <td>0</td>\n",
       "      <td>0</td>\n",
       "    </tr>\n",
       "    <tr>\n",
       "      <th>246</th>\n",
       "      <td>0</td>\n",
       "      <td>1</td>\n",
       "    </tr>\n",
       "    <tr>\n",
       "      <th>247</th>\n",
       "      <td>0</td>\n",
       "      <td>1</td>\n",
       "    </tr>\n",
       "  </tbody>\n",
       "</table>\n",
       "</div>"
      ],
      "text/plain": [
       "     12  13\n",
       "315   0   0\n",
       "316   0   0\n",
       "324   0   0\n",
       "246   0   1\n",
       "247   0   1"
      ]
     },
     "execution_count": 173,
     "metadata": {},
     "output_type": "execute_result"
    }
   ],
   "source": [
    "y_training_data.head()"
   ]
  },
  {
   "cell_type": "code",
   "execution_count": 174,
   "id": "e35a4155",
   "metadata": {},
   "outputs": [],
   "source": [
    "import pandas as pd"
   ]
  },
  {
   "cell_type": "markdown",
   "id": "e159f739",
   "metadata": {},
   "source": [
    "## Verifing images and inputs in undersampling"
   ]
  },
  {
   "cell_type": "code",
   "execution_count": 250,
   "id": "6fe8969f",
   "metadata": {},
   "outputs": [],
   "source": [
    "x_training_data=pd.read_pickle('../data_reduced/undersampling/x_training_data.csv')  \n",
    "y_training_data=pd.read_csv('../data_reduced/undersampling/y_training_data.csv', index_col=[0])  "
   ]
  },
  {
   "cell_type": "markdown",
   "id": "02993c79",
   "metadata": {},
   "source": [
    "# Saving small set"
   ]
  },
  {
   "cell_type": "code",
   "execution_count": 186,
   "id": "af25fbda",
   "metadata": {},
   "outputs": [],
   "source": [
    "divi=(x_training_data.shape[0]-x_training_data.shape[0]%250)/250"
   ]
  },
  {
   "cell_type": "code",
   "execution_count": 187,
   "id": "99d282fe",
   "metadata": {},
   "outputs": [],
   "source": [
    "total=x_training_data.shape[0]-x_training_data.shape[0]%250"
   ]
  },
  {
   "cell_type": "code",
   "execution_count": 188,
   "id": "f6f59389",
   "metadata": {},
   "outputs": [],
   "source": [
    "split=total/divi"
   ]
  },
  {
   "cell_type": "code",
   "execution_count": 115,
   "id": "c7b1e4e3",
   "metadata": {},
   "outputs": [],
   "source": [
    "import pickle"
   ]
  },
  {
   "cell_type": "code",
   "execution_count": 190,
   "id": "d0541f1b",
   "metadata": {},
   "outputs": [
    {
     "name": "stdout",
     "output_type": "stream",
     "text": [
      "../data_reduced/undersampling/chunks/dfx-0.pkl 0 250\n"
     ]
    }
   ],
   "source": [
    "for i in range(int(divi)):\n",
    "        #processed image rgb color - no image filters\n",
    "        step_i=i*250\n",
    "        step_f=step_i+250\n",
    "        file_name = '../data_reduced/undersampling/chunks/dfx-{}.pkl'.format(i)\n",
    "        dfx = x_training_data.iloc[step_i:step_f]\n",
    "        with open(file_name, 'wb') as f:\n",
    "            pickle.dump(dfx, f)\n",
    "        print(file_name,step_i,step_f)"
   ]
  },
  {
   "cell_type": "code",
   "execution_count": 191,
   "id": "177b3ad8",
   "metadata": {},
   "outputs": [
    {
     "name": "stdout",
     "output_type": "stream",
     "text": [
      "../data_reduced/undersampling/chunks/dfy-0.pkl 0 250\n"
     ]
    }
   ],
   "source": [
    "for i in range(int(divi)):\n",
    "        #processed image rgb color - no image filters\n",
    "        step_i=i*250\n",
    "        step_f=step_i+250\n",
    "        file_name = '../data_reduced/undersampling/chunks/dfy-{}.pkl'.format(i)\n",
    "        dfy = y_training_data.iloc[step_i:step_f]\n",
    "        with open(file_name, 'wb') as f:\n",
    "            pickle.dump(dfy, f)\n",
    "        print(file_name,step_i,step_f)"
   ]
  },
  {
   "cell_type": "markdown",
   "id": "be7acf79",
   "metadata": {},
   "source": [
    "## Verification of data"
   ]
  },
  {
   "cell_type": "code",
   "execution_count": 192,
   "id": "31aa901d",
   "metadata": {},
   "outputs": [
    {
     "data": {
      "text/plain": [
       "(326, 270)"
      ]
     },
     "execution_count": 192,
     "metadata": {},
     "output_type": "execute_result"
    }
   ],
   "source": [
    "x_training_data.shape\n",
    "# (1401, 270) normal\n",
    "# (1073, 270) undersampling"
   ]
  },
  {
   "cell_type": "code",
   "execution_count": 193,
   "id": "f404a7a2",
   "metadata": {},
   "outputs": [
    {
     "data": {
      "text/plain": [
       "(326, 2)"
      ]
     },
     "execution_count": 193,
     "metadata": {},
     "output_type": "execute_result"
    }
   ],
   "source": [
    "y_training_data.shape\n",
    "#(1401, 29) normal\n",
    "#(1073, 29) undersampling"
   ]
  },
  {
   "cell_type": "code",
   "execution_count": 194,
   "id": "262f4c1c",
   "metadata": {},
   "outputs": [],
   "source": [
    "# We count that the size of raws are equal for images and inputs\n",
    "assert x_training_data.shape[0] == y_training_data.shape[0]"
   ]
  },
  {
   "cell_type": "code",
   "execution_count": 195,
   "id": "f1620f8c",
   "metadata": {},
   "outputs": [],
   "source": [
    "# The size of columns for image is 270\n",
    "assert x_training_data.shape[1] == 270"
   ]
  },
  {
   "cell_type": "code",
   "execution_count": 196,
   "id": "3a858061",
   "metadata": {},
   "outputs": [],
   "source": [
    "# The size of columns for inputs is 29\n",
    "#assert y_training_data.shape[1] == 29"
   ]
  },
  {
   "cell_type": "code",
   "execution_count": 197,
   "id": "7f1f677d",
   "metadata": {},
   "outputs": [],
   "source": [
    "#from cleaningdata import *"
   ]
  },
  {
   "cell_type": "code",
   "execution_count": 198,
   "id": "460c747d",
   "metadata": {},
   "outputs": [
    {
     "data": {
      "text/html": [
       "<div>\n",
       "<style scoped>\n",
       "    .dataframe tbody tr th:only-of-type {\n",
       "        vertical-align: middle;\n",
       "    }\n",
       "\n",
       "    .dataframe tbody tr th {\n",
       "        vertical-align: top;\n",
       "    }\n",
       "\n",
       "    .dataframe thead th {\n",
       "        text-align: right;\n",
       "    }\n",
       "</style>\n",
       "<table border=\"1\" class=\"dataframe\">\n",
       "  <thead>\n",
       "    <tr style=\"text-align: right;\">\n",
       "      <th></th>\n",
       "      <th>0</th>\n",
       "      <th>1</th>\n",
       "      <th>2</th>\n",
       "      <th>3</th>\n",
       "      <th>4</th>\n",
       "      <th>5</th>\n",
       "      <th>6</th>\n",
       "      <th>7</th>\n",
       "      <th>8</th>\n",
       "      <th>9</th>\n",
       "      <th>...</th>\n",
       "      <th>260</th>\n",
       "      <th>261</th>\n",
       "      <th>262</th>\n",
       "      <th>263</th>\n",
       "      <th>264</th>\n",
       "      <th>265</th>\n",
       "      <th>266</th>\n",
       "      <th>267</th>\n",
       "      <th>268</th>\n",
       "      <th>269</th>\n",
       "    </tr>\n",
       "  </thead>\n",
       "  <tbody>\n",
       "    <tr>\n",
       "      <th>315</th>\n",
       "      <td>[[190, 143, 72], [190, 143, 72], [190, 144, 73...</td>\n",
       "      <td>[[184, 136, 68], [182, 134, 67], [183, 134, 67...</td>\n",
       "      <td>[[152, 104, 57], [150, 103, 56], [150, 104, 57...</td>\n",
       "      <td>[[146, 100, 54], [150, 103, 55], [148, 101, 54...</td>\n",
       "      <td>[[145, 98, 51], [146, 100, 53], [146, 100, 53]...</td>\n",
       "      <td>[[143, 97, 50], [142, 97, 51], [144, 100, 53],...</td>\n",
       "      <td>[[135, 97, 50], [138, 95, 49], [140, 98, 51], ...</td>\n",
       "      <td>[[91, 115, 36], [133, 111, 45], [137, 111, 48]...</td>\n",
       "      <td>[[77, 114, 31], [76, 113, 31], [80, 117, 32], ...</td>\n",
       "      <td>[[77, 125, 34], [76, 119, 33], [80, 121, 33], ...</td>\n",
       "      <td>...</td>\n",
       "      <td>[[0, 0, 0], [0, 0, 0], [0, 0, 0], [0, 0, 0], [...</td>\n",
       "      <td>[[0, 0, 0], [0, 0, 0], [0, 0, 0], [0, 0, 0], [...</td>\n",
       "      <td>[[0, 0, 0], [0, 0, 0], [0, 0, 0], [0, 0, 0], [...</td>\n",
       "      <td>[[0, 0, 0], [0, 0, 0], [0, 0, 0], [0, 0, 0], [...</td>\n",
       "      <td>[[0, 0, 0], [0, 0, 0], [0, 0, 0], [0, 0, 0], [...</td>\n",
       "      <td>[[0, 0, 0], [0, 0, 0], [0, 0, 0], [0, 0, 0], [...</td>\n",
       "      <td>[[0, 0, 0], [0, 0, 0], [0, 0, 0], [0, 0, 0], [...</td>\n",
       "      <td>[[0, 0, 0], [0, 0, 0], [0, 0, 0], [0, 0, 0], [...</td>\n",
       "      <td>[[0, 0, 0], [0, 0, 0], [0, 0, 0], [0, 0, 0], [...</td>\n",
       "      <td>[[0, 0, 0], [0, 0, 0], [0, 0, 0], [0, 0, 0], [...</td>\n",
       "    </tr>\n",
       "  </tbody>\n",
       "</table>\n",
       "<p>1 rows × 270 columns</p>\n",
       "</div>"
      ],
      "text/plain": [
       "                                                   0    \\\n",
       "315  [[190, 143, 72], [190, 143, 72], [190, 144, 73...   \n",
       "\n",
       "                                                   1    \\\n",
       "315  [[184, 136, 68], [182, 134, 67], [183, 134, 67...   \n",
       "\n",
       "                                                   2    \\\n",
       "315  [[152, 104, 57], [150, 103, 56], [150, 104, 57...   \n",
       "\n",
       "                                                   3    \\\n",
       "315  [[146, 100, 54], [150, 103, 55], [148, 101, 54...   \n",
       "\n",
       "                                                   4    \\\n",
       "315  [[145, 98, 51], [146, 100, 53], [146, 100, 53]...   \n",
       "\n",
       "                                                   5    \\\n",
       "315  [[143, 97, 50], [142, 97, 51], [144, 100, 53],...   \n",
       "\n",
       "                                                   6    \\\n",
       "315  [[135, 97, 50], [138, 95, 49], [140, 98, 51], ...   \n",
       "\n",
       "                                                   7    \\\n",
       "315  [[91, 115, 36], [133, 111, 45], [137, 111, 48]...   \n",
       "\n",
       "                                                   8    \\\n",
       "315  [[77, 114, 31], [76, 113, 31], [80, 117, 32], ...   \n",
       "\n",
       "                                                   9    ...  \\\n",
       "315  [[77, 125, 34], [76, 119, 33], [80, 121, 33], ...  ...   \n",
       "\n",
       "                                                   260  \\\n",
       "315  [[0, 0, 0], [0, 0, 0], [0, 0, 0], [0, 0, 0], [...   \n",
       "\n",
       "                                                   261  \\\n",
       "315  [[0, 0, 0], [0, 0, 0], [0, 0, 0], [0, 0, 0], [...   \n",
       "\n",
       "                                                   262  \\\n",
       "315  [[0, 0, 0], [0, 0, 0], [0, 0, 0], [0, 0, 0], [...   \n",
       "\n",
       "                                                   263  \\\n",
       "315  [[0, 0, 0], [0, 0, 0], [0, 0, 0], [0, 0, 0], [...   \n",
       "\n",
       "                                                   264  \\\n",
       "315  [[0, 0, 0], [0, 0, 0], [0, 0, 0], [0, 0, 0], [...   \n",
       "\n",
       "                                                   265  \\\n",
       "315  [[0, 0, 0], [0, 0, 0], [0, 0, 0], [0, 0, 0], [...   \n",
       "\n",
       "                                                   266  \\\n",
       "315  [[0, 0, 0], [0, 0, 0], [0, 0, 0], [0, 0, 0], [...   \n",
       "\n",
       "                                                   267  \\\n",
       "315  [[0, 0, 0], [0, 0, 0], [0, 0, 0], [0, 0, 0], [...   \n",
       "\n",
       "                                                   268  \\\n",
       "315  [[0, 0, 0], [0, 0, 0], [0, 0, 0], [0, 0, 0], [...   \n",
       "\n",
       "                                                   269  \n",
       "315  [[0, 0, 0], [0, 0, 0], [0, 0, 0], [0, 0, 0], [...  \n",
       "\n",
       "[1 rows x 270 columns]"
      ]
     },
     "execution_count": 198,
     "metadata": {},
     "output_type": "execute_result"
    }
   ],
   "source": [
    "x_training_data.head(1)"
   ]
  },
  {
   "cell_type": "code",
   "execution_count": 204,
   "id": "6b16a2ea",
   "metadata": {},
   "outputs": [
    {
     "data": {
      "image/jpeg": "[encoded data removed]",
      "text/plain": [
       "<IPython.core.display.Image object>"
      ]
     },
     "metadata": {},
     "output_type": "display_data"
    }
   ],
   "source": [
    "image1=df_to_numpy_image(x_training_data,315)\n",
    "showarray(image1)"
   ]
  },
  {
   "cell_type": "code",
   "execution_count": null,
   "id": "f6e96e5d",
   "metadata": {},
   "outputs": [],
   "source": [
    "#os.chdir(\"../../\")"
   ]
  },
  {
   "cell_type": "markdown",
   "id": "1b1fc905",
   "metadata": {},
   "source": [
    "# Creation of the classes directory"
   ]
  },
  {
   "cell_type": "code",
   "execution_count": 1,
   "id": "ace992ea",
   "metadata": {},
   "outputs": [],
   "source": [
    "import os"
   ]
  },
  {
   "cell_type": "code",
   "execution_count": 2,
   "id": "0405710d",
   "metadata": {},
   "outputs": [],
   "source": [
    "path = os.getcwd()"
   ]
  },
  {
   "cell_type": "code",
   "execution_count": 3,
   "id": "bce9ce7b",
   "metadata": {},
   "outputs": [],
   "source": [
    "# Parent Directory path\n",
    "parent_dir = os.path.join(path , 'clean_reduced')"
   ]
  },
  {
   "cell_type": "code",
   "execution_count": 4,
   "id": "ace79d5a",
   "metadata": {},
   "outputs": [
    {
     "data": {
      "text/plain": [
       "'C:\\\\Users\\\\rusla\\\\Dropbox\\\\23-GITHUB\\\\Projects\\\\BOT-MMORPG-WITH-AI\\\\versions\\\\0.01\\\\clean_reduced'"
      ]
     },
     "execution_count": 4,
     "metadata": {},
     "output_type": "execute_result"
    }
   ],
   "source": [
    "parent_dir"
   ]
  },
  {
   "cell_type": "code",
   "execution_count": 5,
   "id": "2c1f5894",
   "metadata": {},
   "outputs": [],
   "source": [
    "# Path\n",
    "path = os.path.join(parent_dir, 'classes')"
   ]
  },
  {
   "cell_type": "code",
   "execution_count": 6,
   "id": "fe15ed8a",
   "metadata": {},
   "outputs": [
    {
     "name": "stdout",
     "output_type": "stream",
     "text": [
      "Directory 'classes' created\n"
     ]
    }
   ],
   "source": [
    "# Create the directory\n",
    "os.mkdir(path)\n",
    "print(\"Directory '% s' created\" % 'classes')"
   ]
  },
  {
   "cell_type": "markdown",
   "id": "744c3f8e",
   "metadata": {},
   "source": [
    "# Saving classes into different folders"
   ]
  },
  {
   "cell_type": "code",
   "execution_count": 7,
   "id": "08632124",
   "metadata": {},
   "outputs": [],
   "source": [
    "import pandas as pd"
   ]
  },
  {
   "cell_type": "code",
   "execution_count": 8,
   "id": "2f52c224",
   "metadata": {},
   "outputs": [],
   "source": [
    "x_training_data=pd.read_pickle('./data_reduced/undersampling/x_training_data.csv')  \n",
    "y_training_data=pd.read_csv('./data_reduced/undersampling/y_training_data.csv', index_col=[0])  "
   ]
  },
  {
   "cell_type": "code",
   "execution_count": 9,
   "id": "e3d3524d",
   "metadata": {},
   "outputs": [],
   "source": [
    "directory1='rx_right'\n",
    "directory2='rx_zero'\n",
    "directory3='rx_left'\n",
    "\n",
    "\n",
    "\n",
    "directory4='ly_up'\n",
    "directory5='ly_zero'\n",
    "directory6='ly_down'\n",
    "\n"
   ]
  },
  {
   "cell_type": "code",
   "execution_count": 10,
   "id": "ea39d406",
   "metadata": {},
   "outputs": [],
   "source": [
    "# Paths\n",
    "path1 = os.path.join(path, directory1)\n",
    "path2 = os.path.join(path, directory2)\n",
    "path3 = os.path.join(path, directory3)\n",
    "\n",
    "\n",
    "# Paths\n",
    "path4 = os.path.join(path, directory4)\n",
    "path5 = os.path.join(path, directory5)\n",
    "path6 = os.path.join(path, directory6)\n"
   ]
  },
  {
   "cell_type": "code",
   "execution_count": 11,
   "id": "b6ef9765",
   "metadata": {},
   "outputs": [
    {
     "name": "stdout",
     "output_type": "stream",
     "text": [
      "Directory 'rx_right' created\n",
      "Directory 'rx_zero' created\n",
      "Directory 'rx_left' created\n",
      "Directory 'ly_up' created\n",
      "Directory 'ly_zero' created\n",
      "Directory 'ly_down' created\n"
     ]
    }
   ],
   "source": [
    "# Create the directory\n",
    "os.mkdir(path1)\n",
    "print(\"Directory '% s' created\" % directory1)\n",
    "os.mkdir(path2)\n",
    "print(\"Directory '% s' created\" % directory2)\n",
    "os.mkdir(path3)\n",
    "print(\"Directory '% s' created\" % directory3)\n",
    "\n",
    "\n",
    "\n",
    "\n",
    "# Create the directory\n",
    "os.mkdir(path4)\n",
    "print(\"Directory '% s' created\" % directory4)\n",
    "os.mkdir(path5)\n",
    "print(\"Directory '% s' created\" % directory5)\n",
    "os.mkdir(path6)\n",
    "print(\"Directory '% s' created\" % directory6)\n",
    "\n"
   ]
  },
  {
   "cell_type": "code",
   "execution_count": 12,
   "id": "116db875",
   "metadata": {},
   "outputs": [
    {
     "data": {
      "text/plain": [
       "(326, 270)"
      ]
     },
     "execution_count": 12,
     "metadata": {},
     "output_type": "execute_result"
    }
   ],
   "source": [
    "x_training_data.shape"
   ]
  },
  {
   "cell_type": "code",
   "execution_count": 13,
   "id": "87b4fbf9",
   "metadata": {},
   "outputs": [
    {
     "data": {
      "text/plain": [
       "(326, 2)"
      ]
     },
     "execution_count": 13,
     "metadata": {},
     "output_type": "execute_result"
    }
   ],
   "source": [
    "y_training_data.shape"
   ]
  },
  {
   "cell_type": "markdown",
   "id": "ce8275ae",
   "metadata": {},
   "source": [
    "# Clase 13 - Rx Button"
   ]
  },
  {
   "cell_type": "code",
   "execution_count": 14,
   "id": "cfcf0a4b",
   "metadata": {},
   "outputs": [
    {
     "name": "stderr",
     "output_type": "stream",
     "text": [
      "C:\\Anaconda3\\envs\\pygta5\\lib\\site-packages\\seaborn\\_decorators.py:43: FutureWarning: Pass the following variable as a keyword arg: x. From version 0.12, the only valid positional argument will be `data`, and passing other arguments without an explicit keyword will result in an error or misinterpretation.\n",
      "  FutureWarning\n"
     ]
    },
    {
     "data": {
      "text/plain": [
       "<AxesSubplot:xlabel='13', ylabel='count'>"
      ]
     },
     "execution_count": 14,
     "metadata": {},
     "output_type": "execute_result"
    },
    {
     "data": {
      "image/png": "[encoded data removed]",
      "text/plain": [
       "<Figure size 432x288 with 1 Axes>"
      ]
     },
     "metadata": {
      "needs_background": "light"
     },
     "output_type": "display_data"
    }
   ],
   "source": [
    "import seaborn as sns\n",
    "sns.countplot(y_training_data['13'])"
   ]
  },
  {
   "cell_type": "code",
   "execution_count": 15,
   "id": "9ed29f21",
   "metadata": {},
   "outputs": [],
   "source": [
    "rx_right= y_training_data.loc[y_training_data['13'] == 1]\n",
    "rx_zero= y_training_data.loc[y_training_data['13'] == 0]\n",
    "rx_left= y_training_data.loc[y_training_data['13'] == -1]"
   ]
  },
  {
   "cell_type": "markdown",
   "id": "f70300f3",
   "metadata": {},
   "source": [
    "# Clase 12 - Ly Button"
   ]
  },
  {
   "cell_type": "code",
   "execution_count": 16,
   "id": "27e4fdf5",
   "metadata": {},
   "outputs": [
    {
     "name": "stderr",
     "output_type": "stream",
     "text": [
      "C:\\Anaconda3\\envs\\pygta5\\lib\\site-packages\\seaborn\\_decorators.py:43: FutureWarning: Pass the following variable as a keyword arg: x. From version 0.12, the only valid positional argument will be `data`, and passing other arguments without an explicit keyword will result in an error or misinterpretation.\n",
      "  FutureWarning\n"
     ]
    },
    {
     "data": {
      "text/plain": [
       "<AxesSubplot:xlabel='12', ylabel='count'>"
      ]
     },
     "execution_count": 16,
     "metadata": {},
     "output_type": "execute_result"
    },
    {
     "data": {
      "image/png": "[encoded data removed]",
      "text/plain": [
       "<Figure size 432x288 with 1 Axes>"
      ]
     },
     "metadata": {
      "needs_background": "light"
     },
     "output_type": "display_data"
    }
   ],
   "source": [
    "sns.countplot(y_training_data['12'])"
   ]
  },
  {
   "cell_type": "code",
   "execution_count": 17,
   "id": "cb1e8998",
   "metadata": {},
   "outputs": [],
   "source": [
    "ly_up= y_training_data.loc[y_training_data['12'] == 1]\n",
    "ly_zero= y_training_data.loc[y_training_data['12'] == 0]\n",
    "ly_down= y_training_data.loc[y_training_data['12'] == -1]"
   ]
  },
  {
   "cell_type": "code",
   "execution_count": 18,
   "id": "e5e88b97",
   "metadata": {},
   "outputs": [
    {
     "data": {
      "text/plain": [
       "Int64Index([ 565,  855,  416,  564,  376,  883, 1273,  775,  342,   19,\n",
       "            ...\n",
       "             518,  979, 1339,  728,  159,  162,  604, 1207,  168,  772],\n",
       "           dtype='int64', length=162)"
      ]
     },
     "execution_count": 18,
     "metadata": {},
     "output_type": "execute_result"
    }
   ],
   "source": [
    "ly_up.index"
   ]
  },
  {
   "cell_type": "code",
   "execution_count": 24,
   "id": "23263057",
   "metadata": {},
   "outputs": [],
   "source": [
    "from PIL import Image "
   ]
  },
  {
   "cell_type": "code",
   "execution_count": 25,
   "id": "2f60729d",
   "metadata": {},
   "outputs": [],
   "source": [
    "def save_img(x_training_data,clase, index):\n",
    "    numpy_image=df_to_numpy_image(x_training_data,index)\n",
    "    PIL_image = Image.fromarray(numpy_image.astype('uint8'), 'RGB')\n",
    "    PIL_image.save(\"clase_\"+clase+\"_\"+str(index)+ \".png\")"
   ]
  },
  {
   "cell_type": "code",
   "execution_count": 26,
   "id": "457d728c",
   "metadata": {},
   "outputs": [],
   "source": [
    "os.chdir(path1)\n",
    "for index in list(rx_right.index):\n",
    "    #print(index)\n",
    "    save_img(x_training_data,\"rx_right\", index)"
   ]
  },
  {
   "cell_type": "code",
   "execution_count": 27,
   "id": "b16a582a",
   "metadata": {},
   "outputs": [],
   "source": [
    "os.chdir(path2)\n",
    "for index in list(rx_zero.index):\n",
    "    #print(index)\n",
    "    save_img(x_training_data,\"rx_zero\", index)"
   ]
  },
  {
   "cell_type": "code",
   "execution_count": 28,
   "id": "554e66cb",
   "metadata": {},
   "outputs": [],
   "source": [
    "os.chdir(path3)\n",
    "for index in list(rx_left.index):\n",
    "    #print(index)\n",
    "    save_img(x_training_data,\"rx_left\", index)"
   ]
  },
  {
   "cell_type": "code",
   "execution_count": 29,
   "id": "738f1255",
   "metadata": {},
   "outputs": [],
   "source": [
    "os.chdir(path4)\n",
    "for index in list(ly_up.index):\n",
    "    #print(index)\n",
    "    save_img(x_training_data,\"ly_up\", index)"
   ]
  },
  {
   "cell_type": "code",
   "execution_count": 30,
   "id": "d783e5cd",
   "metadata": {},
   "outputs": [],
   "source": [
    "os.chdir(path5)\n",
    "for index in list(ly_zero.index):\n",
    "    #print(index)\n",
    "    save_img(x_training_data,\"ly_zero\", index) "
   ]
  },
  {
   "cell_type": "code",
   "execution_count": 31,
   "id": "d97aa16c",
   "metadata": {},
   "outputs": [],
   "source": [
    "os.chdir(path6)\n",
    "for index in list(ly_down.index):\n",
    "    #print(index)\n",
    "    save_img(x_training_data,\"ly_down\", index)"
   ]
  },
  {
   "cell_type": "code",
   "execution_count": 45,
   "id": "d9dffc6e",
   "metadata": {},
   "outputs": [],
   "source": [
    "os.chdir(\"../../\")"
   ]
  },
  {
   "cell_type": "code",
   "execution_count": 43,
   "id": "d110b3c8",
   "metadata": {},
   "outputs": [],
   "source": [
    "import os\n",
    "import zipfile\n",
    "    \n",
    "def zipdir(path, ziph):\n",
    "    # ziph is zipfile handle\n",
    "    for root, dirs, files in os.walk(path):\n",
    "        for file in files:\n",
    "            ziph.write(os.path.join(root, file), \n",
    "                       os.path.relpath(os.path.join(root, file), \n",
    "                                       os.path.join(path, '..')))"
   ]
  },
  {
   "cell_type": "code",
   "execution_count": 44,
   "id": "f1ade9ee",
   "metadata": {},
   "outputs": [],
   "source": [
    "with zipfile.ZipFile('classes.zip', 'w', zipfile.ZIP_DEFLATED) as zipf:\n",
    "    zipdir(path, zipf)"
   ]
  },
  {
   "cell_type": "code",
   "execution_count": 33,
   "id": "99b25cda",
   "metadata": {},
   "outputs": [],
   "source": []
  },
  {
   "cell_type": "code",
   "execution_count": 42,
   "id": "a9bc0cdc",
   "metadata": {},
   "outputs": [],
   "source": []
  },
  {
   "cell_type": "code",
   "execution_count": null,
   "id": "19c45fff",
   "metadata": {},
   "outputs": [],
   "source": []
  }
 ],
 "metadata": {
  "kernelspec": {
   "display_name": "Python (pygta5)",
   "language": "python",
   "name": "pygta5"
  },
  "language_info": {
   "codemirror_mode": {
    "name": "ipython",
    "version": 3
   },
   "file_extension": ".py",
   "mimetype": "text/x-python",
   "name": "python",
   "nbconvert_exporter": "python",
   "pygments_lexer": "ipython3",
   "version": "3.7.0"
  }
 },
 "nbformat": 4,
 "nbformat_minor": 5
}
