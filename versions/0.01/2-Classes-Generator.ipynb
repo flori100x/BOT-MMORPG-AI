{
 "cells": [
  {
   "cell_type": "markdown",
   "id": "87a0151a",
   "metadata": {},
   "source": [
    "# Classes Generator by Folder"
   ]
  },
  {
   "cell_type": "markdown",
   "id": "e69a814e",
   "metadata": {},
   "source": [
    "In this notebook we are going to clean the input file and separate the pictures by classes in their respective directory.\n",
    "\n",
    "I will do this only to test another strategy to create a new neural network in keras."
   ]
  },
  {
   "cell_type": "markdown",
   "id": "6bfe3c50",
   "metadata": {},
   "source": [
    "The purpose of this section is select the image arrays that corresponds to the selected input choosed in the previous section."
   ]
  },
  {
   "cell_type": "code",
   "execution_count": 12,
   "id": "c6004854",
   "metadata": {},
   "outputs": [],
   "source": [
    "import numpy as np\n",
    "from grabscreen import grab_screen\n",
    "import cv2\n",
    "#import tdqm\n",
    "import os\n",
    "import pandas as pd\n",
    "#from tqdm import tqdm\n",
    "from collections import deque\n",
    "from models import inception_v3 as googlenet\n",
    "from models import alexnet2\n",
    "from random import shuffle\n",
    "import matplotlib.pyplot as plt\n",
    "from sklearn.model_selection import train_test_split\n",
    "WIDTH = 480\n",
    "HEIGHT = 270\n",
    "\n",
    "\n",
    "from IPython.display import clear_output, Image, display\n",
    "import PIL.Image\n",
    "from matplotlib import pyplot as plt\n",
    "\n",
    "def showarray(a, fmt='jpeg'):\n",
    "    a_n = np.uint8(np.clip(a, 0, 255))\n",
    "    try :\n",
    "        f = io.BytesIO()\n",
    "        PIL.Image.fromarray(a_n).save(f, fmt)\n",
    "        display(Image(data=f.getvalue()))\n",
    "    except:\n",
    "        #a = a[:, :, ::-1] # convert image from RGB (skimage) to BGR (opencv)\n",
    "        # display image   \n",
    "        plt.imshow(a)\n",
    "        plt.show()  \n",
    "\n",
    "def df_to_numpy_input(df_input,index): \n",
    "    # flattening a 2d numpy array\n",
    "    # into 1d array\n",
    "    # and remove dtype at the end of numpy array\n",
    "    lista=df_input.loc[[index]].values.tolist()\n",
    "    arr=np.array(lista).ravel()\n",
    "    return arr\n",
    "\n",
    "def df_to_numpy_image(df_image_clean,index):\n",
    "    #select the row with index label 'index'\n",
    "    image_clean=df_image_clean.loc[[index]].T.to_numpy()\n",
    "    lists =image_clean.tolist()\n",
    "    # Nested List Comprehension to flatten a given 2-D matrix\n",
    "    # 2-D List\n",
    "    matrix = lists\n",
    "    flatten_matrix = [val.tolist() for sublist in matrix for val in sublist]\n",
    "    # converting list to array\n",
    "    arr = np.array(flatten_matrix)\n",
    "    return arr\n",
    "def cleaning_data_reduced(train_data , show=False):    \n",
    "    #Creation and cleaning of the input dataframe\n",
    "    df = pd.DataFrame()\n",
    "    for i in range(len(train_data)):\n",
    "        row=list(train_data[i][1])\n",
    "        #print(row)\n",
    "        temp = pd.DataFrame([row])\n",
    "       # print(temp)\n",
    "        df = pd.concat([df, temp])\n",
    "    df=df.reset_index(drop=True)\n",
    "\n",
    "\n",
    "    # Parameters of the cleaning part\n",
    "    num_bins = 25\n",
    "    # We choose the threshold by choosing the RX diffeerent of zero\n",
    "    threshold= (df[13] != 0).astype(int).sum(axis=0)\n",
    "    samples_per_bin = threshold\n",
    "    hist, bins = np.histogram(df[13], num_bins)\n",
    "    center = (bins[:-1]+ bins[1:]) * 0.5    \n",
    "    \n",
    "    \n",
    "    #Cleaning procedure\n",
    "    remove_list = []\n",
    "    for j in range(num_bins):\n",
    "        list_ = []\n",
    "        for i in range(len(df[13])):\n",
    "            serie=df[13].iloc[[i]]\n",
    "            ls = serie.tolist()\n",
    "            if ls[0] >= bins[j] and ls[0] <= bins[j+1]:\n",
    "                list_.append(i)      \n",
    "        #list_ = shuffle(list_)\n",
    "        list_ = list_[samples_per_bin:]\n",
    "        remove_list.extend(list_)\n",
    "        \n",
    "    #Implementation of the cleaning    \n",
    "    df_removed=df.drop(remove_list, axis=0, inplace=False)\n",
    "    df.drop(df.index[remove_list], inplace=True)\n",
    "    \n",
    "    \n",
    "    \n",
    "    ## We select only the columns different to zero###\n",
    "    df=df.loc[:, (df != 0).any()]\n",
    "    \n",
    "    ## We remove the NO Key\n",
    "    del df[8]\n",
    "    \n",
    "    print('remaining:', len(df))\n",
    "    df=df.reset_index(drop=True) # We reset the index ! attention    \n",
    "    if show == True:\n",
    "        #Visualization of cleaning\n",
    "        hist, _ = np.histogram(df[13], (num_bins))\n",
    "        plt.bar(center, hist, width=0.05)\n",
    "        plt.plot((np.min(df[13]), np.max(df[13])), (samples_per_bin, samples_per_bin))\n",
    "    \n",
    "    #Creation and cleaning of the image dataframe\n",
    "    \n",
    "    df_image = pd.DataFrame()\n",
    "    for i in range(len(train_data)):\n",
    "        row=list(train_data[i][0]) # For images  Here we lost the (i, 480, 3) shape\n",
    "        #print(row)    \n",
    "        temp = pd.DataFrame([row])\n",
    "       # print(temp)\n",
    "        df_image = pd.concat([df_image, temp])\n",
    "    df_image=df_image.reset_index(drop=True)\n",
    "    df_image_removed=df_image.drop(remove_list, axis=0, inplace=False)\n",
    "    df_image_clean=df_image_removed.reset_index(drop=True)\n",
    "    #We verify that the dimensions are the same\n",
    "    assert len(df) == len(df_image_clean), \"The dimensions are not equal, something is wrong \"\n",
    "    \n",
    "    return df_image_clean, df"
   ]
  },
  {
   "cell_type": "code",
   "execution_count": 2,
   "id": "b9cac612",
   "metadata": {},
   "outputs": [],
   "source": [
    "#processed image rgb color - no image filters\n",
    "file_name = \"preprocessed_training_data-5.npy\"\n",
    "# full file information\n",
    "train_data = np.load(file_name,allow_pickle=True)"
   ]
  },
  {
   "cell_type": "code",
   "execution_count": 3,
   "id": "dc9f878c",
   "metadata": {},
   "outputs": [
    {
     "name": "stdout",
     "output_type": "stream",
     "text": [
      "remaining: 52\n"
     ]
    },
    {
     "data": {
      "image/png": "[encoded data removed]",
      "text/plain": [
       "<Figure size 432x288 with 1 Axes>"
      ]
     },
     "metadata": {
      "needs_background": "light"
     },
     "output_type": "display_data"
    }
   ],
   "source": [
    "df_image_clean, df = cleaning_data_reduced(train_data,show=True)"
   ]
  },
  {
   "cell_type": "code",
   "execution_count": 4,
   "id": "16db740a",
   "metadata": {},
   "outputs": [
    {
     "data": {
      "text/html": [
       "<div>\n",
       "<style scoped>\n",
       "    .dataframe tbody tr th:only-of-type {\n",
       "        vertical-align: middle;\n",
       "    }\n",
       "\n",
       "    .dataframe tbody tr th {\n",
       "        vertical-align: top;\n",
       "    }\n",
       "\n",
       "    .dataframe thead th {\n",
       "        text-align: right;\n",
       "    }\n",
       "</style>\n",
       "<table border=\"1\" class=\"dataframe\">\n",
       "  <thead>\n",
       "    <tr style=\"text-align: right;\">\n",
       "      <th></th>\n",
       "      <th>12</th>\n",
       "      <th>13</th>\n",
       "    </tr>\n",
       "  </thead>\n",
       "  <tbody>\n",
       "    <tr>\n",
       "      <th>0</th>\n",
       "      <td>1</td>\n",
       "      <td>0</td>\n",
       "    </tr>\n",
       "    <tr>\n",
       "      <th>1</th>\n",
       "      <td>1</td>\n",
       "      <td>0</td>\n",
       "    </tr>\n",
       "    <tr>\n",
       "      <th>2</th>\n",
       "      <td>1</td>\n",
       "      <td>0</td>\n",
       "    </tr>\n",
       "    <tr>\n",
       "      <th>3</th>\n",
       "      <td>1</td>\n",
       "      <td>0</td>\n",
       "    </tr>\n",
       "    <tr>\n",
       "      <th>4</th>\n",
       "      <td>1</td>\n",
       "      <td>0</td>\n",
       "    </tr>\n",
       "  </tbody>\n",
       "</table>\n",
       "</div>"
      ],
      "text/plain": [
       "   12  13\n",
       "0   1   0\n",
       "1   1   0\n",
       "2   1   0\n",
       "3   1   0\n",
       "4   1   0"
      ]
     },
     "execution_count": 4,
     "metadata": {},
     "output_type": "execute_result"
    }
   ],
   "source": [
    "df.head()"
   ]
  },
  {
   "cell_type": "code",
   "execution_count": 5,
   "id": "21bf6361",
   "metadata": {},
   "outputs": [
    {
     "data": {
      "text/html": [
       "<div>\n",
       "<style scoped>\n",
       "    .dataframe tbody tr th:only-of-type {\n",
       "        vertical-align: middle;\n",
       "    }\n",
       "\n",
       "    .dataframe tbody tr th {\n",
       "        vertical-align: top;\n",
       "    }\n",
       "\n",
       "    .dataframe thead th {\n",
       "        text-align: right;\n",
       "    }\n",
       "</style>\n",
       "<table border=\"1\" class=\"dataframe\">\n",
       "  <thead>\n",
       "    <tr style=\"text-align: right;\">\n",
       "      <th></th>\n",
       "      <th>12</th>\n",
       "      <th>13</th>\n",
       "    </tr>\n",
       "  </thead>\n",
       "  <tbody>\n",
       "    <tr>\n",
       "      <th>count</th>\n",
       "      <td>52.000000</td>\n",
       "      <td>52.000000</td>\n",
       "    </tr>\n",
       "    <tr>\n",
       "      <th>mean</th>\n",
       "      <td>0.769231</td>\n",
       "      <td>-0.423077</td>\n",
       "    </tr>\n",
       "    <tr>\n",
       "      <th>std</th>\n",
       "      <td>0.425436</td>\n",
       "      <td>0.572102</td>\n",
       "    </tr>\n",
       "    <tr>\n",
       "      <th>min</th>\n",
       "      <td>0.000000</td>\n",
       "      <td>-1.000000</td>\n",
       "    </tr>\n",
       "    <tr>\n",
       "      <th>25%</th>\n",
       "      <td>1.000000</td>\n",
       "      <td>-1.000000</td>\n",
       "    </tr>\n",
       "    <tr>\n",
       "      <th>50%</th>\n",
       "      <td>1.000000</td>\n",
       "      <td>0.000000</td>\n",
       "    </tr>\n",
       "    <tr>\n",
       "      <th>75%</th>\n",
       "      <td>1.000000</td>\n",
       "      <td>0.000000</td>\n",
       "    </tr>\n",
       "    <tr>\n",
       "      <th>max</th>\n",
       "      <td>1.000000</td>\n",
       "      <td>1.000000</td>\n",
       "    </tr>\n",
       "  </tbody>\n",
       "</table>\n",
       "</div>"
      ],
      "text/plain": [
       "              12         13\n",
       "count  52.000000  52.000000\n",
       "mean    0.769231  -0.423077\n",
       "std     0.425436   0.572102\n",
       "min     0.000000  -1.000000\n",
       "25%     1.000000  -1.000000\n",
       "50%     1.000000   0.000000\n",
       "75%     1.000000   0.000000\n",
       "max     1.000000   1.000000"
      ]
     },
     "execution_count": 5,
     "metadata": {},
     "output_type": "execute_result"
    }
   ],
   "source": [
    "df.describe()"
   ]
  },
  {
   "cell_type": "code",
   "execution_count": 7,
   "id": "66679074",
   "metadata": {},
   "outputs": [
    {
     "name": "stdout",
     "output_type": "stream",
     "text": [
      "Training Samples: 41\n",
      "Valid Samples: 11\n"
     ]
    },
    {
     "data": {
      "image/png": "[encoded data removed]",
      "text/plain": [
       "<Figure size 864x288 with 2 Axes>"
      ]
     },
     "metadata": {
      "needs_background": "light"
     },
     "output_type": "display_data"
    }
   ],
   "source": [
    "X_train, X_valid, y_train, y_valid = train_test_split(df_image_clean, df, test_size=0.2, random_state=6)\n",
    "print('Training Samples: {}\\nValid Samples: {}'.format(len(X_train), len(y_valid)))\n",
    "fig, axes = plt.subplots(1, 2, figsize=(12, 4))\n",
    "num_bins=25\n",
    "axes[0].hist(y_train, bins=num_bins, width=0.05)\n",
    "axes[0].set_title('Training set')\n",
    "axes[1].hist(y_valid, bins=num_bins, width=0.05)\n",
    "axes[1].set_title('Validation set')\n",
    "# Train Image part ( 4 Dimensional)\n",
    "X_image = np.array([df_to_numpy_image(X_train,i) for i in X_train.index])\n",
    "X=X_image.reshape(-1,WIDTH,HEIGHT,3)\n",
    "#Train Input part ( 1 Dimensional )\n",
    "Y = [df_to_numpy_input(y_train,i) for i in y_train.index]\n",
    "# Test Image part ( 4 Dimensional)\n",
    "test_image = np.array([df_to_numpy_image(X_valid,i) for i in X_valid.index])\n",
    "test_x=test_image.reshape(-1,WIDTH,HEIGHT,3)\n",
    "## Test Input part( 1 Dimensional )\n",
    "test_y = [df_to_numpy_input(y_valid,i) for i in y_valid.index]"
   ]
  },
  {
   "cell_type": "markdown",
   "id": "34eb74cf",
   "metadata": {},
   "source": [
    "Let us choose a picture where was used lx"
   ]
  },
  {
   "cell_type": "code",
   "execution_count": 8,
   "id": "0124850e",
   "metadata": {},
   "outputs": [
    {
     "data": {
      "text/html": [
       "<div>\n",
       "<style scoped>\n",
       "    .dataframe tbody tr th:only-of-type {\n",
       "        vertical-align: middle;\n",
       "    }\n",
       "\n",
       "    .dataframe tbody tr th {\n",
       "        vertical-align: top;\n",
       "    }\n",
       "\n",
       "    .dataframe thead th {\n",
       "        text-align: right;\n",
       "    }\n",
       "</style>\n",
       "<table border=\"1\" class=\"dataframe\">\n",
       "  <thead>\n",
       "    <tr style=\"text-align: right;\">\n",
       "      <th></th>\n",
       "      <th>12</th>\n",
       "      <th>13</th>\n",
       "    </tr>\n",
       "  </thead>\n",
       "  <tbody>\n",
       "    <tr>\n",
       "      <th>30</th>\n",
       "      <td>1</td>\n",
       "      <td>-1</td>\n",
       "    </tr>\n",
       "    <tr>\n",
       "      <th>29</th>\n",
       "      <td>1</td>\n",
       "      <td>-1</td>\n",
       "    </tr>\n",
       "    <tr>\n",
       "      <th>43</th>\n",
       "      <td>0</td>\n",
       "      <td>-1</td>\n",
       "    </tr>\n",
       "    <tr>\n",
       "      <th>31</th>\n",
       "      <td>1</td>\n",
       "      <td>-1</td>\n",
       "    </tr>\n",
       "    <tr>\n",
       "      <th>36</th>\n",
       "      <td>0</td>\n",
       "      <td>-1</td>\n",
       "    </tr>\n",
       "    <tr>\n",
       "      <th>28</th>\n",
       "      <td>1</td>\n",
       "      <td>-1</td>\n",
       "    </tr>\n",
       "    <tr>\n",
       "      <th>40</th>\n",
       "      <td>0</td>\n",
       "      <td>-1</td>\n",
       "    </tr>\n",
       "    <tr>\n",
       "      <th>44</th>\n",
       "      <td>0</td>\n",
       "      <td>-1</td>\n",
       "    </tr>\n",
       "    <tr>\n",
       "      <th>46</th>\n",
       "      <td>1</td>\n",
       "      <td>-1</td>\n",
       "    </tr>\n",
       "    <tr>\n",
       "      <th>38</th>\n",
       "      <td>0</td>\n",
       "      <td>-1</td>\n",
       "    </tr>\n",
       "    <tr>\n",
       "      <th>49</th>\n",
       "      <td>1</td>\n",
       "      <td>-1</td>\n",
       "    </tr>\n",
       "    <tr>\n",
       "      <th>27</th>\n",
       "      <td>1</td>\n",
       "      <td>-1</td>\n",
       "    </tr>\n",
       "    <tr>\n",
       "      <th>48</th>\n",
       "      <td>1</td>\n",
       "      <td>-1</td>\n",
       "    </tr>\n",
       "    <tr>\n",
       "      <th>37</th>\n",
       "      <td>0</td>\n",
       "      <td>-1</td>\n",
       "    </tr>\n",
       "    <tr>\n",
       "      <th>33</th>\n",
       "      <td>0</td>\n",
       "      <td>-1</td>\n",
       "    </tr>\n",
       "    <tr>\n",
       "      <th>47</th>\n",
       "      <td>1</td>\n",
       "      <td>-1</td>\n",
       "    </tr>\n",
       "    <tr>\n",
       "      <th>45</th>\n",
       "      <td>1</td>\n",
       "      <td>-1</td>\n",
       "    </tr>\n",
       "    <tr>\n",
       "      <th>42</th>\n",
       "      <td>0</td>\n",
       "      <td>-1</td>\n",
       "    </tr>\n",
       "    <tr>\n",
       "      <th>35</th>\n",
       "      <td>0</td>\n",
       "      <td>-1</td>\n",
       "    </tr>\n",
       "  </tbody>\n",
       "</table>\n",
       "</div>"
      ],
      "text/plain": [
       "    12  13\n",
       "30   1  -1\n",
       "29   1  -1\n",
       "43   0  -1\n",
       "31   1  -1\n",
       "36   0  -1\n",
       "28   1  -1\n",
       "40   0  -1\n",
       "44   0  -1\n",
       "46   1  -1\n",
       "38   0  -1\n",
       "49   1  -1\n",
       "27   1  -1\n",
       "48   1  -1\n",
       "37   0  -1\n",
       "33   0  -1\n",
       "47   1  -1\n",
       "45   1  -1\n",
       "42   0  -1\n",
       "35   0  -1"
      ]
     },
     "execution_count": 8,
     "metadata": {},
     "output_type": "execute_result"
    }
   ],
   "source": [
    "# selecting rows based on condition LX to the left\n",
    "y_train.loc[y_train[13] < 0]"
   ]
  },
  {
   "cell_type": "code",
   "execution_count": 9,
   "id": "e48f01ba",
   "metadata": {},
   "outputs": [],
   "source": [
    "def show_action_reduced(X_train,y_train,index_to_select):\n",
    "    dato=np.array([y_train.loc[index_to_select].tolist()])\n",
    "    columna_name=['W', 'S', 'A', 'D', 'WA', 'WD', 'SA', 'SD','NOKEY','LT', 'RT', 'Lx', 'Ly', 'Rx', 'Ry', 'UP', 'DOWN', 'LEFT', 'RIGHT',\n",
    "           'START', 'SELECT', 'L3', 'R3', 'LB', 'RB', 'A', 'B', 'X', 'Y']\n",
    "    columna=[columna_name[x] for x in y_train.columns ]\n",
    "    #print(columna)\n",
    "    df_pred = pd.DataFrame(dato,columns=columna)\n",
    "    df_pred_transposed = df_pred.T \n",
    "    print(df_pred_transposed) \n",
    "    image_check=df_to_numpy_image(X_train,index_to_select)\n",
    "    showarray(image_check)"
   ]
  },
  {
   "cell_type": "code",
   "execution_count": 10,
   "id": "45279d2a",
   "metadata": {},
   "outputs": [
    {
     "data": {
      "text/html": [
       "<div>\n",
       "<style scoped>\n",
       "    .dataframe tbody tr th:only-of-type {\n",
       "        vertical-align: middle;\n",
       "    }\n",
       "\n",
       "    .dataframe tbody tr th {\n",
       "        vertical-align: top;\n",
       "    }\n",
       "\n",
       "    .dataframe thead th {\n",
       "        text-align: right;\n",
       "    }\n",
       "</style>\n",
       "<table border=\"1\" class=\"dataframe\">\n",
       "  <thead>\n",
       "    <tr style=\"text-align: right;\">\n",
       "      <th></th>\n",
       "      <th>12</th>\n",
       "      <th>13</th>\n",
       "    </tr>\n",
       "  </thead>\n",
       "  <tbody>\n",
       "    <tr>\n",
       "      <th>24</th>\n",
       "      <td>1</td>\n",
       "      <td>0</td>\n",
       "    </tr>\n",
       "    <tr>\n",
       "      <th>19</th>\n",
       "      <td>1</td>\n",
       "      <td>0</td>\n",
       "    </tr>\n",
       "    <tr>\n",
       "      <th>3</th>\n",
       "      <td>1</td>\n",
       "      <td>0</td>\n",
       "    </tr>\n",
       "    <tr>\n",
       "      <th>30</th>\n",
       "      <td>1</td>\n",
       "      <td>-1</td>\n",
       "    </tr>\n",
       "    <tr>\n",
       "      <th>29</th>\n",
       "      <td>1</td>\n",
       "      <td>-1</td>\n",
       "    </tr>\n",
       "  </tbody>\n",
       "</table>\n",
       "</div>"
      ],
      "text/plain": [
       "    12  13\n",
       "24   1   0\n",
       "19   1   0\n",
       "3    1   0\n",
       "30   1  -1\n",
       "29   1  -1"
      ]
     },
     "execution_count": 10,
     "metadata": {},
     "output_type": "execute_result"
    }
   ],
   "source": [
    "y_train.head()"
   ]
  },
  {
   "cell_type": "code",
   "execution_count": 13,
   "id": "a9354b91",
   "metadata": {},
   "outputs": [
    {
     "name": "stdout",
     "output_type": "stream",
     "text": [
      "    0\n",
      "Ly  1\n",
      "Rx  0\n"
     ]
    },
    {
     "data": {
      "image/png": "[encoded data removed]",
      "text/plain": [
       "<Figure size 432x288 with 1 Axes>"
      ]
     },
     "metadata": {
      "needs_background": "light"
     },
     "output_type": "display_data"
    }
   ],
   "source": [
    "show_action_reduced(X_train,y_train,24)"
   ]
  },
  {
   "cell_type": "code",
   "execution_count": 14,
   "id": "314d8e2e",
   "metadata": {},
   "outputs": [],
   "source": [
    "#from tqdm import tqdm      # a nice pretty percentage bar for tasks"
   ]
  },
  {
   "cell_type": "code",
   "execution_count": 15,
   "id": "fea92395",
   "metadata": {},
   "outputs": [],
   "source": [
    "def df_to_numpy_image(df_image_clean,index):\n",
    "    #select the row with index label 'index'\n",
    "    image_clean=df_image_clean.loc[[index]].T.to_numpy()\n",
    "    lists =image_clean.tolist()\n",
    "    # Nested List Comprehension to flatten a given 2-D matrix\n",
    "    # 2-D List\n",
    "    matrix = lists\n",
    "    flatten_matrix = [val.tolist() for sublist in matrix for val in sublist]\n",
    "    # converting list to array\n",
    "    arr = np.array(flatten_matrix)\n",
    "    return arr"
   ]
  },
  {
   "cell_type": "code",
   "execution_count": 16,
   "id": "f5bf4d23",
   "metadata": {},
   "outputs": [
    {
     "name": "stdout",
     "output_type": "stream",
     "text": [
      "preprocessed_training_data-1.npy\n",
      "remaining: 54\n",
      "preprocessed_training_data-2.npy\n",
      "remaining: 38\n",
      "preprocessed_training_data-3.npy\n",
      "remaining: 68\n",
      "preprocessed_training_data-4.npy\n",
      "remaining: 52\n",
      "preprocessed_training_data-5.npy\n",
      "remaining: 52\n",
      "preprocessed_training_data-6.npy\n",
      "remaining: 18\n",
      "preprocessed_training_data-7.npy\n",
      "remaining: 12\n",
      "preprocessed_training_data-8.npy\n",
      "remaining: 40\n",
      "preprocessed_training_data-9.npy\n",
      "remaining: 16\n",
      "preprocessed_training_data-10.npy\n",
      "remaining: 68\n",
      "preprocessed_training_data-11.npy\n",
      "remaining: 40\n",
      "preprocessed_training_data-12.npy\n",
      "remaining: 40\n",
      "preprocessed_training_data-13.npy\n",
      "remaining: 14\n",
      "preprocessed_training_data-14.npy\n",
      "remaining: 24\n",
      "preprocessed_training_data-15.npy\n",
      "remaining: 102\n",
      "preprocessed_training_data-16.npy\n",
      "remaining: 50\n",
      "preprocessed_training_data-17.npy\n",
      "remaining: 20\n",
      "preprocessed_training_data-18.npy\n",
      "remaining: 56\n",
      "preprocessed_training_data-19.npy\n",
      "remaining: 44\n",
      "preprocessed_training_data-20.npy\n",
      "remaining: 12\n",
      "preprocessed_training_data-21.npy\n",
      "remaining: 78\n",
      "preprocessed_training_data-22.npy\n",
      "remaining: 22\n",
      "preprocessed_training_data-23.npy\n",
      "remaining: 66\n",
      "preprocessed_training_data-24.npy\n",
      "remaining: 38\n",
      "preprocessed_training_data-25.npy\n",
      "remaining: 66\n",
      "preprocessed_training_data-26.npy\n",
      "remaining: 96\n",
      "preprocessed_training_data-27.npy\n",
      "remaining: 24\n",
      "preprocessed_training_data-28.npy\n",
      "remaining: 56\n",
      "preprocessed_training_data-29.npy\n",
      "remaining: 72\n",
      "preprocessed_training_data-30.npy\n",
      "remaining: 90\n"
     ]
    }
   ],
   "source": [
    "FILE_I_END=30\n",
    "data_order = [i for i in range(1,FILE_I_END+1)]\n",
    "for count,i in enumerate(data_order):\n",
    "    file_name = 'preprocessed_training_data-{}.npy'.format(i)\n",
    "    print(file_name)\n",
    "    # full file information\n",
    "    train_data = np.load(file_name,allow_pickle=True)\n",
    "    df_image_clean, df = cleaning_data_reduced(train_data,show=False)\n",
    "    x_file_name = 'clean_reduced/x_training_data-{}.csv'.format(i)\n",
    "    y_file_name = 'clean_reduced/y_training_data-{}.csv'.format(i)   \n",
    "      \n",
    "    df_image_clean.to_pickle(x_file_name)\n",
    "    df.to_csv(y_file_name,index=False)"
   ]
  },
  {
   "cell_type": "markdown",
   "id": "cac95f5c",
   "metadata": {},
   "source": [
    "\n",
    "# Manual Cleaning"
   ]
  },
  {
   "cell_type": "markdown",
   "id": "28290eae",
   "metadata": {},
   "source": [
    "During the recording I have recorderded for few seconds the desktop, from 0 to 27 rows"
   ]
  },
  {
   "cell_type": "code",
   "execution_count": 19,
   "id": "388f4c90",
   "metadata": {},
   "outputs": [],
   "source": [
    "#df_x = pd.read_pickle('clean/x_training_data-1.csv')\n",
    "# delete a range of rows - index values 0-27\n",
    "#df_x = df_x.drop(labels=range(0, 27), axis=0)\n",
    "#df_x.to_pickle(\"clean/x_training_data-1.csv\")"
   ]
  },
  {
   "cell_type": "code",
   "execution_count": 20,
   "id": "16541f39",
   "metadata": {},
   "outputs": [],
   "source": [
    "#df_y = pd.read_csv('clean/y_training_data-1.csv')\n",
    "# delete a range of rows - index values 0-27\n",
    "#df_y = df_y.drop(labels=range(0, 27), axis=0)\n",
    "#df_y.to_csv(\"clean/y_training_data-1.csv\",index=False)"
   ]
  },
  {
   "cell_type": "markdown",
   "id": "805d571d",
   "metadata": {},
   "source": [
    "# Analysis of the cleaning"
   ]
  },
  {
   "cell_type": "code",
   "execution_count": 22,
   "id": "cebd1e06",
   "metadata": {},
   "outputs": [],
   "source": [
    "df_x = pd.read_pickle('clean_reduced/x_training_data-1.csv')"
   ]
  },
  {
   "cell_type": "code",
   "execution_count": 23,
   "id": "0a0cb239",
   "metadata": {},
   "outputs": [
    {
     "data": {
      "text/html": [
       "<div>\n",
       "<style scoped>\n",
       "    .dataframe tbody tr th:only-of-type {\n",
       "        vertical-align: middle;\n",
       "    }\n",
       "\n",
       "    .dataframe tbody tr th {\n",
       "        vertical-align: top;\n",
       "    }\n",
       "\n",
       "    .dataframe thead th {\n",
       "        text-align: right;\n",
       "    }\n",
       "</style>\n",
       "<table border=\"1\" class=\"dataframe\">\n",
       "  <thead>\n",
       "    <tr style=\"text-align: right;\">\n",
       "      <th></th>\n",
       "      <th>0</th>\n",
       "      <th>1</th>\n",
       "      <th>2</th>\n",
       "      <th>3</th>\n",
       "      <th>4</th>\n",
       "      <th>5</th>\n",
       "      <th>6</th>\n",
       "      <th>7</th>\n",
       "      <th>8</th>\n",
       "      <th>9</th>\n",
       "      <th>...</th>\n",
       "      <th>260</th>\n",
       "      <th>261</th>\n",
       "      <th>262</th>\n",
       "      <th>263</th>\n",
       "      <th>264</th>\n",
       "      <th>265</th>\n",
       "      <th>266</th>\n",
       "      <th>267</th>\n",
       "      <th>268</th>\n",
       "      <th>269</th>\n",
       "    </tr>\n",
       "  </thead>\n",
       "  <tbody>\n",
       "    <tr>\n",
       "      <th>0</th>\n",
       "      <td>[[228, 176, 98], [228, 176, 98], [228, 175, 98...</td>\n",
       "      <td>[[230, 176, 99], [230, 176, 99], [230, 176, 99...</td>\n",
       "      <td>[[231, 178, 100], [231, 177, 100], [231, 177, ...</td>\n",
       "      <td>[[232, 179, 101], [232, 178, 101], [232, 178, ...</td>\n",
       "      <td>[[233, 180, 102], [233, 179, 102], [233, 179, ...</td>\n",
       "      <td>[[235, 181, 104], [234, 180, 104], [234, 180, ...</td>\n",
       "      <td>[[235, 182, 105], [235, 182, 105], [235, 181, ...</td>\n",
       "      <td>[[237, 183, 107], [236, 182, 106], [236, 182, ...</td>\n",
       "      <td>[[237, 184, 108], [237, 184, 108], [237, 183, ...</td>\n",
       "      <td>[[238, 186, 113], [238, 184, 109], [238, 184, ...</td>\n",
       "      <td>...</td>\n",
       "      <td>[[0, 0, 0], [0, 0, 0], [0, 0, 0], [0, 0, 0], [...</td>\n",
       "      <td>[[0, 0, 0], [0, 0, 0], [0, 0, 0], [0, 0, 0], [...</td>\n",
       "      <td>[[0, 0, 0], [0, 0, 0], [0, 0, 0], [0, 0, 0], [...</td>\n",
       "      <td>[[0, 0, 0], [0, 0, 0], [0, 0, 0], [0, 0, 0], [...</td>\n",
       "      <td>[[0, 0, 0], [0, 0, 0], [0, 0, 0], [0, 0, 0], [...</td>\n",
       "      <td>[[0, 0, 0], [0, 0, 0], [0, 0, 0], [0, 0, 0], [...</td>\n",
       "      <td>[[0, 0, 0], [0, 0, 0], [0, 0, 0], [0, 0, 0], [...</td>\n",
       "      <td>[[0, 0, 0], [0, 0, 0], [0, 0, 0], [0, 0, 0], [...</td>\n",
       "      <td>[[0, 0, 0], [0, 0, 0], [0, 0, 0], [0, 0, 0], [...</td>\n",
       "      <td>[[0, 0, 0], [0, 0, 0], [0, 0, 0], [0, 0, 0], [...</td>\n",
       "    </tr>\n",
       "  </tbody>\n",
       "</table>\n",
       "<p>1 rows × 270 columns</p>\n",
       "</div>"
      ],
      "text/plain": [
       "                                                 0    \\\n",
       "0  [[228, 176, 98], [228, 176, 98], [228, 175, 98...   \n",
       "\n",
       "                                                 1    \\\n",
       "0  [[230, 176, 99], [230, 176, 99], [230, 176, 99...   \n",
       "\n",
       "                                                 2    \\\n",
       "0  [[231, 178, 100], [231, 177, 100], [231, 177, ...   \n",
       "\n",
       "                                                 3    \\\n",
       "0  [[232, 179, 101], [232, 178, 101], [232, 178, ...   \n",
       "\n",
       "                                                 4    \\\n",
       "0  [[233, 180, 102], [233, 179, 102], [233, 179, ...   \n",
       "\n",
       "                                                 5    \\\n",
       "0  [[235, 181, 104], [234, 180, 104], [234, 180, ...   \n",
       "\n",
       "                                                 6    \\\n",
       "0  [[235, 182, 105], [235, 182, 105], [235, 181, ...   \n",
       "\n",
       "                                                 7    \\\n",
       "0  [[237, 183, 107], [236, 182, 106], [236, 182, ...   \n",
       "\n",
       "                                                 8    \\\n",
       "0  [[237, 184, 108], [237, 184, 108], [237, 183, ...   \n",
       "\n",
       "                                                 9    ...  \\\n",
       "0  [[238, 186, 113], [238, 184, 109], [238, 184, ...  ...   \n",
       "\n",
       "                                                 260  \\\n",
       "0  [[0, 0, 0], [0, 0, 0], [0, 0, 0], [0, 0, 0], [...   \n",
       "\n",
       "                                                 261  \\\n",
       "0  [[0, 0, 0], [0, 0, 0], [0, 0, 0], [0, 0, 0], [...   \n",
       "\n",
       "                                                 262  \\\n",
       "0  [[0, 0, 0], [0, 0, 0], [0, 0, 0], [0, 0, 0], [...   \n",
       "\n",
       "                                                 263  \\\n",
       "0  [[0, 0, 0], [0, 0, 0], [0, 0, 0], [0, 0, 0], [...   \n",
       "\n",
       "                                                 264  \\\n",
       "0  [[0, 0, 0], [0, 0, 0], [0, 0, 0], [0, 0, 0], [...   \n",
       "\n",
       "                                                 265  \\\n",
       "0  [[0, 0, 0], [0, 0, 0], [0, 0, 0], [0, 0, 0], [...   \n",
       "\n",
       "                                                 266  \\\n",
       "0  [[0, 0, 0], [0, 0, 0], [0, 0, 0], [0, 0, 0], [...   \n",
       "\n",
       "                                                 267  \\\n",
       "0  [[0, 0, 0], [0, 0, 0], [0, 0, 0], [0, 0, 0], [...   \n",
       "\n",
       "                                                 268  \\\n",
       "0  [[0, 0, 0], [0, 0, 0], [0, 0, 0], [0, 0, 0], [...   \n",
       "\n",
       "                                                 269  \n",
       "0  [[0, 0, 0], [0, 0, 0], [0, 0, 0], [0, 0, 0], [...  \n",
       "\n",
       "[1 rows x 270 columns]"
      ]
     },
     "execution_count": 23,
     "metadata": {},
     "output_type": "execute_result"
    }
   ],
   "source": [
    "df_x.head(1)"
   ]
  },
  {
   "cell_type": "code",
   "execution_count": 24,
   "id": "aec1b379",
   "metadata": {},
   "outputs": [],
   "source": [
    "import io\n",
    "import cv2\n",
    "import numpy as np\n",
    "from IPython.display import clear_output, Image, display\n",
    "import PIL.Image\n",
    "from matplotlib import pyplot as plt\n",
    "from numpy import load"
   ]
  },
  {
   "cell_type": "code",
   "execution_count": 25,
   "id": "e4e5cff8",
   "metadata": {},
   "outputs": [],
   "source": [
    "def showarray(a, fmt='jpeg'):\n",
    "    a_n = np.uint8(np.clip(a, 0, 255))\n",
    "    try :\n",
    "        f = io.BytesIO()\n",
    "        PIL.Image.fromarray(a_n).save(f, fmt)\n",
    "        display(Image(data=f.getvalue()))\n",
    "    except:\n",
    "        #a = a[:, :, ::-1] # convert image from RGB (skimage) to BGR (opencv)\n",
    "        # display image   \n",
    "        plt.imshow(a)\n",
    "        plt.show()  "
   ]
  },
  {
   "cell_type": "markdown",
   "id": "30ac35e6",
   "metadata": {},
   "source": [
    "# Combining multiple CSV files"
   ]
  },
  {
   "cell_type": "code",
   "execution_count": 26,
   "id": "521440b3",
   "metadata": {},
   "outputs": [],
   "source": [
    "#os.chdir(\"../\")"
   ]
  },
  {
   "cell_type": "code",
   "execution_count": 27,
   "id": "0e46c383",
   "metadata": {},
   "outputs": [],
   "source": [
    "import os\n",
    "import glob\n",
    "import pandas as pd\n",
    "os.chdir(\"./clean_reduced\")\n",
    "extension = 'csv'"
   ]
  },
  {
   "cell_type": "markdown",
   "id": "7e282d28",
   "metadata": {},
   "source": [
    "## For images"
   ]
  },
  {
   "cell_type": "code",
   "execution_count": 28,
   "id": "328ed0fa",
   "metadata": {},
   "outputs": [],
   "source": [
    "dfs = []\n",
    "for filename in glob.glob('x_training_data*.{}'.format(extension)):\n",
    "    newDF = pd.read_pickle(filename)\n",
    "    dfs.append(newDF)\n",
    "combined_csv_x  = pd.concat(dfs, ignore_index=True)"
   ]
  },
  {
   "cell_type": "code",
   "execution_count": 29,
   "id": "3585d581",
   "metadata": {},
   "outputs": [
    {
     "data": {
      "text/plain": [
       "(1428, 270)"
      ]
     },
     "execution_count": 29,
     "metadata": {},
     "output_type": "execute_result"
    }
   ],
   "source": [
    "combined_csv_x.shape"
   ]
  },
  {
   "cell_type": "code",
   "execution_count": 30,
   "id": "eea2cc87",
   "metadata": {},
   "outputs": [
    {
     "data": {
      "text/plain": [
       "(270, 480, 3)"
      ]
     },
     "execution_count": 30,
     "metadata": {},
     "output_type": "execute_result"
    }
   ],
   "source": [
    "test_1=df_to_numpy_image(combined_csv_x,0)\n",
    "test_1.shape"
   ]
  },
  {
   "cell_type": "code",
   "execution_count": 31,
   "id": "32a93930",
   "metadata": {},
   "outputs": [
    {
     "data": {
      "image/jpeg": "[encoded data removed]",
      "text/plain": [
       "<IPython.core.display.Image object>"
      ]
     },
     "metadata": {},
     "output_type": "display_data"
    }
   ],
   "source": [
    "showarray(test_1)"
   ]
  },
  {
   "cell_type": "code",
   "execution_count": 32,
   "id": "016f59f2",
   "metadata": {},
   "outputs": [],
   "source": [
    "#export to csv\n",
    "combined_csv_x.to_pickle(\"../data_reduced/x_training_data.csv\")"
   ]
  },
  {
   "cell_type": "code",
   "execution_count": 33,
   "id": "14dd77cd",
   "metadata": {},
   "outputs": [],
   "source": [
    "x_training_data=pd.read_pickle('../data_reduced/x_training_data.csv')  "
   ]
  },
  {
   "cell_type": "code",
   "execution_count": 34,
   "id": "452b625a",
   "metadata": {},
   "outputs": [
    {
     "data": {
      "text/plain": [
       "(270, 480, 3)"
      ]
     },
     "execution_count": 34,
     "metadata": {},
     "output_type": "execute_result"
    }
   ],
   "source": [
    "test_1=df_to_numpy_image(x_training_data,0)\n",
    "test_1.shape"
   ]
  },
  {
   "cell_type": "code",
   "execution_count": 35,
   "id": "85e802e7",
   "metadata": {},
   "outputs": [
    {
     "data": {
      "image/jpeg": "[encoded data removed]",
      "text/plain": [
       "<IPython.core.display.Image object>"
      ]
     },
     "metadata": {},
     "output_type": "display_data"
    }
   ],
   "source": [
    "showarray(test_1)"
   ]
  },
  {
   "cell_type": "markdown",
   "id": "d68be801",
   "metadata": {},
   "source": [
    "## For inputs"
   ]
  },
  {
   "cell_type": "code",
   "execution_count": 51,
   "id": "391969b2",
   "metadata": {},
   "outputs": [],
   "source": [
    "#combine all files in the list\n",
    "all_filenames_y = [i for i in glob.glob('y_training_data*.{}'.format(extension))]\n",
    "combined_csv_y = pd.concat([pd.read_csv(f) for f in all_filenames_y])"
   ]
  },
  {
   "cell_type": "code",
   "execution_count": 52,
   "id": "2bb31738",
   "metadata": {},
   "outputs": [
    {
     "data": {
      "text/html": [
       "<div>\n",
       "<style scoped>\n",
       "    .dataframe tbody tr th:only-of-type {\n",
       "        vertical-align: middle;\n",
       "    }\n",
       "\n",
       "    .dataframe tbody tr th {\n",
       "        vertical-align: top;\n",
       "    }\n",
       "\n",
       "    .dataframe thead th {\n",
       "        text-align: right;\n",
       "    }\n",
       "</style>\n",
       "<table border=\"1\" class=\"dataframe\">\n",
       "  <thead>\n",
       "    <tr style=\"text-align: right;\">\n",
       "      <th></th>\n",
       "      <th>12</th>\n",
       "      <th>13</th>\n",
       "      <th>11</th>\n",
       "    </tr>\n",
       "  </thead>\n",
       "  <tbody>\n",
       "    <tr>\n",
       "      <th>0</th>\n",
       "      <td>0</td>\n",
       "      <td>0</td>\n",
       "      <td>NaN</td>\n",
       "    </tr>\n",
       "    <tr>\n",
       "      <th>1</th>\n",
       "      <td>0</td>\n",
       "      <td>0</td>\n",
       "      <td>NaN</td>\n",
       "    </tr>\n",
       "    <tr>\n",
       "      <th>2</th>\n",
       "      <td>0</td>\n",
       "      <td>0</td>\n",
       "      <td>NaN</td>\n",
       "    </tr>\n",
       "    <tr>\n",
       "      <th>3</th>\n",
       "      <td>0</td>\n",
       "      <td>0</td>\n",
       "      <td>NaN</td>\n",
       "    </tr>\n",
       "    <tr>\n",
       "      <th>4</th>\n",
       "      <td>0</td>\n",
       "      <td>0</td>\n",
       "      <td>NaN</td>\n",
       "    </tr>\n",
       "  </tbody>\n",
       "</table>\n",
       "</div>"
      ],
      "text/plain": [
       "   12  13  11\n",
       "0   0   0 NaN\n",
       "1   0   0 NaN\n",
       "2   0   0 NaN\n",
       "3   0   0 NaN\n",
       "4   0   0 NaN"
      ]
     },
     "execution_count": 52,
     "metadata": {},
     "output_type": "execute_result"
    }
   ],
   "source": [
    "combined_csv_y.head()"
   ]
  },
  {
   "cell_type": "code",
   "execution_count": 53,
   "id": "16340787",
   "metadata": {},
   "outputs": [
    {
     "data": {
      "text/html": [
       "<div>\n",
       "<style scoped>\n",
       "    .dataframe tbody tr th:only-of-type {\n",
       "        vertical-align: middle;\n",
       "    }\n",
       "\n",
       "    .dataframe tbody tr th {\n",
       "        vertical-align: top;\n",
       "    }\n",
       "\n",
       "    .dataframe thead th {\n",
       "        text-align: right;\n",
       "    }\n",
       "</style>\n",
       "<table border=\"1\" class=\"dataframe\">\n",
       "  <thead>\n",
       "    <tr style=\"text-align: right;\">\n",
       "      <th></th>\n",
       "      <th>12</th>\n",
       "      <th>13</th>\n",
       "      <th>11</th>\n",
       "    </tr>\n",
       "  </thead>\n",
       "  <tbody>\n",
       "    <tr>\n",
       "      <th>count</th>\n",
       "      <td>1428.000000</td>\n",
       "      <td>1428.000000</td>\n",
       "      <td>162.000000</td>\n",
       "    </tr>\n",
       "    <tr>\n",
       "      <th>mean</th>\n",
       "      <td>0.859944</td>\n",
       "      <td>-0.002801</td>\n",
       "      <td>0.037037</td>\n",
       "    </tr>\n",
       "    <tr>\n",
       "      <th>std</th>\n",
       "      <td>0.351181</td>\n",
       "      <td>0.707349</td>\n",
       "      <td>0.189438</td>\n",
       "    </tr>\n",
       "    <tr>\n",
       "      <th>min</th>\n",
       "      <td>-1.000000</td>\n",
       "      <td>-1.000000</td>\n",
       "      <td>0.000000</td>\n",
       "    </tr>\n",
       "    <tr>\n",
       "      <th>25%</th>\n",
       "      <td>1.000000</td>\n",
       "      <td>-1.000000</td>\n",
       "      <td>0.000000</td>\n",
       "    </tr>\n",
       "    <tr>\n",
       "      <th>50%</th>\n",
       "      <td>1.000000</td>\n",
       "      <td>0.000000</td>\n",
       "      <td>0.000000</td>\n",
       "    </tr>\n",
       "    <tr>\n",
       "      <th>75%</th>\n",
       "      <td>1.000000</td>\n",
       "      <td>0.000000</td>\n",
       "      <td>0.000000</td>\n",
       "    </tr>\n",
       "    <tr>\n",
       "      <th>max</th>\n",
       "      <td>1.000000</td>\n",
       "      <td>1.000000</td>\n",
       "      <td>1.000000</td>\n",
       "    </tr>\n",
       "  </tbody>\n",
       "</table>\n",
       "</div>"
      ],
      "text/plain": [
       "                12           13          11\n",
       "count  1428.000000  1428.000000  162.000000\n",
       "mean      0.859944    -0.002801    0.037037\n",
       "std       0.351181     0.707349    0.189438\n",
       "min      -1.000000    -1.000000    0.000000\n",
       "25%       1.000000    -1.000000    0.000000\n",
       "50%       1.000000     0.000000    0.000000\n",
       "75%       1.000000     0.000000    0.000000\n",
       "max       1.000000     1.000000    1.000000"
      ]
     },
     "execution_count": 53,
     "metadata": {},
     "output_type": "execute_result"
    }
   ],
   "source": [
    "combined_csv_y.describe()"
   ]
  },
  {
   "cell_type": "code",
   "execution_count": 55,
   "id": "9f88f3a4",
   "metadata": {},
   "outputs": [
    {
     "data": {
      "text/plain": [
       "1266"
      ]
     },
     "execution_count": 55,
     "metadata": {},
     "output_type": "execute_result"
    }
   ],
   "source": [
    "combined_csv_y['11'].isna().sum()"
   ]
  },
  {
   "cell_type": "code",
   "execution_count": 56,
   "id": "54e95d03",
   "metadata": {},
   "outputs": [],
   "source": [
    "combined_csv_y['11'] = combined_csv_y['11'].fillna(0)"
   ]
  },
  {
   "cell_type": "code",
   "execution_count": 57,
   "id": "946e6fb0",
   "metadata": {},
   "outputs": [
    {
     "data": {
      "text/plain": [
       "0"
      ]
     },
     "execution_count": 57,
     "metadata": {},
     "output_type": "execute_result"
    }
   ],
   "source": [
    "combined_csv_y['11'].isna().sum()"
   ]
  },
  {
   "cell_type": "code",
   "execution_count": 58,
   "id": "bfb5414e",
   "metadata": {},
   "outputs": [],
   "source": [
    "#export to csv\n",
    "combined_csv_y.to_csv( \"../data_reduced/y_training_data.csv\", index=False)\n",
    "#If you getUnicodeEncodeError , simply add encoding='utf-8' ; or encoding='utf-8-sig'"
   ]
  },
  {
   "cell_type": "code",
   "execution_count": 59,
   "id": "03fcf1ed",
   "metadata": {},
   "outputs": [
    {
     "data": {
      "text/plain": [
       "(1428, 3)"
      ]
     },
     "execution_count": 59,
     "metadata": {},
     "output_type": "execute_result"
    }
   ],
   "source": [
    "combined_csv_y.shape"
   ]
  },
  {
   "cell_type": "markdown",
   "id": "5b4ae133",
   "metadata": {},
   "source": [
    "## Verifing images and inputs"
   ]
  },
  {
   "cell_type": "code",
   "execution_count": 60,
   "id": "c208cc20",
   "metadata": {},
   "outputs": [],
   "source": [
    "x_training_data=pd.read_pickle('../data_reduced/x_training_data.csv')  \n",
    "y_training_data=pd.read_csv('../data_reduced/y_training_data.csv')  "
   ]
  },
  {
   "cell_type": "code",
   "execution_count": 61,
   "id": "983fd2f2",
   "metadata": {},
   "outputs": [
    {
     "data": {
      "text/plain": [
       "(1428, 270)"
      ]
     },
     "execution_count": 61,
     "metadata": {},
     "output_type": "execute_result"
    }
   ],
   "source": [
    "x_training_data.shape"
   ]
  },
  {
   "cell_type": "code",
   "execution_count": 62,
   "id": "b1226798",
   "metadata": {},
   "outputs": [
    {
     "data": {
      "text/plain": [
       "(1428, 3)"
      ]
     },
     "execution_count": 62,
     "metadata": {},
     "output_type": "execute_result"
    }
   ],
   "source": [
    "y_training_data.shape"
   ]
  },
  {
   "cell_type": "code",
   "execution_count": 63,
   "id": "cf61a4ca",
   "metadata": {},
   "outputs": [],
   "source": [
    "# We count that the size of raws are equal for images and inputs\n",
    "assert x_training_data.shape[0] == y_training_data.shape[0]"
   ]
  },
  {
   "cell_type": "code",
   "execution_count": 64,
   "id": "9c6ec16c",
   "metadata": {},
   "outputs": [],
   "source": [
    "# The size of columns for image is 270\n",
    "assert x_training_data.shape[1] == 270"
   ]
  },
  {
   "cell_type": "code",
   "execution_count": 65,
   "id": "5b4d7ce1",
   "metadata": {},
   "outputs": [
    {
     "data": {
      "text/plain": [
       "(270, 480, 3)"
      ]
     },
     "execution_count": 65,
     "metadata": {},
     "output_type": "execute_result"
    }
   ],
   "source": [
    "test_1=df_to_numpy_image(x_training_data,0)\n",
    "test_1.shape"
   ]
  },
  {
   "cell_type": "code",
   "execution_count": 66,
   "id": "e8ff27d9",
   "metadata": {},
   "outputs": [
    {
     "data": {
      "image/jpeg": "[encoded data removed]",
      "text/plain": [
       "<IPython.core.display.Image object>"
      ]
     },
     "metadata": {},
     "output_type": "display_data"
    }
   ],
   "source": [
    "showarray(test_1)"
   ]
  },
  {
   "cell_type": "code",
   "execution_count": 67,
   "id": "ab427d41",
   "metadata": {},
   "outputs": [],
   "source": [
    "X_train, X_valid, y_train, y_valid = train_test_split(x_training_data, y_training_data, test_size=0.2, random_state=6)"
   ]
  },
  {
   "cell_type": "code",
   "execution_count": 68,
   "id": "6bccbc82",
   "metadata": {
    "scrolled": true
   },
   "outputs": [
    {
     "name": "stdout",
     "output_type": "stream",
     "text": [
      "Training Samples: 1142\n",
      "Valid Samples: 286\n"
     ]
    },
    {
     "data": {
      "text/plain": [
       "Text(0.5, 1.0, 'Validation set')"
      ]
     },
     "execution_count": 68,
     "metadata": {},
     "output_type": "execute_result"
    },
    {
     "data": {
      "image/png": "[encoded data removed]",
      "text/plain": [
       "<Figure size 864x288 with 2 Axes>"
      ]
     },
     "metadata": {
      "needs_background": "light"
     },
     "output_type": "display_data"
    }
   ],
   "source": [
    "num_bins = 25\n",
    "print('Training Samples: {}\\nValid Samples: {}'.format(len(X_train), len(y_valid)))\n",
    "fig, axes = plt.subplots(1, 2, figsize=(12, 4))\n",
    "axes[0].hist(y_train, bins=num_bins, width=0.05)\n",
    "axes[0].set_title('Training set')\n",
    "axes[1].hist(y_valid, bins=num_bins, width=0.05)\n",
    "axes[1].set_title('Validation set')\n"
   ]
  },
  {
   "cell_type": "markdown",
   "id": "84f89c16",
   "metadata": {},
   "source": [
    "The previous plot show the distribution of data to be used. It is seen thant still we have the problem of the unbalanced data, so we require additional procedures to deal this unbalanced data."
   ]
  },
  {
   "cell_type": "code",
   "execution_count": 69,
   "id": "5b0696d0",
   "metadata": {},
   "outputs": [],
   "source": [
    "import pandas as pd"
   ]
  },
  {
   "cell_type": "code",
   "execution_count": 70,
   "id": "8cf2b563",
   "metadata": {},
   "outputs": [],
   "source": [
    "y_training_data=pd.read_csv('../data_reduced/y_training_data.csv')  "
   ]
  },
  {
   "cell_type": "code",
   "execution_count": 71,
   "id": "209c26d0",
   "metadata": {},
   "outputs": [],
   "source": [
    "data_y=y_training_data"
   ]
  },
  {
   "cell_type": "code",
   "execution_count": 72,
   "id": "b8c8049f",
   "metadata": {},
   "outputs": [
    {
     "data": {
      "text/html": [
       "<div>\n",
       "<style scoped>\n",
       "    .dataframe tbody tr th:only-of-type {\n",
       "        vertical-align: middle;\n",
       "    }\n",
       "\n",
       "    .dataframe tbody tr th {\n",
       "        vertical-align: top;\n",
       "    }\n",
       "\n",
       "    .dataframe thead th {\n",
       "        text-align: right;\n",
       "    }\n",
       "</style>\n",
       "<table border=\"1\" class=\"dataframe\">\n",
       "  <thead>\n",
       "    <tr style=\"text-align: right;\">\n",
       "      <th></th>\n",
       "      <th>12</th>\n",
       "      <th>13</th>\n",
       "      <th>11</th>\n",
       "    </tr>\n",
       "  </thead>\n",
       "  <tbody>\n",
       "    <tr>\n",
       "      <th>0</th>\n",
       "      <td>0</td>\n",
       "      <td>0</td>\n",
       "      <td>0.0</td>\n",
       "    </tr>\n",
       "    <tr>\n",
       "      <th>1</th>\n",
       "      <td>0</td>\n",
       "      <td>0</td>\n",
       "      <td>0.0</td>\n",
       "    </tr>\n",
       "    <tr>\n",
       "      <th>2</th>\n",
       "      <td>0</td>\n",
       "      <td>0</td>\n",
       "      <td>0.0</td>\n",
       "    </tr>\n",
       "    <tr>\n",
       "      <th>3</th>\n",
       "      <td>0</td>\n",
       "      <td>0</td>\n",
       "      <td>0.0</td>\n",
       "    </tr>\n",
       "    <tr>\n",
       "      <th>4</th>\n",
       "      <td>0</td>\n",
       "      <td>0</td>\n",
       "      <td>0.0</td>\n",
       "    </tr>\n",
       "  </tbody>\n",
       "</table>\n",
       "</div>"
      ],
      "text/plain": [
       "   12  13   11\n",
       "0   0   0  0.0\n",
       "1   0   0  0.0\n",
       "2   0   0  0.0\n",
       "3   0   0  0.0\n",
       "4   0   0  0.0"
      ]
     },
     "execution_count": 72,
     "metadata": {},
     "output_type": "execute_result"
    }
   ],
   "source": [
    "data_y.head()"
   ]
  },
  {
   "cell_type": "code",
   "execution_count": 73,
   "id": "a4425e40",
   "metadata": {},
   "outputs": [
    {
     "data": {
      "text/html": [
       "<div>\n",
       "<style scoped>\n",
       "    .dataframe tbody tr th:only-of-type {\n",
       "        vertical-align: middle;\n",
       "    }\n",
       "\n",
       "    .dataframe tbody tr th {\n",
       "        vertical-align: top;\n",
       "    }\n",
       "\n",
       "    .dataframe thead th {\n",
       "        text-align: right;\n",
       "    }\n",
       "</style>\n",
       "<table border=\"1\" class=\"dataframe\">\n",
       "  <thead>\n",
       "    <tr style=\"text-align: right;\">\n",
       "      <th></th>\n",
       "      <th>12</th>\n",
       "      <th>13</th>\n",
       "      <th>11</th>\n",
       "    </tr>\n",
       "  </thead>\n",
       "  <tbody>\n",
       "    <tr>\n",
       "      <th>count</th>\n",
       "      <td>1428.000000</td>\n",
       "      <td>1428.000000</td>\n",
       "      <td>1428.000000</td>\n",
       "    </tr>\n",
       "    <tr>\n",
       "      <th>mean</th>\n",
       "      <td>0.859944</td>\n",
       "      <td>-0.002801</td>\n",
       "      <td>0.004202</td>\n",
       "    </tr>\n",
       "    <tr>\n",
       "      <th>std</th>\n",
       "      <td>0.351181</td>\n",
       "      <td>0.707349</td>\n",
       "      <td>0.064707</td>\n",
       "    </tr>\n",
       "    <tr>\n",
       "      <th>min</th>\n",
       "      <td>-1.000000</td>\n",
       "      <td>-1.000000</td>\n",
       "      <td>0.000000</td>\n",
       "    </tr>\n",
       "    <tr>\n",
       "      <th>25%</th>\n",
       "      <td>1.000000</td>\n",
       "      <td>-1.000000</td>\n",
       "      <td>0.000000</td>\n",
       "    </tr>\n",
       "    <tr>\n",
       "      <th>50%</th>\n",
       "      <td>1.000000</td>\n",
       "      <td>0.000000</td>\n",
       "      <td>0.000000</td>\n",
       "    </tr>\n",
       "    <tr>\n",
       "      <th>75%</th>\n",
       "      <td>1.000000</td>\n",
       "      <td>0.000000</td>\n",
       "      <td>0.000000</td>\n",
       "    </tr>\n",
       "    <tr>\n",
       "      <th>max</th>\n",
       "      <td>1.000000</td>\n",
       "      <td>1.000000</td>\n",
       "      <td>1.000000</td>\n",
       "    </tr>\n",
       "  </tbody>\n",
       "</table>\n",
       "</div>"
      ],
      "text/plain": [
       "                12           13           11\n",
       "count  1428.000000  1428.000000  1428.000000\n",
       "mean      0.859944    -0.002801     0.004202\n",
       "std       0.351181     0.707349     0.064707\n",
       "min      -1.000000    -1.000000     0.000000\n",
       "25%       1.000000    -1.000000     0.000000\n",
       "50%       1.000000     0.000000     0.000000\n",
       "75%       1.000000     0.000000     0.000000\n",
       "max       1.000000     1.000000     1.000000"
      ]
     },
     "execution_count": 73,
     "metadata": {},
     "output_type": "execute_result"
    }
   ],
   "source": [
    "data_y.describe()"
   ]
  },
  {
   "cell_type": "code",
   "execution_count": null,
   "id": "d9b7984d",
   "metadata": {},
   "outputs": [],
   "source": []
  },
  {
   "cell_type": "code",
   "execution_count": 147,
   "id": "ab3fdcc5",
   "metadata": {},
   "outputs": [],
   "source": [
    "import seaborn as sns\n",
    "def undersampling(data_y, column_name):\n",
    "    '''\n",
    "    data_y : pands dataframe to apply undersampling \n",
    "    column_name : column name string\n",
    "    \n",
    "    '''\n",
    "    fig, ax =plt.subplots(1,2)\n",
    "    #Before undersampling\n",
    "    sns.countplot(data_y[column_name], ax=ax[0])\n",
    "    # class count\n",
    "    class_count_0, class_count_1, class_count_2 = data_y[column_name].value_counts()\n",
    "    \n",
    "    # Separate class\n",
    "    class_0 = data_y[data_y[column_name] == 0]\n",
    "    class_1 = data_y[data_y[column_name] == 1]\n",
    "    class_2 = data_y[data_y[column_name] == -1]\n",
    "    \n",
    "    \n",
    "    \n",
    "    print('class 0:', class_0.shape)\n",
    "    print('class 1:', class_1.shape)\n",
    "    print('class 2:', class_2.shape)\n",
    "    class_0_under = class_0.sample(class_count_1)\n",
    "    y_under = pd.concat([class_0_under, class_1, class_2], axis=0)\n",
    "    print(\"total class of 1 and 0:\",y_under[column_name].value_counts())\n",
    "    # plot the count after under-sampeling\n",
    "    sns.countplot(y_under[column_name], ax=ax[1])\n",
    "    fig.show()\n",
    "    return y_under "
   ]
  },
  {
   "cell_type": "code",
   "execution_count": 148,
   "id": "37da681c",
   "metadata": {},
   "outputs": [
    {
     "name": "stdout",
     "output_type": "stream",
     "text": [
      "class 0: (714, 3)\n",
      "class 1: (355, 3)\n",
      "class 2: (359, 3)\n",
      "total class of 1 and 0: -1    359\n",
      " 0    359\n",
      " 1    355\n",
      "Name: 13, dtype: int64\n"
     ]
    },
    {
     "name": "stderr",
     "output_type": "stream",
     "text": [
      "C:\\Anaconda3\\envs\\pygta5\\lib\\site-packages\\seaborn\\_decorators.py:43: FutureWarning: Pass the following variable as a keyword arg: x. From version 0.12, the only valid positional argument will be `data`, and passing other arguments without an explicit keyword will result in an error or misinterpretation.\n",
      "  FutureWarning\n",
      "C:\\Anaconda3\\envs\\pygta5\\lib\\site-packages\\seaborn\\_decorators.py:43: FutureWarning: Pass the following variable as a keyword arg: x. From version 0.12, the only valid positional argument will be `data`, and passing other arguments without an explicit keyword will result in an error or misinterpretation.\n",
      "  FutureWarning\n",
      "C:\\Anaconda3\\envs\\pygta5\\lib\\site-packages\\ipykernel_launcher.py:31: UserWarning: Matplotlib is currently using module://ipykernel.pylab.backend_inline, which is a non-GUI backend, so cannot show the figure.\n"
     ]
    },
    {
     "data": {
      "image/png": "[encoded data removed]",
      "text/plain": [
       "<Figure size 432x288 with 2 Axes>"
      ]
     },
     "metadata": {
      "needs_background": "light"
     },
     "output_type": "display_data"
    }
   ],
   "source": [
    "data_y_und=undersampling(data_y,'13')"
   ]
  },
  {
   "cell_type": "code",
   "execution_count": 188,
   "id": "92c183e2",
   "metadata": {},
   "outputs": [],
   "source": [
    "#pip install seaborn"
   ]
  },
  {
   "cell_type": "code",
   "execution_count": 189,
   "id": "fee6a99a",
   "metadata": {},
   "outputs": [],
   "source": [
    "import seaborn as sns"
   ]
  },
  {
   "cell_type": "code",
   "execution_count": 95,
   "id": "2cd6e8a4",
   "metadata": {},
   "outputs": [
    {
     "name": "stderr",
     "output_type": "stream",
     "text": [
      "C:\\Anaconda3\\envs\\pygta5\\lib\\site-packages\\seaborn\\_decorators.py:43: FutureWarning: Pass the following variable as a keyword arg: x. From version 0.12, the only valid positional argument will be `data`, and passing other arguments without an explicit keyword will result in an error or misinterpretation.\n",
      "  FutureWarning\n"
     ]
    },
    {
     "data": {
      "text/plain": [
       "<AxesSubplot:xlabel='12', ylabel='count'>"
      ]
     },
     "execution_count": 95,
     "metadata": {},
     "output_type": "execute_result"
    },
    {
     "data": {
      "image/png": "[encoded data removed]",
      "text/plain": [
       "<Figure size 432x288 with 1 Axes>"
      ]
     },
     "metadata": {
      "needs_background": "light"
     },
     "output_type": "display_data"
    }
   ],
   "source": [
    "sns.countplot(data_y['12'])"
   ]
  },
  {
   "cell_type": "code",
   "execution_count": 96,
   "id": "54b125e3",
   "metadata": {},
   "outputs": [
    {
     "name": "stderr",
     "output_type": "stream",
     "text": [
      "C:\\Anaconda3\\envs\\pygta5\\lib\\site-packages\\seaborn\\_decorators.py:43: FutureWarning: Pass the following variable as a keyword arg: x. From version 0.12, the only valid positional argument will be `data`, and passing other arguments without an explicit keyword will result in an error or misinterpretation.\n",
      "  FutureWarning\n"
     ]
    },
    {
     "data": {
      "text/plain": [
       "<AxesSubplot:xlabel='13', ylabel='count'>"
      ]
     },
     "execution_count": 96,
     "metadata": {},
     "output_type": "execute_result"
    },
    {
     "data": {
      "image/png": "[encoded data removed]",
      "text/plain": [
       "<Figure size 432x288 with 1 Axes>"
      ]
     },
     "metadata": {
      "needs_background": "light"
     },
     "output_type": "display_data"
    }
   ],
   "source": [
    "sns.countplot(data_y['13'])"
   ]
  },
  {
   "cell_type": "markdown",
   "id": "123f8e5a",
   "metadata": {},
   "source": [
    "The simplest implementation of over-sampling is to duplicate random records from the minority class, which can cause overfishing.\n",
    "In under-sampling, the simplest technique involves removing random records from the majority class, which can cause loss of information."
   ]
  },
  {
   "cell_type": "code",
   "execution_count": 97,
   "id": "19a78fe5",
   "metadata": {},
   "outputs": [],
   "source": [
    "# class count\n",
    "class_count_0, class_count_1, class_count_2 = data_y['13'].value_counts()"
   ]
  },
  {
   "cell_type": "code",
   "execution_count": 98,
   "id": "ce68adcc",
   "metadata": {},
   "outputs": [
    {
     "data": {
      "text/plain": [
       "714"
      ]
     },
     "execution_count": 98,
     "metadata": {},
     "output_type": "execute_result"
    }
   ],
   "source": [
    "class_count_0"
   ]
  },
  {
   "cell_type": "code",
   "execution_count": 99,
   "id": "c4f65cd9",
   "metadata": {},
   "outputs": [
    {
     "data": {
      "text/plain": [
       "359"
      ]
     },
     "execution_count": 99,
     "metadata": {},
     "output_type": "execute_result"
    }
   ],
   "source": [
    "class_count_1"
   ]
  },
  {
   "cell_type": "code",
   "execution_count": 100,
   "id": "56f000ba",
   "metadata": {},
   "outputs": [
    {
     "data": {
      "text/plain": [
       "355"
      ]
     },
     "execution_count": 100,
     "metadata": {},
     "output_type": "execute_result"
    }
   ],
   "source": [
    "class_count_2"
   ]
  },
  {
   "cell_type": "code",
   "execution_count": 102,
   "id": "d59d2c61",
   "metadata": {},
   "outputs": [],
   "source": [
    "# Separate class\n",
    "class_0 = data_y[data_y['13'] == 0]\n",
    "class_1 = data_y[data_y['13'] == 1]\n",
    "class_2 = data_y[data_y['13'] == -1]\n",
    "# print the shape of the class"
   ]
  },
  {
   "cell_type": "code",
   "execution_count": 103,
   "id": "aa409a0f",
   "metadata": {},
   "outputs": [
    {
     "name": "stdout",
     "output_type": "stream",
     "text": [
      "class 0: (714, 3)\n",
      "class 1: (355, 3)\n",
      "class 2: (359, 3)\n"
     ]
    }
   ],
   "source": [
    "print('class 0:', class_0.shape)\n",
    "print('class 1:', class_1.shape)\n",
    "print('class 2:', class_2.shape)"
   ]
  },
  {
   "cell_type": "markdown",
   "id": "cffdcf04",
   "metadata": {},
   "source": [
    "Undersampling can be defined as removing some observations of the majority class. This is done until the majority and minority class is balanced out.\n",
    "\n",
    "Undersampling can be a good choice when you have a ton of data -think millions of rows. But a drawback to undersampling is that we are removing information that may be valuable."
   ]
  },
  {
   "cell_type": "code",
   "execution_count": 104,
   "id": "831f1bed",
   "metadata": {},
   "outputs": [],
   "source": [
    "class_0_under = class_0.sample(class_count_1)"
   ]
  },
  {
   "cell_type": "code",
   "execution_count": 105,
   "id": "aa2d00a7",
   "metadata": {},
   "outputs": [],
   "source": [
    "y_under = pd.concat([class_0_under, class_1, class_2], axis=0)"
   ]
  },
  {
   "cell_type": "code",
   "execution_count": 106,
   "id": "6f840048",
   "metadata": {},
   "outputs": [
    {
     "name": "stdout",
     "output_type": "stream",
     "text": [
      "total class of 1 and 0: -1    359\n",
      " 0    359\n",
      " 1    355\n",
      "Name: 13, dtype: int64\n"
     ]
    }
   ],
   "source": [
    "print(\"total class of 1 and 0:\",y_under['13'].value_counts())\n",
    "# plot the count after under-sampeling"
   ]
  },
  {
   "cell_type": "code",
   "execution_count": 107,
   "id": "9e2b1677",
   "metadata": {},
   "outputs": [
    {
     "data": {
      "text/plain": [
       "<AxesSubplot:title={'center':'count (target)'}>"
      ]
     },
     "execution_count": 107,
     "metadata": {},
     "output_type": "execute_result"
    },
    {
     "data": {
      "image/png": "[encoded data removed]",
      "text/plain": [
       "<Figure size 432x288 with 1 Axes>"
      ]
     },
     "metadata": {
      "needs_background": "light"
     },
     "output_type": "display_data"
    }
   ],
   "source": [
    "y_under['13'].value_counts().plot(kind='bar', title='count (target)')"
   ]
  },
  {
   "cell_type": "code",
   "execution_count": 108,
   "id": "c70ec833",
   "metadata": {},
   "outputs": [
    {
     "data": {
      "text/plain": [
       "pandas.core.frame.DataFrame"
      ]
     },
     "execution_count": 108,
     "metadata": {},
     "output_type": "execute_result"
    }
   ],
   "source": [
    "type(y_under)"
   ]
  },
  {
   "cell_type": "code",
   "execution_count": 109,
   "id": "43dcca95",
   "metadata": {},
   "outputs": [
    {
     "data": {
      "text/html": [
       "<div>\n",
       "<style scoped>\n",
       "    .dataframe tbody tr th:only-of-type {\n",
       "        vertical-align: middle;\n",
       "    }\n",
       "\n",
       "    .dataframe tbody tr th {\n",
       "        vertical-align: top;\n",
       "    }\n",
       "\n",
       "    .dataframe thead th {\n",
       "        text-align: right;\n",
       "    }\n",
       "</style>\n",
       "<table border=\"1\" class=\"dataframe\">\n",
       "  <thead>\n",
       "    <tr style=\"text-align: right;\">\n",
       "      <th></th>\n",
       "      <th>12</th>\n",
       "      <th>13</th>\n",
       "      <th>11</th>\n",
       "    </tr>\n",
       "  </thead>\n",
       "  <tbody>\n",
       "    <tr>\n",
       "      <th>583</th>\n",
       "      <td>1</td>\n",
       "      <td>0</td>\n",
       "      <td>0.0</td>\n",
       "    </tr>\n",
       "    <tr>\n",
       "      <th>395</th>\n",
       "      <td>1</td>\n",
       "      <td>0</td>\n",
       "      <td>0.0</td>\n",
       "    </tr>\n",
       "    <tr>\n",
       "      <th>162</th>\n",
       "      <td>1</td>\n",
       "      <td>0</td>\n",
       "      <td>0.0</td>\n",
       "    </tr>\n",
       "    <tr>\n",
       "      <th>976</th>\n",
       "      <td>1</td>\n",
       "      <td>0</td>\n",
       "      <td>0.0</td>\n",
       "    </tr>\n",
       "    <tr>\n",
       "      <th>1244</th>\n",
       "      <td>1</td>\n",
       "      <td>0</td>\n",
       "      <td>0.0</td>\n",
       "    </tr>\n",
       "    <tr>\n",
       "      <th>...</th>\n",
       "      <td>...</td>\n",
       "      <td>...</td>\n",
       "      <td>...</td>\n",
       "    </tr>\n",
       "    <tr>\n",
       "      <th>1411</th>\n",
       "      <td>1</td>\n",
       "      <td>-1</td>\n",
       "      <td>0.0</td>\n",
       "    </tr>\n",
       "    <tr>\n",
       "      <th>1420</th>\n",
       "      <td>1</td>\n",
       "      <td>-1</td>\n",
       "      <td>0.0</td>\n",
       "    </tr>\n",
       "    <tr>\n",
       "      <th>1425</th>\n",
       "      <td>1</td>\n",
       "      <td>-1</td>\n",
       "      <td>0.0</td>\n",
       "    </tr>\n",
       "    <tr>\n",
       "      <th>1426</th>\n",
       "      <td>1</td>\n",
       "      <td>-1</td>\n",
       "      <td>0.0</td>\n",
       "    </tr>\n",
       "    <tr>\n",
       "      <th>1427</th>\n",
       "      <td>1</td>\n",
       "      <td>-1</td>\n",
       "      <td>0.0</td>\n",
       "    </tr>\n",
       "  </tbody>\n",
       "</table>\n",
       "<p>1073 rows × 3 columns</p>\n",
       "</div>"
      ],
      "text/plain": [
       "      12  13   11\n",
       "583    1   0  0.0\n",
       "395    1   0  0.0\n",
       "162    1   0  0.0\n",
       "976    1   0  0.0\n",
       "1244   1   0  0.0\n",
       "...   ..  ..  ...\n",
       "1411   1  -1  0.0\n",
       "1420   1  -1  0.0\n",
       "1425   1  -1  0.0\n",
       "1426   1  -1  0.0\n",
       "1427   1  -1  0.0\n",
       "\n",
       "[1073 rows x 3 columns]"
      ]
     },
     "execution_count": 109,
     "metadata": {},
     "output_type": "execute_result"
    }
   ],
   "source": [
    "y_under"
   ]
  },
  {
   "cell_type": "code",
   "execution_count": 110,
   "id": "44c30ccf",
   "metadata": {},
   "outputs": [
    {
     "data": {
      "text/plain": [
       "-1    359\n",
       " 0    359\n",
       " 1    355\n",
       "Name: 13, dtype: int64"
      ]
     },
     "execution_count": 110,
     "metadata": {},
     "output_type": "execute_result"
    }
   ],
   "source": [
    "y_under['13'].value_counts()"
   ]
  },
  {
   "cell_type": "code",
   "execution_count": 111,
   "id": "65585bf3",
   "metadata": {},
   "outputs": [
    {
     "name": "stderr",
     "output_type": "stream",
     "text": [
      "C:\\Anaconda3\\envs\\pygta5\\lib\\site-packages\\seaborn\\_decorators.py:43: FutureWarning: Pass the following variable as a keyword arg: x. From version 0.12, the only valid positional argument will be `data`, and passing other arguments without an explicit keyword will result in an error or misinterpretation.\n",
      "  FutureWarning\n"
     ]
    },
    {
     "data": {
      "text/plain": [
       "<AxesSubplot:xlabel='13', ylabel='count'>"
      ]
     },
     "execution_count": 111,
     "metadata": {},
     "output_type": "execute_result"
    },
    {
     "data": {
      "image/png": "[encoded data removed]",
      "text/plain": [
       "<Figure size 432x288 with 1 Axes>"
      ]
     },
     "metadata": {
      "needs_background": "light"
     },
     "output_type": "display_data"
    }
   ],
   "source": [
    "sns.countplot(y_under['13'])"
   ]
  },
  {
   "cell_type": "code",
   "execution_count": 112,
   "id": "32465bf3",
   "metadata": {},
   "outputs": [
    {
     "data": {
      "text/html": [
       "<div>\n",
       "<style scoped>\n",
       "    .dataframe tbody tr th:only-of-type {\n",
       "        vertical-align: middle;\n",
       "    }\n",
       "\n",
       "    .dataframe tbody tr th {\n",
       "        vertical-align: top;\n",
       "    }\n",
       "\n",
       "    .dataframe thead th {\n",
       "        text-align: right;\n",
       "    }\n",
       "</style>\n",
       "<table border=\"1\" class=\"dataframe\">\n",
       "  <thead>\n",
       "    <tr style=\"text-align: right;\">\n",
       "      <th></th>\n",
       "      <th>12</th>\n",
       "      <th>13</th>\n",
       "      <th>11</th>\n",
       "    </tr>\n",
       "  </thead>\n",
       "  <tbody>\n",
       "    <tr>\n",
       "      <th>583</th>\n",
       "      <td>1</td>\n",
       "      <td>0</td>\n",
       "      <td>0.0</td>\n",
       "    </tr>\n",
       "    <tr>\n",
       "      <th>395</th>\n",
       "      <td>1</td>\n",
       "      <td>0</td>\n",
       "      <td>0.0</td>\n",
       "    </tr>\n",
       "    <tr>\n",
       "      <th>162</th>\n",
       "      <td>1</td>\n",
       "      <td>0</td>\n",
       "      <td>0.0</td>\n",
       "    </tr>\n",
       "    <tr>\n",
       "      <th>976</th>\n",
       "      <td>1</td>\n",
       "      <td>0</td>\n",
       "      <td>0.0</td>\n",
       "    </tr>\n",
       "    <tr>\n",
       "      <th>1244</th>\n",
       "      <td>1</td>\n",
       "      <td>0</td>\n",
       "      <td>0.0</td>\n",
       "    </tr>\n",
       "  </tbody>\n",
       "</table>\n",
       "</div>"
      ],
      "text/plain": [
       "      12  13   11\n",
       "583    1   0  0.0\n",
       "395    1   0  0.0\n",
       "162    1   0  0.0\n",
       "976    1   0  0.0\n",
       "1244   1   0  0.0"
      ]
     },
     "execution_count": 112,
     "metadata": {},
     "output_type": "execute_result"
    }
   ],
   "source": [
    "y_under.head()"
   ]
  },
  {
   "cell_type": "code",
   "execution_count": 149,
   "id": "04a23732",
   "metadata": {},
   "outputs": [
    {
     "name": "stdout",
     "output_type": "stream",
     "text": [
      "class 0: (714, 3)\n",
      "class 1: (355, 3)\n",
      "class 2: (359, 3)\n",
      "total class of 1 and 0: -1    359\n",
      " 0    359\n",
      " 1    355\n",
      "Name: 13, dtype: int64\n"
     ]
    },
    {
     "name": "stderr",
     "output_type": "stream",
     "text": [
      "C:\\Anaconda3\\envs\\pygta5\\lib\\site-packages\\seaborn\\_decorators.py:43: FutureWarning: Pass the following variable as a keyword arg: x. From version 0.12, the only valid positional argument will be `data`, and passing other arguments without an explicit keyword will result in an error or misinterpretation.\n",
      "  FutureWarning\n",
      "C:\\Anaconda3\\envs\\pygta5\\lib\\site-packages\\seaborn\\_decorators.py:43: FutureWarning: Pass the following variable as a keyword arg: x. From version 0.12, the only valid positional argument will be `data`, and passing other arguments without an explicit keyword will result in an error or misinterpretation.\n",
      "  FutureWarning\n",
      "C:\\Anaconda3\\envs\\pygta5\\lib\\site-packages\\ipykernel_launcher.py:31: UserWarning: Matplotlib is currently using module://ipykernel.pylab.backend_inline, which is a non-GUI backend, so cannot show the figure.\n"
     ]
    },
    {
     "data": {
      "image/png": "[encoded data removed]",
      "text/plain": [
       "<Figure size 432x288 with 2 Axes>"
      ]
     },
     "metadata": {
      "needs_background": "light"
     },
     "output_type": "display_data"
    }
   ],
   "source": [
    "y_under=undersampling(data_y,'13')"
   ]
  },
  {
   "cell_type": "code",
   "execution_count": 150,
   "id": "aece1de0",
   "metadata": {},
   "outputs": [
    {
     "data": {
      "text/html": [
       "<div>\n",
       "<style scoped>\n",
       "    .dataframe tbody tr th:only-of-type {\n",
       "        vertical-align: middle;\n",
       "    }\n",
       "\n",
       "    .dataframe tbody tr th {\n",
       "        vertical-align: top;\n",
       "    }\n",
       "\n",
       "    .dataframe thead th {\n",
       "        text-align: right;\n",
       "    }\n",
       "</style>\n",
       "<table border=\"1\" class=\"dataframe\">\n",
       "  <thead>\n",
       "    <tr style=\"text-align: right;\">\n",
       "      <th></th>\n",
       "      <th>12</th>\n",
       "      <th>13</th>\n",
       "      <th>11</th>\n",
       "    </tr>\n",
       "  </thead>\n",
       "  <tbody>\n",
       "    <tr>\n",
       "      <th>count</th>\n",
       "      <td>1073.000000</td>\n",
       "      <td>1073.000000</td>\n",
       "      <td>1073.000000</td>\n",
       "    </tr>\n",
       "    <tr>\n",
       "      <th>mean</th>\n",
       "      <td>0.830382</td>\n",
       "      <td>-0.003728</td>\n",
       "      <td>0.005592</td>\n",
       "    </tr>\n",
       "    <tr>\n",
       "      <th>std</th>\n",
       "      <td>0.380408</td>\n",
       "      <td>0.816107</td>\n",
       "      <td>0.074604</td>\n",
       "    </tr>\n",
       "    <tr>\n",
       "      <th>min</th>\n",
       "      <td>-1.000000</td>\n",
       "      <td>-1.000000</td>\n",
       "      <td>0.000000</td>\n",
       "    </tr>\n",
       "    <tr>\n",
       "      <th>25%</th>\n",
       "      <td>1.000000</td>\n",
       "      <td>-1.000000</td>\n",
       "      <td>0.000000</td>\n",
       "    </tr>\n",
       "    <tr>\n",
       "      <th>50%</th>\n",
       "      <td>1.000000</td>\n",
       "      <td>0.000000</td>\n",
       "      <td>0.000000</td>\n",
       "    </tr>\n",
       "    <tr>\n",
       "      <th>75%</th>\n",
       "      <td>1.000000</td>\n",
       "      <td>1.000000</td>\n",
       "      <td>0.000000</td>\n",
       "    </tr>\n",
       "    <tr>\n",
       "      <th>max</th>\n",
       "      <td>1.000000</td>\n",
       "      <td>1.000000</td>\n",
       "      <td>1.000000</td>\n",
       "    </tr>\n",
       "  </tbody>\n",
       "</table>\n",
       "</div>"
      ],
      "text/plain": [
       "                12           13           11\n",
       "count  1073.000000  1073.000000  1073.000000\n",
       "mean      0.830382    -0.003728     0.005592\n",
       "std       0.380408     0.816107     0.074604\n",
       "min      -1.000000    -1.000000     0.000000\n",
       "25%       1.000000    -1.000000     0.000000\n",
       "50%       1.000000     0.000000     0.000000\n",
       "75%       1.000000     1.000000     0.000000\n",
       "max       1.000000     1.000000     1.000000"
      ]
     },
     "execution_count": 150,
     "metadata": {},
     "output_type": "execute_result"
    }
   ],
   "source": [
    "y_under.describe()"
   ]
  },
  {
   "cell_type": "code",
   "execution_count": 151,
   "id": "58b7317f",
   "metadata": {},
   "outputs": [
    {
     "data": {
      "text/plain": [
       "<AxesSubplot:title={'center':'count (target)'}>"
      ]
     },
     "execution_count": 151,
     "metadata": {},
     "output_type": "execute_result"
    },
    {
     "data": {
      "image/png": "[encoded data removed]",
      "text/plain": [
       "<Figure size 432x288 with 1 Axes>"
      ]
     },
     "metadata": {
      "needs_background": "light"
     },
     "output_type": "display_data"
    }
   ],
   "source": [
    "y_under['11'].value_counts().plot(kind='bar', title='count (target)')"
   ]
  },
  {
   "cell_type": "code",
   "execution_count": 152,
   "id": "01b415c2",
   "metadata": {},
   "outputs": [],
   "source": [
    "del y_under['11']"
   ]
  },
  {
   "cell_type": "code",
   "execution_count": 153,
   "id": "bfdb6e6f",
   "metadata": {},
   "outputs": [
    {
     "data": {
      "text/html": [
       "<div>\n",
       "<style scoped>\n",
       "    .dataframe tbody tr th:only-of-type {\n",
       "        vertical-align: middle;\n",
       "    }\n",
       "\n",
       "    .dataframe tbody tr th {\n",
       "        vertical-align: top;\n",
       "    }\n",
       "\n",
       "    .dataframe thead th {\n",
       "        text-align: right;\n",
       "    }\n",
       "</style>\n",
       "<table border=\"1\" class=\"dataframe\">\n",
       "  <thead>\n",
       "    <tr style=\"text-align: right;\">\n",
       "      <th></th>\n",
       "      <th>12</th>\n",
       "      <th>13</th>\n",
       "    </tr>\n",
       "  </thead>\n",
       "  <tbody>\n",
       "    <tr>\n",
       "      <th>count</th>\n",
       "      <td>1073.000000</td>\n",
       "      <td>1073.000000</td>\n",
       "    </tr>\n",
       "    <tr>\n",
       "      <th>mean</th>\n",
       "      <td>0.830382</td>\n",
       "      <td>-0.003728</td>\n",
       "    </tr>\n",
       "    <tr>\n",
       "      <th>std</th>\n",
       "      <td>0.380408</td>\n",
       "      <td>0.816107</td>\n",
       "    </tr>\n",
       "    <tr>\n",
       "      <th>min</th>\n",
       "      <td>-1.000000</td>\n",
       "      <td>-1.000000</td>\n",
       "    </tr>\n",
       "    <tr>\n",
       "      <th>25%</th>\n",
       "      <td>1.000000</td>\n",
       "      <td>-1.000000</td>\n",
       "    </tr>\n",
       "    <tr>\n",
       "      <th>50%</th>\n",
       "      <td>1.000000</td>\n",
       "      <td>0.000000</td>\n",
       "    </tr>\n",
       "    <tr>\n",
       "      <th>75%</th>\n",
       "      <td>1.000000</td>\n",
       "      <td>1.000000</td>\n",
       "    </tr>\n",
       "    <tr>\n",
       "      <th>max</th>\n",
       "      <td>1.000000</td>\n",
       "      <td>1.000000</td>\n",
       "    </tr>\n",
       "  </tbody>\n",
       "</table>\n",
       "</div>"
      ],
      "text/plain": [
       "                12           13\n",
       "count  1073.000000  1073.000000\n",
       "mean      0.830382    -0.003728\n",
       "std       0.380408     0.816107\n",
       "min      -1.000000    -1.000000\n",
       "25%       1.000000    -1.000000\n",
       "50%       1.000000     0.000000\n",
       "75%       1.000000     1.000000\n",
       "max       1.000000     1.000000"
      ]
     },
     "execution_count": 153,
     "metadata": {},
     "output_type": "execute_result"
    }
   ],
   "source": [
    "y_under.describe()"
   ]
  },
  {
   "cell_type": "code",
   "execution_count": 154,
   "id": "c69bd484",
   "metadata": {},
   "outputs": [
    {
     "data": {
      "text/plain": [
       "<AxesSubplot:title={'center':'count (target)'}>"
      ]
     },
     "execution_count": 154,
     "metadata": {},
     "output_type": "execute_result"
    },
    {
     "data": {
      "image/png": "[encoded data removed]",
      "text/plain": [
       "<Figure size 432x288 with 1 Axes>"
      ]
     },
     "metadata": {
      "needs_background": "light"
     },
     "output_type": "display_data"
    }
   ],
   "source": [
    "y_under['12'].value_counts().plot(kind='bar', title='count (target)')"
   ]
  },
  {
   "cell_type": "code",
   "execution_count": 163,
   "id": "040383f1",
   "metadata": {},
   "outputs": [],
   "source": [
    "def undersampling12(data_y, column_name):\n",
    "    '''\n",
    "    data_y : pands dataframe to apply undersampling \n",
    "    column_name : column name string\n",
    "    \n",
    "    '''\n",
    "    fig, ax =plt.subplots(1,2)\n",
    "    #Before undersampling\n",
    "    sns.countplot(data_y[column_name], ax=ax[0])\n",
    "    # class count\n",
    "    class_count_0, class_count_1, class_count_2 = data_y[column_name].value_counts()\n",
    "    \n",
    "    # Separate class\n",
    "    class_0 = data_y[data_y[column_name] == 0]\n",
    "    class_1 = data_y[data_y[column_name] == 1]\n",
    "    class_2 = data_y[data_y[column_name] == -1]\n",
    "    \n",
    "    print('class 0:', class_0.shape)\n",
    "    print('class 1:', class_1.shape)\n",
    "    print('class 2:', class_2.shape)\n",
    "    class_1_under = class_1.sample(class_count_1)\n",
    "    y_under = pd.concat([class_0, class_1_under, class_2], axis=0)\n",
    "    print(\"total class of 1 and 0:\",y_under[column_name].value_counts())\n",
    "    # plot the count after under-sampeling\n",
    "    sns.countplot(y_under[column_name], ax=ax[1])\n",
    "    fig.show()\n",
    "    return y_under "
   ]
  },
  {
   "cell_type": "code",
   "execution_count": 164,
   "id": "6bfc401b",
   "metadata": {},
   "outputs": [
    {
     "name": "stdout",
     "output_type": "stream",
     "text": [
      "class 0: (178, 2)\n",
      "class 1: (893, 2)\n",
      "class 2: (2, 2)\n",
      "total class of 1 and 0:  1    178\n",
      " 0    178\n",
      "-1      2\n",
      "Name: 12, dtype: int64\n"
     ]
    },
    {
     "name": "stderr",
     "output_type": "stream",
     "text": [
      "C:\\Anaconda3\\envs\\pygta5\\lib\\site-packages\\seaborn\\_decorators.py:43: FutureWarning: Pass the following variable as a keyword arg: x. From version 0.12, the only valid positional argument will be `data`, and passing other arguments without an explicit keyword will result in an error or misinterpretation.\n",
      "  FutureWarning\n",
      "C:\\Anaconda3\\envs\\pygta5\\lib\\site-packages\\seaborn\\_decorators.py:43: FutureWarning: Pass the following variable as a keyword arg: x. From version 0.12, the only valid positional argument will be `data`, and passing other arguments without an explicit keyword will result in an error or misinterpretation.\n",
      "  FutureWarning\n",
      "C:\\Anaconda3\\envs\\pygta5\\lib\\site-packages\\ipykernel_launcher.py:26: UserWarning: Matplotlib is currently using module://ipykernel.pylab.backend_inline, which is a non-GUI backend, so cannot show the figure.\n"
     ]
    },
    {
     "data": {
      "image/png": "[encoded data removed]",
      "text/plain": [
       "<Figure size 432x288 with 2 Axes>"
      ]
     },
     "metadata": {
      "needs_background": "light"
     },
     "output_type": "display_data"
    }
   ],
   "source": [
    "y_under_b=undersampling12(y_under,'12')"
   ]
  },
  {
   "cell_type": "code",
   "execution_count": null,
   "id": "94ac6ddf",
   "metadata": {},
   "outputs": [],
   "source": []
  },
  {
   "cell_type": "code",
   "execution_count": 165,
   "id": "6f298d6a",
   "metadata": {},
   "outputs": [
    {
     "name": "stderr",
     "output_type": "stream",
     "text": [
      "C:\\Anaconda3\\envs\\pygta5\\lib\\site-packages\\seaborn\\_decorators.py:43: FutureWarning: Pass the following variable as a keyword arg: x. From version 0.12, the only valid positional argument will be `data`, and passing other arguments without an explicit keyword will result in an error or misinterpretation.\n",
      "  FutureWarning\n"
     ]
    },
    {
     "data": {
      "text/plain": [
       "<AxesSubplot:xlabel='13', ylabel='count'>"
      ]
     },
     "execution_count": 165,
     "metadata": {},
     "output_type": "execute_result"
    },
    {
     "data": {
      "image/png": "[encoded data removed]",
      "text/plain": [
       "<Figure size 432x288 with 1 Axes>"
      ]
     },
     "metadata": {
      "needs_background": "light"
     },
     "output_type": "display_data"
    }
   ],
   "source": [
    "sns.countplot(y_under_b['13'])"
   ]
  },
  {
   "cell_type": "code",
   "execution_count": 166,
   "id": "a3063c82",
   "metadata": {},
   "outputs": [
    {
     "name": "stderr",
     "output_type": "stream",
     "text": [
      "C:\\Anaconda3\\envs\\pygta5\\lib\\site-packages\\seaborn\\_decorators.py:43: FutureWarning: Pass the following variable as a keyword arg: x. From version 0.12, the only valid positional argument will be `data`, and passing other arguments without an explicit keyword will result in an error or misinterpretation.\n",
      "  FutureWarning\n"
     ]
    },
    {
     "data": {
      "text/plain": [
       "<AxesSubplot:xlabel='12', ylabel='count'>"
      ]
     },
     "execution_count": 166,
     "metadata": {},
     "output_type": "execute_result"
    },
    {
     "data": {
      "image/png": "[encoded data removed]",
      "text/plain": [
       "<Figure size 432x288 with 1 Axes>"
      ]
     },
     "metadata": {
      "needs_background": "light"
     },
     "output_type": "display_data"
    }
   ],
   "source": [
    "sns.countplot(y_under_b['12'])"
   ]
  },
  {
   "cell_type": "code",
   "execution_count": 168,
   "id": "2b3d6ef4",
   "metadata": {},
   "outputs": [],
   "source": [
    "#y_under_c=undersampling(y_under_b,'13')"
   ]
  },
  {
   "cell_type": "code",
   "execution_count": 169,
   "id": "f63ff277",
   "metadata": {},
   "outputs": [],
   "source": [
    "y_under=y_under_b"
   ]
  },
  {
   "cell_type": "code",
   "execution_count": null,
   "id": "ee190673",
   "metadata": {},
   "outputs": [],
   "source": []
  },
  {
   "cell_type": "markdown",
   "id": "ec0256bf",
   "metadata": {},
   "source": [
    "Selecting Pandas rows based on list index"
   ]
  },
  {
   "cell_type": "code",
   "execution_count": 170,
   "id": "5f0791f8",
   "metadata": {},
   "outputs": [],
   "source": [
    "data_x=pd.read_pickle('../data_reduced/x_training_data.csv')  "
   ]
  },
  {
   "cell_type": "code",
   "execution_count": 171,
   "id": "4db885da",
   "metadata": {},
   "outputs": [
    {
     "data": {
      "text/html": [
       "<div>\n",
       "<style scoped>\n",
       "    .dataframe tbody tr th:only-of-type {\n",
       "        vertical-align: middle;\n",
       "    }\n",
       "\n",
       "    .dataframe tbody tr th {\n",
       "        vertical-align: top;\n",
       "    }\n",
       "\n",
       "    .dataframe thead th {\n",
       "        text-align: right;\n",
       "    }\n",
       "</style>\n",
       "<table border=\"1\" class=\"dataframe\">\n",
       "  <thead>\n",
       "    <tr style=\"text-align: right;\">\n",
       "      <th></th>\n",
       "      <th>12</th>\n",
       "      <th>13</th>\n",
       "    </tr>\n",
       "  </thead>\n",
       "  <tbody>\n",
       "    <tr>\n",
       "      <th>351</th>\n",
       "      <td>0</td>\n",
       "      <td>0</td>\n",
       "    </tr>\n",
       "    <tr>\n",
       "      <th>26</th>\n",
       "      <td>0</td>\n",
       "      <td>0</td>\n",
       "    </tr>\n",
       "    <tr>\n",
       "      <th>18</th>\n",
       "      <td>0</td>\n",
       "      <td>0</td>\n",
       "    </tr>\n",
       "    <tr>\n",
       "      <th>13</th>\n",
       "      <td>0</td>\n",
       "      <td>0</td>\n",
       "    </tr>\n",
       "    <tr>\n",
       "      <th>7</th>\n",
       "      <td>0</td>\n",
       "      <td>0</td>\n",
       "    </tr>\n",
       "  </tbody>\n",
       "</table>\n",
       "</div>"
      ],
      "text/plain": [
       "     12  13\n",
       "351   0   0\n",
       "26    0   0\n",
       "18    0   0\n",
       "13    0   0\n",
       "7     0   0"
      ]
     },
     "execution_count": 171,
     "metadata": {},
     "output_type": "execute_result"
    }
   ],
   "source": [
    "y_under.head()"
   ]
  },
  {
   "cell_type": "code",
   "execution_count": 172,
   "id": "16272dd6",
   "metadata": {},
   "outputs": [],
   "source": [
    "ind_list =list(y_under.index)"
   ]
  },
  {
   "cell_type": "code",
   "execution_count": 173,
   "id": "5ce6ae89",
   "metadata": {},
   "outputs": [],
   "source": [
    "x_under=data_x.iloc[ind_list]"
   ]
  },
  {
   "cell_type": "code",
   "execution_count": 174,
   "id": "1249e101",
   "metadata": {},
   "outputs": [],
   "source": [
    "#export to csv\n",
    "x_under.to_pickle(\"../data_reduced/undersampling/x_training_data.csv\")"
   ]
  },
  {
   "cell_type": "code",
   "execution_count": 175,
   "id": "a744773a",
   "metadata": {},
   "outputs": [],
   "source": [
    "#export to csv\n",
    "y_under.to_csv( \"../data_reduced/undersampling/y_training_data.csv\", index=False)"
   ]
  },
  {
   "cell_type": "code",
   "execution_count": 176,
   "id": "e35a4155",
   "metadata": {},
   "outputs": [],
   "source": [
    "import pandas as pd"
   ]
  },
  {
   "cell_type": "markdown",
   "id": "e159f739",
   "metadata": {},
   "source": [
    "## Verifing images and inputs in undersampling"
   ]
  },
  {
   "cell_type": "code",
   "execution_count": 177,
   "id": "5ab49c40",
   "metadata": {},
   "outputs": [],
   "source": [
    "x_training_data=pd.read_pickle('../data_reduced/undersampling/x_training_data.csv')  \n",
    "y_training_data=pd.read_csv('../data_reduced/undersampling/y_training_data.csv')  "
   ]
  },
  {
   "cell_type": "markdown",
   "id": "02993c79",
   "metadata": {},
   "source": [
    "# Saving small set"
   ]
  },
  {
   "cell_type": "code",
   "execution_count": 178,
   "id": "af25fbda",
   "metadata": {},
   "outputs": [],
   "source": [
    "divi=(x_training_data.shape[0]-x_training_data.shape[0]%250)/250"
   ]
  },
  {
   "cell_type": "code",
   "execution_count": 179,
   "id": "99d282fe",
   "metadata": {},
   "outputs": [],
   "source": [
    "total=x_training_data.shape[0]-x_training_data.shape[0]%250"
   ]
  },
  {
   "cell_type": "code",
   "execution_count": 180,
   "id": "f6f59389",
   "metadata": {},
   "outputs": [],
   "source": [
    "split=total/divi"
   ]
  },
  {
   "cell_type": "code",
   "execution_count": 181,
   "id": "c7b1e4e3",
   "metadata": {},
   "outputs": [],
   "source": [
    "import pickle"
   ]
  },
  {
   "cell_type": "code",
   "execution_count": 182,
   "id": "d0541f1b",
   "metadata": {},
   "outputs": [
    {
     "name": "stdout",
     "output_type": "stream",
     "text": [
      "../data_reduced/undersampling/chunks/dfx-0.pkl 0 250\n"
     ]
    }
   ],
   "source": [
    "for i in range(int(divi)):\n",
    "        #processed image rgb color - no image filters\n",
    "        step_i=i*250\n",
    "        step_f=step_i+250\n",
    "        file_name = '../data_reduced/undersampling/chunks/dfx-{}.pkl'.format(i)\n",
    "        dfx = x_training_data.iloc[step_i:step_f]\n",
    "        with open(file_name, 'wb') as f:\n",
    "            pickle.dump(dfx, f)\n",
    "        print(file_name,step_i,step_f)"
   ]
  },
  {
   "cell_type": "code",
   "execution_count": 183,
   "id": "177b3ad8",
   "metadata": {},
   "outputs": [
    {
     "name": "stdout",
     "output_type": "stream",
     "text": [
      "../data_reduced/undersampling/chunks/dfy-0.pkl 0 250\n"
     ]
    }
   ],
   "source": [
    "for i in range(int(divi)):\n",
    "        #processed image rgb color - no image filters\n",
    "        step_i=i*250\n",
    "        step_f=step_i+250\n",
    "        file_name = '../data_reduced/undersampling/chunks/dfy-{}.pkl'.format(i)\n",
    "        dfy = y_training_data.iloc[step_i:step_f]\n",
    "        with open(file_name, 'wb') as f:\n",
    "            pickle.dump(dfy, f)\n",
    "        print(file_name,step_i,step_f)"
   ]
  },
  {
   "cell_type": "markdown",
   "id": "13422ca1",
   "metadata": {},
   "source": [
    "# Saving into compressed"
   ]
  },
  {
   "cell_type": "code",
   "execution_count": 11,
   "id": "bde6b54b",
   "metadata": {},
   "outputs": [],
   "source": [
    "import pickle"
   ]
  },
  {
   "cell_type": "code",
   "execution_count": 16,
   "id": "3528eeac",
   "metadata": {},
   "outputs": [],
   "source": [
    "import numpy as np\n",
    "import pandas as pd\n",
    "import pickle\n",
    "import bz2"
   ]
  },
  {
   "cell_type": "markdown",
   "id": "02c21bf8",
   "metadata": {},
   "source": [
    "You can read  — just change the mode from rb"
   ]
  },
  {
   "cell_type": "code",
   "execution_count": null,
   "id": "3318fc07",
   "metadata": {},
   "outputs": [],
   "source": [
    "with open('clean/data/undersampling/x_training_data.csv', 'rb') as f:\n",
    "        df = pickle.load(f)"
   ]
  },
  {
   "cell_type": "markdown",
   "id": "dd8f0123",
   "metadata": {},
   "source": [
    "Let’s save it locally next. You can use the following command to pickle the DataFrame. You can save by changing  rb to wb"
   ]
  },
  {
   "cell_type": "code",
   "execution_count": null,
   "id": "65ad52cd",
   "metadata": {},
   "outputs": [],
   "source": [
    "with open('clean/data/undersampling/chunks/x_training_data.pkl', 'wb') as f:\n",
    "    pickle.dump(df, f)"
   ]
  },
  {
   "cell_type": "markdown",
   "id": "9ef8346a",
   "metadata": {},
   "source": [
    "for i, chunk in enumerate(df):\n",
    "    out_file = \"clean/data/undersampling/chunks/data_{}.pkl\".format(i+1)\n",
    "    with open(out_file, \"wb\") as f:\n",
    "        pickle.dump(chunk,f,pickle.HIGHEST_PROTOCOL)"
   ]
  },
  {
   "cell_type": "markdown",
   "id": "1198432d",
   "metadata": {},
   "source": [
    "Pickle won’t do any compression by default. You’ll have to take care of that manually. Python makes it stupidly easy with the bz2 module:"
   ]
  },
  {
   "cell_type": "markdown",
   "id": "8b0a1b1c",
   "metadata": {},
   "source": [
    "with open('clean/data/undersampling/chunks/x_training_data_compressed.pkl', 'wb') as f:\n",
    "    compressed_file = bz2.BZ2File(f, 'w')\n",
    "    pickle.dump(df, compressed_file)"
   ]
  },
  {
   "cell_type": "code",
   "execution_count": 23,
   "id": "54244a26",
   "metadata": {},
   "outputs": [],
   "source": [
    "#export to csv\n",
    "#x_training_data.to_pickle(\"clean/data/undersampling/chunks/x_training_data.csv\",compression='gzip')"
   ]
  },
  {
   "cell_type": "code",
   "execution_count": 35,
   "id": "51425439",
   "metadata": {},
   "outputs": [],
   "source": [
    "#export to csv\n",
    "#y_training_data.to_csv( \"clean/data/undersampling/chunks/y_training_data.csv\", index=False)"
   ]
  },
  {
   "cell_type": "code",
   "execution_count": 34,
   "id": "831d5d23",
   "metadata": {},
   "outputs": [],
   "source": [
    "#x_training_data=pd.read_pickle('clean/data/undersampling/chunks/x_training_data.csv',compression='gzip')  \n",
    "#y_training_data=pd.read_csv('clean/data/undersampling/chunks/y_training_data.csv') "
   ]
  },
  {
   "cell_type": "markdown",
   "id": "be7acf79",
   "metadata": {},
   "source": [
    "## Verification of data"
   ]
  },
  {
   "cell_type": "code",
   "execution_count": 184,
   "id": "31aa901d",
   "metadata": {},
   "outputs": [
    {
     "data": {
      "text/plain": [
       "(358, 270)"
      ]
     },
     "execution_count": 184,
     "metadata": {},
     "output_type": "execute_result"
    }
   ],
   "source": [
    "x_training_data.shape\n",
    "# (1401, 270) normal\n",
    "# (1073, 270) undersampling"
   ]
  },
  {
   "cell_type": "code",
   "execution_count": 185,
   "id": "f404a7a2",
   "metadata": {},
   "outputs": [
    {
     "data": {
      "text/plain": [
       "(358, 2)"
      ]
     },
     "execution_count": 185,
     "metadata": {},
     "output_type": "execute_result"
    }
   ],
   "source": [
    "y_training_data.shape\n",
    "#(1401, 29) normal\n",
    "#(1073, 29) undersampling"
   ]
  },
  {
   "cell_type": "code",
   "execution_count": 186,
   "id": "262f4c1c",
   "metadata": {},
   "outputs": [],
   "source": [
    "# We count that the size of raws are equal for images and inputs\n",
    "assert x_training_data.shape[0] == y_training_data.shape[0]"
   ]
  },
  {
   "cell_type": "code",
   "execution_count": 187,
   "id": "f1620f8c",
   "metadata": {},
   "outputs": [],
   "source": [
    "# The size of columns for image is 270\n",
    "assert x_training_data.shape[1] == 270"
   ]
  },
  {
   "cell_type": "code",
   "execution_count": 188,
   "id": "3a858061",
   "metadata": {},
   "outputs": [],
   "source": [
    "# The size of columns for inputs is 29\n",
    "#assert y_training_data.shape[1] == 29"
   ]
  },
  {
   "cell_type": "code",
   "execution_count": 190,
   "id": "7f1f677d",
   "metadata": {},
   "outputs": [],
   "source": [
    "#from cleaningdata import *"
   ]
  },
  {
   "cell_type": "code",
   "execution_count": 191,
   "id": "6b16a2ea",
   "metadata": {},
   "outputs": [],
   "source": [
    "image1=df_to_numpy_image(x_training_data,1)"
   ]
  },
  {
   "cell_type": "code",
   "execution_count": 192,
   "id": "bce9ce7b",
   "metadata": {},
   "outputs": [
    {
     "data": {
      "image/jpeg": "[encoded data removed]",
      "text/plain": [
       "<IPython.core.display.Image object>"
      ]
     },
     "metadata": {},
     "output_type": "display_data"
    }
   ],
   "source": [
    "showarray(image1)"
   ]
  },
  {
   "cell_type": "code",
   "execution_count": null,
   "id": "457d728c",
   "metadata": {},
   "outputs": [],
   "source": []
  }
 ],
 "metadata": {
  "kernelspec": {
   "display_name": "Python (pygta5)",
   "language": "python",
   "name": "pygta5"
  },
  "language_info": {
   "codemirror_mode": {
    "name": "ipython",
    "version": 3
   },
   "file_extension": ".py",
   "mimetype": "text/x-python",
   "name": "python",
   "nbconvert_exporter": "python",
   "pygments_lexer": "ipython3",
   "version": "3.7.0"
  }
 },
 "nbformat": 4,
 "nbformat_minor": 5
}
