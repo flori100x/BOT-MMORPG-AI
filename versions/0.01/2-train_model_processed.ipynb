{
 "cells": [
  {
   "cell_type": "markdown",
   "id": "8b2412fa",
   "metadata": {},
   "source": [
    "# Part 2 -  Model creation\n",
    "In this part we are going to create the neural network model and train. \n",
    "With respect to the preprocessed version, we introduce the cleaning part."
   ]
  },
  {
   "cell_type": "markdown",
   "id": "d81d16c3",
   "metadata": {},
   "source": [
    "## Loding Libraries\n",
    "Here we load the common libraries"
   ]
  },
  {
   "cell_type": "code",
   "execution_count": 1,
   "id": "ffdf790b",
   "metadata": {
    "scrolled": true
   },
   "outputs": [
    {
     "name": "stdout",
     "output_type": "stream",
     "text": [
      "WARNING:tensorflow:From C:\\Anaconda3\\envs\\pygta5\\lib\\site-packages\\tensorflow\\python\\compat\\v2_compat.py:111: disable_resource_variables (from tensorflow.python.ops.variable_scope) is deprecated and will be removed in a future version.\n",
      "Instructions for updating:\n",
      "non-resource variables are not supported in the long term\n",
      "curses is not supported on this machine (please install/reinstall curses for an optimal experience)\n"
     ]
    }
   ],
   "source": [
    "import numpy as np\n",
    "from grabscreen import grab_screen\n",
    "import cv2\n",
    "#import tdqm\n",
    "import os\n",
    "import pandas as pd\n",
    "#from tqdm import tqdm\n",
    "from collections import deque\n",
    "from models import inception_v3 as googlenet\n",
    "from models import alexnet2\n",
    "from random import shuffle\n",
    "import matplotlib.pyplot as plt"
   ]
  },
  {
   "cell_type": "markdown",
   "id": "1f0ee8cb",
   "metadata": {},
   "source": [
    "# Cleaning of the Input file\n",
    "We are going to analize the files and clean  that we have created in the part 1\n",
    "Let us first select the first created file."
   ]
  },
  {
   "cell_type": "code",
   "execution_count": 2,
   "id": "e4238a51",
   "metadata": {},
   "outputs": [],
   "source": [
    "#Preprocessed image rgb color - no image filters\n",
    "file_name = \"preprocessed_training_data-1.npy\"\n",
    "#file_name = \"training_data-1.npy\""
   ]
  },
  {
   "cell_type": "code",
   "execution_count": 3,
   "id": "73004842",
   "metadata": {},
   "outputs": [],
   "source": [
    "# full file info\n",
    "train_data = np.load(file_name,allow_pickle=True)"
   ]
  },
  {
   "cell_type": "code",
   "execution_count": 4,
   "id": "9da3f74f",
   "metadata": {},
   "outputs": [
    {
     "data": {
      "text/plain": [
       "(500, 2)"
      ]
     },
     "execution_count": 4,
     "metadata": {},
     "output_type": "execute_result"
    }
   ],
   "source": [
    "# This file has the following shape\n",
    "train_data.shape\n",
    "#(500, 2)"
   ]
  },
  {
   "cell_type": "markdown",
   "id": "a1fcacb3",
   "metadata": {},
   "source": [
    "There are 29 input componentes for each frame, we can plot the histogram for each component"
   ]
  },
  {
   "cell_type": "code",
   "execution_count": 5,
   "id": "a4b0dbc0",
   "metadata": {},
   "outputs": [],
   "source": [
    "train_hist = train_data[:]"
   ]
  },
  {
   "cell_type": "code",
   "execution_count": 6,
   "id": "8691181c",
   "metadata": {},
   "outputs": [
    {
     "data": {
      "text/plain": [
       "(500, 2)"
      ]
     },
     "execution_count": 6,
     "metadata": {},
     "output_type": "execute_result"
    }
   ],
   "source": [
    "train_hist.shape"
   ]
  },
  {
   "cell_type": "code",
   "execution_count": 7,
   "id": "a35aa9dd",
   "metadata": {},
   "outputs": [],
   "source": [
    "df = pd.DataFrame()\n",
    "for i in range(len(train_hist)):\n",
    "    row=list(train_hist[i][1])\n",
    "    #print(row)\n",
    "    temp = pd.DataFrame([row])\n",
    "   # print(temp)\n",
    "    df = pd.concat([df, temp])\n",
    "df=df.reset_index(drop=True)  "
   ]
  },
  {
   "cell_type": "code",
   "execution_count": 8,
   "id": "c9a76a94",
   "metadata": {},
   "outputs": [
    {
     "data": {
      "text/plain": [
       "27"
      ]
     },
     "execution_count": 8,
     "metadata": {},
     "output_type": "execute_result"
    }
   ],
   "source": [
    "#We count rows different to zero\n",
    "(df[13] != 0).astype(int).sum(axis=0)\n"
   ]
  },
  {
   "cell_type": "code",
   "execution_count": 9,
   "id": "6312104a",
   "metadata": {},
   "outputs": [],
   "source": [
    "threshold= (df[13] != 0).astype(int).sum(axis=0)"
   ]
  },
  {
   "cell_type": "code",
   "execution_count": 10,
   "id": "6384f2c6",
   "metadata": {},
   "outputs": [
    {
     "name": "stdout",
     "output_type": "stream",
     "text": [
      "27\n"
     ]
    }
   ],
   "source": [
    "print(threshold) # We assume that is different to zero"
   ]
  },
  {
   "cell_type": "code",
   "execution_count": 11,
   "id": "1c368c3c",
   "metadata": {},
   "outputs": [],
   "source": [
    "num_bins = 25\n",
    "samples_per_bin = threshold\n",
    "hist, bins = np.histogram(df[13], num_bins)\n",
    "center = (bins[:-1]+ bins[1:]) * 0.5"
   ]
  },
  {
   "cell_type": "code",
   "execution_count": null,
   "id": "9f790215",
   "metadata": {},
   "outputs": [],
   "source": []
  },
  {
   "cell_type": "code",
   "execution_count": 12,
   "id": "c2be3957",
   "metadata": {},
   "outputs": [
    {
     "name": "stdout",
     "output_type": "stream",
     "text": [
      "total data: 500\n"
     ]
    },
    {
     "data": {
      "image/png": "[encoded data removed]",
      "text/plain": [
       "<Figure size 432x288 with 1 Axes>"
      ]
     },
     "metadata": {
      "needs_background": "light"
     },
     "output_type": "display_data"
    }
   ],
   "source": [
    "plt.bar(center, hist, width=0.05)\n",
    "plt.plot((np.min(df[13]), np.max(df[13])), (samples_per_bin, samples_per_bin))\n",
    "print('total data:', len(df[13]))"
   ]
  },
  {
   "cell_type": "code",
   "execution_count": 13,
   "id": "58a869b8",
   "metadata": {},
   "outputs": [],
   "source": [
    "remove_list = []\n",
    "for j in range(num_bins):\n",
    "    list_ = []\n",
    "    for i in range(len(df[13])):\n",
    "        serie=df[13].iloc[[i]]\n",
    "        ls = serie.tolist()\n",
    "        if ls[0] >= bins[j] and ls[0] <= bins[j+1]:\n",
    "            list_.append(i)      \n",
    "    #list_ = shuffle(list_)\n",
    "    list_ = list_[samples_per_bin:]\n",
    "    remove_list.extend(list_)"
   ]
  },
  {
   "cell_type": "code",
   "execution_count": 14,
   "id": "e2850819",
   "metadata": {},
   "outputs": [
    {
     "name": "stdout",
     "output_type": "stream",
     "text": [
      "removed: 446\n"
     ]
    }
   ],
   "source": [
    "print('removed:', len(remove_list))"
   ]
  },
  {
   "cell_type": "code",
   "execution_count": 15,
   "id": "687ac0d4",
   "metadata": {},
   "outputs": [],
   "source": [
    "df_removed=df.drop(remove_list, axis=0, inplace=False)"
   ]
  },
  {
   "cell_type": "code",
   "execution_count": 16,
   "id": "b27782d6",
   "metadata": {},
   "outputs": [
    {
     "data": {
      "text/plain": [
       "27"
      ]
     },
     "execution_count": 16,
     "metadata": {},
     "output_type": "execute_result"
    }
   ],
   "source": [
    "#We count rows different to zero\n",
    "(df_removed[13] != 0).astype(int).sum(axis=0)"
   ]
  },
  {
   "cell_type": "code",
   "execution_count": 17,
   "id": "d5753b89",
   "metadata": {},
   "outputs": [
    {
     "name": "stdout",
     "output_type": "stream",
     "text": [
      "remaining: 54\n"
     ]
    }
   ],
   "source": [
    "df.drop(df.index[remove_list], inplace=True)\n",
    "\n",
    "print('remaining:', len(df))"
   ]
  },
  {
   "cell_type": "code",
   "execution_count": 18,
   "id": "5f01b171",
   "metadata": {},
   "outputs": [],
   "source": [
    "df=df.reset_index(drop=True) # We reset the index ! attention"
   ]
  },
  {
   "cell_type": "code",
   "execution_count": 19,
   "id": "0f9fa065",
   "metadata": {},
   "outputs": [
    {
     "data": {
      "text/plain": [
       "[<matplotlib.lines.Line2D at 0x2d1ca076ac8>]"
      ]
     },
     "execution_count": 19,
     "metadata": {},
     "output_type": "execute_result"
    },
    {
     "data": {
      "image/png": "[encoded data removed]",
      "text/plain": [
       "<Figure size 432x288 with 1 Axes>"
      ]
     },
     "metadata": {
      "needs_background": "light"
     },
     "output_type": "display_data"
    }
   ],
   "source": [
    "hist, _ = np.histogram(df[13], (num_bins))\n",
    "plt.bar(center, hist, width=0.05)\n",
    "plt.plot((np.min(df[13]), np.max(df[13])), (samples_per_bin, samples_per_bin))"
   ]
  },
  {
   "cell_type": "markdown",
   "id": "0a42cf35",
   "metadata": {},
   "source": [
    "we can create the function that convert the dataframe row to numpy image array"
   ]
  },
  {
   "cell_type": "code",
   "execution_count": 20,
   "id": "67d7267e",
   "metadata": {},
   "outputs": [],
   "source": [
    "def df_to_numpy_image(df_image_clean,index):\n",
    "    #select the row with index label 'index'\n",
    "    image_clean=df_image_clean.loc[[index]].T.to_numpy()\n",
    "    lists =image_clean.tolist()\n",
    "    # Nested List Comprehension to flatten a given 2-D matrix\n",
    "    # 2-D List\n",
    "    matrix = lists\n",
    "    flatten_matrix = [val.tolist() for sublist in matrix for val in sublist]\n",
    "    # converting list to array\n",
    "    arr = np.array(flatten_matrix)\n",
    "    return arr"
   ]
  },
  {
   "cell_type": "code",
   "execution_count": 21,
   "id": "0c4bbaf7",
   "metadata": {},
   "outputs": [
    {
     "data": {
      "text/plain": [
       "(54, 270)"
      ]
     },
     "execution_count": 21,
     "metadata": {},
     "output_type": "execute_result"
    }
   ],
   "source": [
    "df_image = pd.DataFrame()\n",
    "for i in range(len(train_hist)):\n",
    "    row=list(train_hist[i][0]) # For images  Here we lost the (i, 480, 3) shape\n",
    "    #print(row)    \n",
    "    temp = pd.DataFrame([row])\n",
    "   # print(temp)\n",
    "    df_image = pd.concat([df_image, temp])\n",
    "df_image=df_image.reset_index(drop=True)\n",
    "df_image_removed=df_image.drop(remove_list, axis=0, inplace=False)\n",
    "df_image_clean=df_image_removed.reset_index(drop=True)\n",
    "df_image_clean.shape"
   ]
  },
  {
   "cell_type": "code",
   "execution_count": 25,
   "id": "888cc96f",
   "metadata": {},
   "outputs": [],
   "source": [
    "image1=df_to_numpy_image(df_image_clean,50)\n"
   ]
  },
  {
   "cell_type": "code",
   "execution_count": 26,
   "id": "12e0d6ad",
   "metadata": {},
   "outputs": [
    {
     "data": {
      "text/plain": [
       "(270, 480, 3)"
      ]
     },
     "execution_count": 26,
     "metadata": {},
     "output_type": "execute_result"
    }
   ],
   "source": [
    "image1.shape"
   ]
  },
  {
   "cell_type": "markdown",
   "id": "a6015fb5",
   "metadata": {},
   "source": [
    "## Creation of train and test split"
   ]
  },
  {
   "cell_type": "code",
   "execution_count": 27,
   "id": "7ae9820a",
   "metadata": {},
   "outputs": [],
   "source": [
    "#We verify that the dimensions are the same\n",
    "assert len(df) == len(df_image_clean), \"The dimensions are not equal, something is wrong \""
   ]
  },
  {
   "cell_type": "code",
   "execution_count": 28,
   "id": "95c6a990",
   "metadata": {},
   "outputs": [],
   "source": [
    "#train = train_data[:-50]\n",
    "#test = train_data[-50:]"
   ]
  },
  {
   "cell_type": "code",
   "execution_count": 29,
   "id": "ebd82e37",
   "metadata": {},
   "outputs": [],
   "source": [
    "from sklearn.model_selection import train_test_split"
   ]
  },
  {
   "cell_type": "code",
   "execution_count": 30,
   "id": "93228876",
   "metadata": {},
   "outputs": [],
   "source": [
    "X_train, X_valid, y_train, y_valid = train_test_split(df_image_clean, df, test_size=0.2, random_state=6)"
   ]
  },
  {
   "cell_type": "code",
   "execution_count": 31,
   "id": "6352eca5",
   "metadata": {},
   "outputs": [
    {
     "name": "stdout",
     "output_type": "stream",
     "text": [
      "Training Samples: 43\n",
      "Valid Samples: 11\n"
     ]
    }
   ],
   "source": [
    "print('Training Samples: {}\\nValid Samples: {}'.format(len(X_train), len(y_valid)))"
   ]
  },
  {
   "cell_type": "code",
   "execution_count": 32,
   "id": "4ecf1995",
   "metadata": {},
   "outputs": [
    {
     "data": {
      "text/plain": [
       "Text(0.5, 1.0, 'Validation set')"
      ]
     },
     "execution_count": 32,
     "metadata": {},
     "output_type": "execute_result"
    },
    {
     "data": {
      "image/png": "[encoded data removed]",
      "text/plain": [
       "<Figure size 864x288 with 2 Axes>"
      ]
     },
     "metadata": {
      "needs_background": "light"
     },
     "output_type": "display_data"
    }
   ],
   "source": [
    "fig, axes = plt.subplots(1, 2, figsize=(12, 4))\n",
    "axes[0].hist(y_train, bins=num_bins, width=0.05)\n",
    "axes[0].set_title('Training set')\n",
    "axes[1].hist(y_valid, bins=num_bins, width=0.05)\n",
    "axes[1].set_title('Validation set')"
   ]
  },
  {
   "cell_type": "markdown",
   "id": "ab342b78",
   "metadata": {},
   "source": [
    "We begin the train part"
   ]
  },
  {
   "cell_type": "markdown",
   "id": "818b79cc",
   "metadata": {},
   "source": [
    "## Train Image part ( 4 Dimensional)"
   ]
  },
  {
   "cell_type": "code",
   "execution_count": 33,
   "id": "7eb7a282",
   "metadata": {},
   "outputs": [],
   "source": [
    "X_image = np.array([df_to_numpy_image(X_train,i) for i in X_train.index])"
   ]
  },
  {
   "cell_type": "code",
   "execution_count": 34,
   "id": "b76b9e88",
   "metadata": {},
   "outputs": [
    {
     "data": {
      "text/plain": [
       "(43, 270, 480, 3)"
      ]
     },
     "execution_count": 34,
     "metadata": {},
     "output_type": "execute_result"
    }
   ],
   "source": [
    "X_image.shape\n",
    "#(101, 270, 480, 3)"
   ]
  },
  {
   "cell_type": "code",
   "execution_count": 35,
   "id": "2b30723d",
   "metadata": {},
   "outputs": [],
   "source": [
    "#(101, 270, 480, 3)  We choose only the imagen part of the train data, \n",
    "#There are 101 picturtes with resolutionn WIDTH = 480 and HEIGHT = 270 with 3 colors rgb"
   ]
  },
  {
   "cell_type": "code",
   "execution_count": 36,
   "id": "df9790fa",
   "metadata": {},
   "outputs": [],
   "source": [
    "# We perform the reshape"
   ]
  },
  {
   "cell_type": "markdown",
   "id": "ebc1d9da",
   "metadata": {},
   "source": [
    "numpy.reshape(a, newshape, order='C')\n",
    "\n",
    "- a - Array to be reshaped.\n",
    "- newshape  - The new shape should be compatible with the original shape.\n",
    "\n",
    "- order- Read the elements of a using this index order, and place the elements into the reshaped array using this index order.\n",
    "\n",
    "Gives a new shape to an array without changing its data."
   ]
  },
  {
   "cell_type": "code",
   "execution_count": 37,
   "id": "98b91110",
   "metadata": {},
   "outputs": [],
   "source": [
    "WIDTH = 480\n",
    "HEIGHT = 270"
   ]
  },
  {
   "cell_type": "markdown",
   "id": "1c508c1d",
   "metadata": {},
   "source": [
    "Using arr.reshape() will give a new shape to an array without changing the data. Just remember that when you use the reshape method, the array you want to produce needs to have the same number of elements as the original array."
   ]
  },
  {
   "cell_type": "markdown",
   "id": "10eb17a8",
   "metadata": {},
   "source": [
    "If you start with an array with N elements, you’ll need to make sure that your new array also has a total of N elements"
   ]
  },
  {
   "cell_type": "markdown",
   "id": "de82ec88",
   "metadata": {},
   "source": [
    "You can use reshape() to reshape your array. \n",
    "\n",
    "\n",
    "\n",
    "![title](np_reshape.png)\n",
    "\n",
    "With np.reshape, you can specify a few optional parameters:\n",
    "np.reshape(a, newshape=(d, e), order='C')\n",
    "\n",
    "a is the array to be reshaped.\n",
    "\n",
    "newshape is the new shape you want. You can specify an integer or a tuple of integers. If you specify an integer, the result will be an array of that length. The shape should be compatible with the original shape.\n",
    "\n",
    "order: C means to read/write the elements using C-like index order, F means to read/write the elements using Fortran-like index order, A means to read/write the elements in Fortran-like index order if a is Fortran contiguous in memory, C-like order otherwise. (This is an optional parameter and doesn’t need to be specified.)\n",
    "\n",
    "If you want to learn more about C and Fortran order, you can read more about the internal organization of NumPy arrays here. Essentially, C and Fortran orders have to do with how indices correspond to the order the array is stored in memory. In Fortran, when moving through the elements of a two-dimensional array as it is stored in memory, the first index is the most rapidly varying index. As the first index moves to the next row as it changes, the matrix is stored one column at a time. This is why Fortran is thought of as a Column-major language. In C on the other hand, the last index changes the most rapidly. The matrix is stored by rows, making it a Row-major language. What you do for C or Fortran depends on whether it’s more important to preserve the indexing convention or not reorder the data."
   ]
  },
  {
   "cell_type": "markdown",
   "id": "9f50b801",
   "metadata": {},
   "source": [
    "We will reshape  270, 480 to  480, 270\n",
    "\n",
    "(101, 270, 480, 3) -> (101, 480, 270, 3)"
   ]
  },
  {
   "cell_type": "markdown",
   "id": "b9b6d1e6",
   "metadata": {},
   "source": [
    "What does -1 mean in numpy reshape? A numpy matrix can be reshaped into a vector using reshape function with parameter -1. The criterion to satisfy for providing the new shape is that 'The new shape should be compatible with the original shape'\n",
    "\n",
    "numpy allow us to give one of new shape parameter as -1 (eg: (-1,WIDTH,HEIGHT,3) . It simply means that it is an unknown dimension and we want numpy to figure it out. And numpy will figure this by looking at the 'length of the array and remaining dimensions' and making sure it satisfies the above mentioned criteria"
   ]
  },
  {
   "cell_type": "code",
   "execution_count": 38,
   "id": "e410f6bf",
   "metadata": {},
   "outputs": [
    {
     "data": {
      "text/plain": [
       "(43, 480, 270, 3)"
      ]
     },
     "execution_count": 38,
     "metadata": {},
     "output_type": "execute_result"
    }
   ],
   "source": [
    "# For cleaned processed rgb\n",
    "X=X_image.reshape(-1,WIDTH,HEIGHT,3)\n",
    "X.shape\n",
    "#(101, 480, 270, 3) # the first number may change between the range (0 ,500)"
   ]
  },
  {
   "cell_type": "code",
   "execution_count": 39,
   "id": "c9c451cd",
   "metadata": {},
   "outputs": [
    {
     "data": {
      "text/plain": [
       "16718400"
      ]
     },
     "execution_count": 39,
     "metadata": {},
     "output_type": "execute_result"
    }
   ],
   "source": [
    "X.size"
   ]
  },
  {
   "cell_type": "markdown",
   "id": "b05f6920",
   "metadata": {},
   "source": [
    "## Train Input part ( 1 Dimensional )"
   ]
  },
  {
   "cell_type": "code",
   "execution_count": 40,
   "id": "68f72b9b",
   "metadata": {},
   "outputs": [],
   "source": [
    "def df_to_numpy_input(df_input,index): \n",
    "    # flattening a 2d numpy array\n",
    "    # into 1d array\n",
    "    # and remove dtype at the end of numpy array\n",
    "    lista=df_input.loc[[index]].values.tolist()\n",
    "    arr=np.array(lista).ravel()\n",
    "    return arr\n"
   ]
  },
  {
   "cell_type": "code",
   "execution_count": 41,
   "id": "ab2ac7f2",
   "metadata": {},
   "outputs": [],
   "source": [
    "Y = [df_to_numpy_input(y_train,i) for i in y_train.index]"
   ]
  },
  {
   "cell_type": "code",
   "execution_count": 42,
   "id": "f7f51ca8",
   "metadata": {},
   "outputs": [
    {
     "data": {
      "text/plain": [
       "array([0, 0, 0, 0, 0, 0, 0, 0, 1, 0, 0, 0, 0, 0, 0, 0, 0, 0, 0, 0, 0, 0,\n",
       "       0, 0, 0, 0, 0, 0, 0])"
      ]
     },
     "execution_count": 42,
     "metadata": {},
     "output_type": "execute_result"
    }
   ],
   "source": [
    "Y[0]"
   ]
  },
  {
   "cell_type": "code",
   "execution_count": 43,
   "id": "b55535c0",
   "metadata": {},
   "outputs": [
    {
     "data": {
      "text/plain": [
       "numpy.ndarray"
      ]
     },
     "execution_count": 43,
     "metadata": {},
     "output_type": "execute_result"
    }
   ],
   "source": [
    "type(Y[0])"
   ]
  },
  {
   "cell_type": "code",
   "execution_count": 44,
   "id": "61b6e004",
   "metadata": {},
   "outputs": [
    {
     "data": {
      "text/plain": [
       "43"
      ]
     },
     "execution_count": 44,
     "metadata": {},
     "output_type": "execute_result"
    }
   ],
   "source": [
    "len(Y)"
   ]
  },
  {
   "cell_type": "code",
   "execution_count": 45,
   "id": "f0d2f420",
   "metadata": {},
   "outputs": [
    {
     "data": {
      "text/plain": [
       "list"
      ]
     },
     "execution_count": 45,
     "metadata": {},
     "output_type": "execute_result"
    }
   ],
   "source": [
    "type(Y)"
   ]
  },
  {
   "cell_type": "markdown",
   "id": "83302254",
   "metadata": {},
   "source": [
    "We begin the test part"
   ]
  },
  {
   "cell_type": "markdown",
   "id": "d32df747",
   "metadata": {},
   "source": [
    "## Test Image part ( 4 Dimensional)"
   ]
  },
  {
   "cell_type": "code",
   "execution_count": 46,
   "id": "dfb28703",
   "metadata": {},
   "outputs": [],
   "source": [
    "test_image = np.array([df_to_numpy_image(X_valid,i) for i in X_valid.index])"
   ]
  },
  {
   "cell_type": "code",
   "execution_count": 47,
   "id": "90b6e32c",
   "metadata": {},
   "outputs": [
    {
     "data": {
      "text/plain": [
       "numpy.ndarray"
      ]
     },
     "execution_count": 47,
     "metadata": {},
     "output_type": "execute_result"
    }
   ],
   "source": [
    "type(test_image)"
   ]
  },
  {
   "cell_type": "code",
   "execution_count": 48,
   "id": "e022f16c",
   "metadata": {},
   "outputs": [
    {
     "data": {
      "text/plain": [
       "4"
      ]
     },
     "execution_count": 48,
     "metadata": {},
     "output_type": "execute_result"
    }
   ],
   "source": [
    "test_image.ndim"
   ]
  },
  {
   "cell_type": "code",
   "execution_count": 49,
   "id": "628261f1",
   "metadata": {},
   "outputs": [
    {
     "data": {
      "text/plain": [
       "(11, 270, 480, 3)"
      ]
     },
     "execution_count": 49,
     "metadata": {},
     "output_type": "execute_result"
    }
   ],
   "source": [
    "test_image.shape\n",
    "#(26, 270, 480, 3)"
   ]
  },
  {
   "cell_type": "markdown",
   "id": "ad6509d5",
   "metadata": {},
   "source": [
    "numpy.reshape(a, newshape, order='C')\n",
    "\n",
    "- a - Array to be reshaped.\n",
    "- newshape  - The new shape should be compatible with the original shape.\n",
    "\n",
    "- order- Read the elements of a using this index order, and place the elements into the reshaped array using this index order.\n",
    "\n",
    "Gives a new shape to an array without changing its data."
   ]
  },
  {
   "cell_type": "code",
   "execution_count": 50,
   "id": "132ae517",
   "metadata": {},
   "outputs": [
    {
     "data": {
      "text/plain": [
       "(11, 480, 270, 3)"
      ]
     },
     "execution_count": 50,
     "metadata": {},
     "output_type": "execute_result"
    }
   ],
   "source": [
    "#For processed\n",
    "test_x=test_image.reshape(-1,WIDTH,HEIGHT,3)\n",
    "test_x.shape\n",
    "#(26, 480, 270, 3)"
   ]
  },
  {
   "cell_type": "markdown",
   "id": "8aa78ed0",
   "metadata": {},
   "source": [
    "## Test Input part"
   ]
  },
  {
   "cell_type": "code",
   "execution_count": 51,
   "id": "ec8ee698",
   "metadata": {},
   "outputs": [],
   "source": [
    "test_y = [df_to_numpy_input(y_valid,i) for i in y_valid.index]"
   ]
  },
  {
   "cell_type": "code",
   "execution_count": 52,
   "id": "1ba0a5a7",
   "metadata": {},
   "outputs": [],
   "source": [
    "#FILE_I_END = 1860\n",
    "FILE_I_END = 2\n",
    "WIDTH = 480\n",
    "HEIGHT = 270\n",
    "LR = 1e-3\n",
    "#EPOCHS = 30\n",
    "EPOCHS = 1\n",
    "MODEL_NAME = 'model_clean/test'\n",
    "PREV_MODEL = ''\n",
    "LOAD_MODEL = True\n",
    "\n",
    "wl = 0\n",
    "sl = 0\n",
    "al = 0\n",
    "dl = 0\n",
    "\n",
    "wal = 0\n",
    "wdl = 0\n",
    "sal = 0\n",
    "sdl = 0\n",
    "nkl = 0\n",
    "\n",
    "w = [1,0,0,0,0,0,0,0,0]\n",
    "s = [0,1,0,0,0,0,0,0,0]\n",
    "a = [0,0,1,0,0,0,0,0,0]\n",
    "d = [0,0,0,1,0,0,0,0,0]\n",
    "wa = [0,0,0,0,1,0,0,0,0]\n",
    "wd = [0,0,0,0,0,1,0,0,0]\n",
    "sa = [0,0,0,0,0,0,1,0,0]\n",
    "sd = [0,0,0,0,0,0,0,1,0]\n",
    "nk = [0,0,0,0,0,0,0,0,1]"
   ]
  },
  {
   "cell_type": "code",
   "execution_count": 53,
   "id": "36bf9e3e",
   "metadata": {},
   "outputs": [
    {
     "data": {
      "text/plain": [
       "9"
      ]
     },
     "execution_count": 53,
     "metadata": {},
     "output_type": "execute_result"
    }
   ],
   "source": [
    "len(nk )"
   ]
  },
  {
   "cell_type": "code",
   "execution_count": 54,
   "id": "32de1d0c",
   "metadata": {},
   "outputs": [],
   "source": [
    "size=[0, 0, 0, 0, 0, 0, 0, 0, 1, 0, 0, 0, 0, 0, 0, 0, 0, 0, 0, 0, 0, 0,\n",
    "       0, 0, 0, 0, 0, 0, 0]"
   ]
  },
  {
   "cell_type": "code",
   "execution_count": 55,
   "id": "f479433d",
   "metadata": {},
   "outputs": [
    {
     "data": {
      "text/plain": [
       "29"
      ]
     },
     "execution_count": 55,
     "metadata": {},
     "output_type": "execute_result"
    }
   ],
   "source": [
    "len(size)"
   ]
  },
  {
   "cell_type": "code",
   "execution_count": 56,
   "id": "9684229f",
   "metadata": {},
   "outputs": [
    {
     "name": "stdout",
     "output_type": "stream",
     "text": [
      "WARNING:tensorflow:From C:\\Anaconda3\\envs\\pygta5\\lib\\site-packages\\tflearn\\initializations.py:110: calling UniformUnitScaling.__init__ (from tensorflow.python.ops.init_ops) with dtype is deprecated and will be removed in a future version.\n",
      "Instructions for updating:\n",
      "Call initializer instance with the dtype argument instead of passing it to the constructor\n",
      "WARNING:tensorflow:From C:\\Anaconda3\\envs\\pygta5\\lib\\site-packages\\tensorflow\\python\\util\\deprecation.py:552: UniformUnitScaling.__init__ (from tensorflow.python.ops.init_ops) is deprecated and will be removed in a future version.\n",
      "Instructions for updating:\n",
      "Use tf.initializers.variance_scaling instead with distribution=uniform to get equivalent behavior.\n",
      "WARNING:tensorflow:From C:\\Anaconda3\\envs\\pygta5\\lib\\site-packages\\tensorflow\\python\\util\\dispatch.py:1096: calling dropout (from tensorflow.python.ops.nn_ops) with keep_prob is deprecated and will be removed in a future version.\n",
      "Instructions for updating:\n",
      "Please use `rate` instead of `keep_prob`. Rate should be set to `rate = 1 - keep_prob`.\n",
      "WARNING:tensorflow:From C:\\Anaconda3\\envs\\pygta5\\lib\\site-packages\\tflearn\\initializations.py:165: calling TruncatedNormal.__init__ (from tensorflow.python.ops.init_ops) with dtype is deprecated and will be removed in a future version.\n",
      "Instructions for updating:\n",
      "Call initializer instance with the dtype argument instead of passing it to the constructor\n"
     ]
    }
   ],
   "source": [
    "model = googlenet(WIDTH, HEIGHT, 3, LR, output=29, model_name=MODEL_NAME)"
   ]
  },
  {
   "cell_type": "code",
   "execution_count": 87,
   "id": "f9bc4ed4",
   "metadata": {},
   "outputs": [
    {
     "name": "stdout",
     "output_type": "stream",
     "text": [
      "Training Step: 1  | time: 35.295s\n",
      "| Momentum | epoch: 001 | loss: 0.00000 - acc: 0.0000 -- iter: 064/101\n",
      "Training Step: 2  | total loss: \u001b[1m\u001b[32m7.03591\u001b[0m\u001b[0m | time: 44.580s\n",
      "| Momentum | epoch: 001 | loss: 7.03591 - acc: 0.0000 | val_loss: 5.83250 - val_acc: 0.0000 -- iter: 101/101\n",
      "--\n"
     ]
    }
   ],
   "source": [
    "model.fit({'input': X}, \n",
    "          {'targets': Y}, \n",
    "          n_epoch=1, \n",
    "          validation_set=({'input': test_x},{'targets': test_y}), \n",
    "          snapshot_step=2500, \n",
    "          show_metric=True, \n",
    "          run_id=MODEL_NAME)"
   ]
  },
  {
   "cell_type": "code",
   "execution_count": 88,
   "id": "dcac1755",
   "metadata": {},
   "outputs": [],
   "source": [
    "from IPython.display import display_html\n",
    "def restartkernel() :\n",
    "    display_html(\"<script>Jupyter.notebook.kernel.restart()</script>\",raw=True)"
   ]
  },
  {
   "cell_type": "code",
   "execution_count": null,
   "id": "6a2df67d",
   "metadata": {},
   "outputs": [
    {
     "data": {
      "text/html": [
       "<script>Jupyter.notebook.kernel.restart()</script>"
      ]
     },
     "metadata": {},
     "output_type": "display_data"
    }
   ],
   "source": [
    "restartkernel()"
   ]
  },
  {
   "cell_type": "markdown",
   "id": "2dfcb580",
   "metadata": {},
   "source": [
    "## Full code"
   ]
  },
  {
   "cell_type": "code",
   "execution_count": 1,
   "id": "1f198e36",
   "metadata": {},
   "outputs": [
    {
     "name": "stdout",
     "output_type": "stream",
     "text": [
      "Training Step: 59  | total loss: \u001b[1m\u001b[32m1.12686\u001b[0m\u001b[0m | time: 2.212s\n",
      "| Momentum | epoch: 030 | loss: 1.12686 - acc: 0.5611 -- iter: 64/89\n",
      "Training Step: 60  | total loss: \u001b[1m\u001b[32m1.24311\u001b[0m\u001b[0m | time: 3.763s\n",
      "| Momentum | epoch: 030 | loss: 1.24311 - acc: 0.5365 | val_loss: 1.95188 - val_acc: 1.0000 -- iter: 89/89\n",
      "--\n"
     ]
    }
   ],
   "source": [
    "import numpy as np\n",
    "from grabscreen import grab_screen\n",
    "import cv2\n",
    "import os\n",
    "import pandas as pd\n",
    "from collections import deque\n",
    "from models import inception_v3 as googlenet\n",
    "from models import alexnet2\n",
    "from random import shuffle\n",
    "import matplotlib.pyplot as plt\n",
    "from sklearn.model_selection import train_test_split\n",
    "\n",
    "#FILE_I_END = 1860\n",
    "FILE_I_END = 30\n",
    "#FILE_I_END = 1\n",
    "WIDTH = 480\n",
    "HEIGHT = 270\n",
    "LR = 1e-3\n",
    "#EPOCHS = 32\n",
    "EPOCHS = 1\n",
    "MODEL_NAME = 'model_clean/test'\n",
    "PREV_MODEL = ''\n",
    "LOAD_MODEL = False\n",
    "wl = 0\n",
    "sl = 0\n",
    "al = 0\n",
    "dl = 0\n",
    "wal = 0\n",
    "wdl = 0\n",
    "sal = 0\n",
    "sdl = 0\n",
    "nkl = 0\n",
    "w = [1,0,0,0,0,0,0,0,0]\n",
    "s = [0,1,0,0,0,0,0,0,0]\n",
    "a = [0,0,1,0,0,0,0,0,0]\n",
    "d = [0,0,0,1,0,0,0,0,0]\n",
    "wa = [0,0,0,0,1,0,0,0,0]\n",
    "wd = [0,0,0,0,0,1,0,0,0]\n",
    "sa = [0,0,0,0,0,0,1,0,0]\n",
    "sd = [0,0,0,0,0,0,0,1,0]\n",
    "nk = [0,0,0,0,0,0,0,0,1]\n",
    "model = googlenet(WIDTH, HEIGHT, 3, LR, output=29, model_name=MODEL_NAME)\n",
    "\n",
    "def df_to_numpy_input(df_input,index): \n",
    "    # flattening a 2d numpy array\n",
    "    # into 1d array\n",
    "    # and remove dtype at the end of numpy array\n",
    "    lista=df_input.loc[[index]].values.tolist()\n",
    "    arr=np.array(lista).ravel()\n",
    "    return arr\n",
    "\n",
    "def df_to_numpy_image(df_image_clean,index):\n",
    "    #select the row with index label 'index'\n",
    "    image_clean=df_image_clean.loc[[index]].T.to_numpy()\n",
    "    lists =image_clean.tolist()\n",
    "    # Nested List Comprehension to flatten a given 2-D matrix\n",
    "    # 2-D List\n",
    "    matrix = lists\n",
    "    flatten_matrix = [val.tolist() for sublist in matrix for val in sublist]\n",
    "    # converting list to array\n",
    "    arr = np.array(flatten_matrix)\n",
    "    return arr\n",
    "def cleaning_data(train_data , show=False):\n",
    "    #Creation and cleaning of the input dataframe\n",
    "    df = pd.DataFrame()\n",
    "    for i in range(len(train_data)):\n",
    "        row=list(train_data[i][1])\n",
    "        #print(row)\n",
    "        temp = pd.DataFrame([row])\n",
    "       # print(temp)\n",
    "        df = pd.concat([df, temp])\n",
    "    df=df.reset_index(drop=True)\n",
    "\n",
    "    # Parameters of the cleaning part\n",
    "    num_bins = 25\n",
    "    # We choose the threshold by choosing the RX diffeerent of zero\n",
    "    threshold= (df[13] != 0).astype(int).sum(axis=0)\n",
    "    samples_per_bin = threshold\n",
    "    hist, bins = np.histogram(df[13], num_bins)\n",
    "    center = (bins[:-1]+ bins[1:]) * 0.5\n",
    "    \n",
    "    #Cleaning procedure\n",
    "    remove_list = []\n",
    "    for j in range(num_bins):\n",
    "        list_ = []\n",
    "        for i in range(len(df[13])):\n",
    "            serie=df[13].iloc[[i]]\n",
    "            ls = serie.tolist()\n",
    "            if ls[0] >= bins[j] and ls[0] <= bins[j+1]:\n",
    "                list_.append(i)      \n",
    "        #list_ = shuffle(list_)\n",
    "        list_ = list_[samples_per_bin:]\n",
    "        remove_list.extend(list_)\n",
    "        \n",
    "    #Implementation of the cleaning    \n",
    "    df_removed=df.drop(remove_list, axis=0, inplace=False)\n",
    "    df.drop(df.index[remove_list], inplace=True)\n",
    "    print('remaining:', len(df))\n",
    "    df=df.reset_index(drop=True) # We reset the index ! attention    \n",
    "    if show == True:\n",
    "        #Visualization of cleaning\n",
    "        hist, _ = np.histogram(df[13], (num_bins))\n",
    "        plt.bar(center, hist, width=0.05)\n",
    "        plt.plot((np.min(df[13]), np.max(df[13])), (samples_per_bin, samples_per_bin))\n",
    "    \n",
    "    #Creation and cleaning of the image dataframe\n",
    "    \n",
    "    df_image = pd.DataFrame()\n",
    "    for i in range(len(train_data)):\n",
    "        row=list(train_data[i][0]) # For images  Here we lost the (i, 480, 3) shape\n",
    "        #print(row)    \n",
    "        temp = pd.DataFrame([row])\n",
    "       # print(temp)\n",
    "        df_image = pd.concat([df_image, temp])\n",
    "    df_image=df_image.reset_index(drop=True)\n",
    "    df_image_removed=df_image.drop(remove_list, axis=0, inplace=False)\n",
    "    df_image_clean=df_image_removed.reset_index(drop=True)\n",
    "    #We verify that the dimensions are the same\n",
    "    assert len(df) == len(df_image_clean), \"The dimensions are not equal, something is wrong \"\n",
    "    \n",
    "    return df_image_clean, df\n",
    "if LOAD_MODEL:\n",
    "    model.load(PREV_MODEL)\n",
    "    print('We have loaded a previous model!!!!')\n",
    "# iterates through the training files\n",
    "for e in range(EPOCHS):\n",
    "    data_order = [i for i in range(1,FILE_I_END+1)]\n",
    "    shuffle(data_order)\n",
    "    for count,i in enumerate(data_order):\n",
    "        try:\n",
    "            #processed image rgb color - no image filters\n",
    "            file_name = 'preprocessed_training_data-{}.npy'.format(i)\n",
    "            # full file information\n",
    "            train_data = np.load(file_name,allow_pickle=True)\n",
    "            df_image_clean, df = cleaning_data(train_data)\n",
    "            X_train, X_valid, y_train, y_valid = train_test_split(df_image_clean, df, test_size=0.2, random_state=6)\n",
    "            # Train Image part ( 4 Dimensional)\n",
    "            X_image = np.array([df_to_numpy_image(X_train,i) for i in X_train.index])\n",
    "            X=X_image.reshape(-1,WIDTH,HEIGHT,3)\n",
    "            #Train Input part ( 1 Dimensional )\n",
    "            Y = [df_to_numpy_input(y_train,i) for i in y_train.index]\n",
    "            # Test Image part ( 4 Dimensional)\n",
    "            test_image = np.array([df_to_numpy_image(X_valid,i) for i in X_valid.index])\n",
    "            test_x=test_image.reshape(-1,WIDTH,HEIGHT,3)\n",
    "            ## Test Input part( 1 Dimensional )\n",
    "            test_y = [df_to_numpy_input(y_valid,i) for i in y_valid.index]\n",
    " \n",
    "            model.fit({'input': X}, \n",
    "                      {'targets': Y}, \n",
    "                      n_epoch=1, \n",
    "                      validation_set=({'input': test_x},{'targets': test_y}), \n",
    "                      snapshot_step=2500, \n",
    "                      show_metric=True, \n",
    "                      run_id=MODEL_NAME)\n",
    "            if count%10 == 0:\n",
    "                print('SAVING MODEL!')\n",
    "                model.save(MODEL_NAME)                  \n",
    "        except Exception as e:\n",
    "            print(str(e))"
   ]
  },
  {
   "cell_type": "markdown",
   "id": "9e2b77bd",
   "metadata": {},
   "source": [
    "## Alternative Approaches\n",
    "In this notebook we have used InceptionV3, however it is possible use differnet available  popular neural networks.\n",
    "Taking into account Keras, In deep learning models there are some applications available alongside pre-trained weights. These models can be used for prediction, feature extraction, and fine-tuning.\n",
    "\n",
    "Weights are downloaded automatically when instantiating a model. They are stored at ~/.keras/models/.\n",
    "\n",
    "Upon instantiation, the models will be built according to the image data format set in your Keras configuration file at ~/.keras/keras.json. For instance, if you have set image_data_format=channels_last, then any model loaded from this repository will get built according to the TensorFlow data format convention, \"Height-Width-Depth\".\n",
    "\n",
    "Available models\n",
    "Model\tSize (MB)\tTop-1 Accuracy\tTop-5 Accuracy\tParameters\tDepth\tTime (ms) per inference step (CPU)\tTime (ms) per inference step (GPU)\n",
    "- Xception\t88\t79.0%\t94.5%\t22.9M\t81\t109.4\t8.1\n",
    "- VGG16\t528\t71.3%\t90.1%\t138.4M\t16\t69.5\t4.2\n",
    "- VGG19\t549\t71.3%\t90.0%\t143.7M\t19\t84.8\t4.4\n",
    "- ResNet50\t98\t74.9%\t92.1%\t25.6M\t107\t58.2\t4.6\n",
    "- ResNet50V2\t98\t76.0%\t93.0%\t25.6M\t103\t45.6\t4.4\n",
    "- ResNet101\t171\t76.4%\t92.8%\t44.7M\t209\t89.6\t5.2\n",
    "- ResNet101V2\t171\t77.2%\t93.8%\t44.7M\t205\t72.7\t5.4\n",
    "- ResNet152\t232\t76.6%\t93.1%\t60.4M\t311\t127.4\t6.5\n",
    "- ResNet152V2\t232\t78.0%\t94.2%\t60.4M\t307\t107.5\t6.6\n",
    "- InceptionV3\t92\t77.9%\t93.7%\t23.9M\t189\t42.2\t6.9"
   ]
  }
 ],
 "metadata": {
  "kernelspec": {
   "display_name": "Python (pygta5)",
   "language": "python",
   "name": "pygta5"
  },
  "language_info": {
   "codemirror_mode": {
    "name": "ipython",
    "version": 3
   },
   "file_extension": ".py",
   "mimetype": "text/x-python",
   "name": "python",
   "nbconvert_exporter": "python",
   "pygments_lexer": "ipython3",
   "version": "3.7.0"
  }
 },
 "nbformat": 4,
 "nbformat_minor": 5
}
