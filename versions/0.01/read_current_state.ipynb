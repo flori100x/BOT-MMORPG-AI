{
 "cells": [
  {
   "cell_type": "code",
   "execution_count": 1,
   "id": "5baa0180",
   "metadata": {},
   "outputs": [],
   "source": [
    "\"\"\"Read the current state of Xbox Controllers\"\"\"\n",
    "from ctypes import *\n",
    "import pandas as pd\n",
    "from time import time_ns\n",
    "\n",
    "# Xinput DLL\n",
    "try:\n",
    "    _xinput = windll.xinput1_4\n",
    "except OSError as err:\n",
    "    _xinput = windll.xinput1_3\n",
    "\n",
    "\n",
    "class _xinput_gamepad(Structure):\n",
    "    \"\"\"CType XInput Gamepad Object\"\"\"\n",
    "    _fields_ = [\n",
    "        (\"wButtons\",\n",
    "         c_ushort),  #Contains all button information in one integer\n",
    "        (\"LT\", c_ubyte),  #Left Trigger\n",
    "        (\"RT\", c_ubyte),  #Right Trigger\n",
    "        (\"Lx\", c_short),  #Right stick horizontal movement\n",
    "        (\"Ly\", c_short),  #Right stick vertical movement\n",
    "        (\"Rx\", c_short),  #Left stick horizontal movement\n",
    "        (\"Ry\", c_short)\n",
    "    ]  #Left stick vertical movement\n",
    "\n",
    "    fields = [f[0] for f in _fields_]\n",
    "\n",
    "    def __dict__(self):\n",
    "        return {field: self.__getattribute__(field) for field in self.fields}\n",
    "\n",
    "    def __str__(self):\n",
    "        return str(self.__dict__())\n",
    "\n",
    "    def __getitem__(self, string):\n",
    "        return self.__dict__()[string]\n",
    "\n",
    "\n",
    "class _xinput_state(Structure):\n",
    "    \"\"\"CType XInput State Object\"\"\"\n",
    "    _fields_ = [(\"dwPacketNumber\", c_uint),\n",
    "                (\"XINPUT_GAMEPAD\", _xinput_gamepad)]\n",
    "\n",
    "    fields = fields = [f[0] for f in _fields_]\n",
    "\n",
    "    def __dict__(self):\n",
    "        return {field: self.__getattribute__(field) for field in self.fields}\n",
    "\n",
    "    def __str__(self):\n",
    "        return str(self.__dict__())\n",
    "\n",
    "    def __getitem__(self, string):\n",
    "        return self.__dict__()[string]\n",
    "\n",
    "\n",
    "class rPad(object):\n",
    "    \"\"\"XInput Controller State reading object\"\"\"\n",
    "\n",
    "    _buttons = {  # All possible button values\n",
    "        'UP': 0x0001,\n",
    "        'DOWN': 0x0002,\n",
    "        'LEFT': 0x0004,\n",
    "        'RIGHT': 0x0008,\n",
    "        'START': 0x0010,\n",
    "        'SELECT': 0x0020,\n",
    "        'L3': 0x0040,\n",
    "        'R3': 0x0080,\n",
    "        'LB': 0x0100,\n",
    "        'RB': 0x0200,\n",
    "        'A': 0x1000,\n",
    "        'B': 0x2000,\n",
    "        'X': 0x4000,\n",
    "        'Y': 0x8000\n",
    "    }\n",
    "\n",
    "    def __init__(self, ControllerID: int = 1, absolute: bool = False):\n",
    "        \"\"\"\n",
    "        Initialise Controller object.\n",
    "        ControllerID    Int     Position of gamepad.\n",
    "        \"\"\"\n",
    "        self.ControllerID = ControllerID\n",
    "        self.dwPacketNumber = c_uint()\n",
    "        self.absolute = absolute\n",
    "        print(f\"Now reading gamepad#{ControllerID} as ABSOLUTE values\"\n",
    "              ) if self.absolute else print(\n",
    "                  f\"Now reading gamepad#{ControllerID}\")\n",
    "        self.dwPacketNumber = c_uint()\n",
    "\n",
    "    @property\n",
    "    def read(self):\n",
    "        \"\"\"\n",
    "        Returns the current gamepad state.\n",
    "        \"\"\"\n",
    "        \"\"\"If you wanna optimize reading, this is THE method to look at first\"\"\"\n",
    "        state = _xinput_state()\n",
    "        _xinput.XInputGetState(self.ControllerID - 1, pointer(state))\n",
    "        self.dwPacketNumber = state.dwPacketNumber\n",
    "        check = lambda x: (state.XINPUT_GAMEPAD.wButtons & x) == x\n",
    "        buttons = {name: check(value) for name, value in rPad._buttons.items()}\n",
    "        analogs = state.XINPUT_GAMEPAD.__dict__()\n",
    "        del analogs['wButtons']\n",
    "        return {**analogs, **buttons}"
   ]
  },
  {
   "cell_type": "code",
   "execution_count": 4,
   "id": "11b0abaa",
   "metadata": {},
   "outputs": [],
   "source": [
    "def main():\n",
    "    \"\"\"Test the functionality of the rPad object\"\"\"\n",
    "    from time import sleep\n",
    "\n",
    "    print('Testing controller in position 1:')\n",
    "    print(\n",
    "        \"This will just take a second. We'll look at the controller values in 200 milli-second intervals:\"\n",
    "    )\n",
    "    # Initialise Controller\n",
    "    con = rPad(1)\n",
    "    # Loop printing controller state and buttons held\n",
    "    for i in range(5):\n",
    "        print(f\"{i}---------------------------------------------\")\n",
    "        print(f'State:{con.read}')\n",
    "        print(\"---------------------------------------------\")\n",
    "        sleep(0.2)\n",
    "\n",
    "\n",
    "\n"
   ]
  },
  {
   "cell_type": "code",
   "execution_count": 18,
   "id": "55ae301c",
   "metadata": {},
   "outputs": [
    {
     "name": "stdout",
     "output_type": "stream",
     "text": [
      "Now reading gamepad#1\n",
      "State:{'LT': 0, 'RT': 0, 'Lx': 1802, 'Ly': -1528, 'Rx': 1153, 'Ry': -1239, 'UP': False, 'DOWN': False, 'LEFT': False, 'RIGHT': False, 'START': False, 'SELECT': False, 'L3': False, 'R3': False, 'LB': False, 'RB': False, 'A': False, 'B': False, 'X': False, 'Y': False}\n"
     ]
    }
   ],
   "source": [
    "con = rPad(1)\n",
    "print(f'State:{con.read}')"
   ]
  },
  {
   "cell_type": "code",
   "execution_count": null,
   "id": "5202cc45",
   "metadata": {},
   "outputs": [],
   "source": []
  },
  {
   "cell_type": "code",
   "execution_count": 7,
   "id": "7a27dedf",
   "metadata": {},
   "outputs": [
    {
     "name": "stdout",
     "output_type": "stream",
     "text": [
      "Testing controller in position 1:\n",
      "This will just take a second. We'll look at the controller values in 200 milli-second intervals:\n",
      "Now reading gamepad#1\n",
      "0---------------------------------------------\n",
      "State:{'LT': 0, 'RT': 0, 'Lx': 1703, 'Ly': -1606, 'Rx': 1153, 'Ry': -1239, 'UP': False, 'DOWN': False, 'LEFT': False, 'RIGHT': False, 'START': False, 'SELECT': False, 'L3': False, 'R3': False, 'LB': False, 'RB': False, 'A': False, 'B': False, 'X': False, 'Y': False}\n",
      "---------------------------------------------\n",
      "1---------------------------------------------\n",
      "State:{'LT': 0, 'RT': 0, 'Lx': 1703, 'Ly': -1606, 'Rx': 1153, 'Ry': -1239, 'UP': False, 'DOWN': False, 'LEFT': False, 'RIGHT': False, 'START': False, 'SELECT': False, 'L3': False, 'R3': False, 'LB': False, 'RB': False, 'A': False, 'B': False, 'X': False, 'Y': False}\n",
      "---------------------------------------------\n",
      "2---------------------------------------------\n",
      "State:{'LT': 0, 'RT': 0, 'Lx': 1703, 'Ly': -1606, 'Rx': 1153, 'Ry': -1239, 'UP': False, 'DOWN': False, 'LEFT': False, 'RIGHT': False, 'START': False, 'SELECT': False, 'L3': False, 'R3': False, 'LB': False, 'RB': False, 'A': False, 'B': False, 'X': False, 'Y': False}\n",
      "---------------------------------------------\n",
      "3---------------------------------------------\n",
      "State:{'LT': 0, 'RT': 0, 'Lx': 1703, 'Ly': -1606, 'Rx': 1153, 'Ry': -1239, 'UP': False, 'DOWN': False, 'LEFT': False, 'RIGHT': False, 'START': False, 'SELECT': False, 'L3': False, 'R3': False, 'LB': False, 'RB': False, 'A': False, 'B': False, 'X': False, 'Y': False}\n",
      "---------------------------------------------\n",
      "4---------------------------------------------\n",
      "State:{'LT': 0, 'RT': 0, 'Lx': 1703, 'Ly': -1606, 'Rx': 1153, 'Ry': -1239, 'UP': False, 'DOWN': False, 'LEFT': False, 'RIGHT': False, 'START': False, 'SELECT': False, 'L3': False, 'R3': False, 'LB': False, 'RB': False, 'A': False, 'B': False, 'X': False, 'Y': False}\n",
      "---------------------------------------------\n"
     ]
    }
   ],
   "source": [
    "if __name__ == '__main__':\n",
    "    main()"
   ]
  },
  {
   "cell_type": "code",
   "execution_count": null,
   "id": "66ecb5c8",
   "metadata": {},
   "outputs": [],
   "source": [
    "\n",
    "    def __loop(self, line, start, wait_ns, i):  #Provides an easy loop\n",
    "        #foo=str(xbox.read)\n",
    "        #jot.write(foo+\"\\n\")\n",
    "        if (time_ns() >= start[0] + wait_ns):\n",
    "            moment = self.read  # will return a dictionary for instantaneous state of the controller\n",
    "            moment['time(ns)'] = time_ns()  #store current time in nanoseconds\n",
    "            moment['timeDelta(ms)'] = (\n",
    "                time_ns() -\n",
    "                start[0]) / 10**6  #Store the time diffference in milliseconds\n",
    "            moment['error(ms)'] = moment['timeDelta(ms)'] - wait_ns / 10**6\n",
    "            line.append(moment)\n",
    "            i[0] += 1\n",
    "            #print(f\"time elapsed={((time_ns()-start)/10**6)/1000}\")\n",
    "            start[0] = time_ns()\n",
    "\n",
    "    def __write(\n",
    "            self, line, type: str,\n",
    "            dest: str):  #Provides writing facility given a type and location\n",
    "\n",
    "        supportedTypes = [\"df\"]\n",
    "        if type not in supportedTypes:\n",
    "            print(\n",
    "                f\"sorry, currently supported types are: {str(supportedTypes)[1:-1]}\"\n",
    "            )\n",
    "\n",
    "        if (type == \"df\"):\n",
    "            output = pd.DataFrame(line)\n",
    "            if not self.absolute:\n",
    "                #The following line is technically inaccurate as Bryan says \"Axis are -32768 to 32767\"\n",
    "                output[['Lx', 'Ly', 'Rx',\n",
    "                        'Ry']] = output[['Lx', 'Ly', 'Rx', 'Ry']] / 32768\n",
    "                output[['LT', 'RT']] = output[['LT', 'RT']] / 255\n",
    "\n",
    "        #Save to disk if required\n",
    "        if (len(dest) > 0 and type == \"df\"):\n",
    "            (pd.DataFrame(line)).to_feather(dest)\n",
    "        #elif(len(file) > 0 and type == \"list\"):\n",
    "\n",
    "        return output\n",
    "        #elif(type == \"list\"):\n",
    "\n",
    "\n",
    "    def record(self,\n",
    "               duration: float = 5,\n",
    "               rate: float = float(1 / 120),\n",
    "               file: str = \"\",\n",
    "               type=\"df\"):\n",
    "        \"\"\"\n",
    "        Records for a given duration at a fixed rate, possibly to a file\n",
    "        \"\"\"\n",
    "\n",
    "        #Setup loop parameters\n",
    "        line = []\n",
    "        start = [time_ns()]\n",
    "        count = duration // rate\n",
    "        wait_ns = rate * 10**9\n",
    "        i = [0]\n",
    "\n",
    "        #Time for the loop\n",
    "        #pbar = tq(total=count, position=0, leave=True)\n",
    "        while (i[0] < count):\n",
    "            self.__loop(line, start, wait_ns, i)\n",
    "\n",
    "        return self.__write(line, type, file)\n",
    "        #write to disk if wanted\n",
    "\n",
    "    def capture(self,\n",
    "                stopper,\n",
    "                rate: float = float(1 / 120),\n",
    "                file: str = \"\",\n",
    "                type=\"df\"):\n",
    "        \"\"\"\n",
    "        Records till mentioned button is pressed at a fixed rate, possibly to a file\n",
    "        \"\"\"\n",
    "        if stopper not in self._buttons:\n",
    "            print(\"Choose a button label to end recording please\")\n",
    "            print(f\"Your choices are ${self._buttons}\")\n",
    "            return 1\n",
    "\n",
    "        #Setup loop parameters\n",
    "        line = [self.read]\n",
    "        start = [time_ns()]\n",
    "        wait_ns = rate * 10**9\n",
    "        i = [0]\n",
    "\n",
    "        while not bool((line[-1])[stopper]):\n",
    "            self.__loop(line, start, wait_ns, i)\n",
    "        #write to disk if wanted\n",
    "        return self.__write(line, type, file)\n",
    "\n",
    "\n",
    "\n",
    "\n",
    "\n",
    "\n",
    "\n",
    "\n",
    "\n",
    "\n",
    "\n",
    "\n"
   ]
  },
  {
   "cell_type": "code",
   "execution_count": 1,
   "id": "73bbc9f9",
   "metadata": {},
   "outputs": [],
   "source": [
    "import numpy as np"
   ]
  },
  {
   "cell_type": "code",
   "execution_count": 2,
   "id": "139fe408",
   "metadata": {},
   "outputs": [
    {
     "name": "stdout",
     "output_type": "stream",
     "text": [
      "1.16.4\n"
     ]
    }
   ],
   "source": [
    "print(np.__version__)"
   ]
  },
  {
   "cell_type": "code",
   "execution_count": 3,
   "id": "32909c91",
   "metadata": {},
   "outputs": [],
   "source": [
    "data1 = np.load('training_data-1.npy' ,allow_pickle=True)"
   ]
  },
  {
   "cell_type": "code",
   "execution_count": 4,
   "id": "529f1696",
   "metadata": {},
   "outputs": [
    {
     "data": {
      "text/plain": [
       "numpy.ndarray"
      ]
     },
     "execution_count": 4,
     "metadata": {},
     "output_type": "execute_result"
    }
   ],
   "source": [
    "type(data1)"
   ]
  },
  {
   "cell_type": "code",
   "execution_count": 5,
   "id": "e27175a1",
   "metadata": {},
   "outputs": [],
   "source": [
    "import pandas as pd"
   ]
  },
  {
   "cell_type": "code",
   "execution_count": 6,
   "id": "3d10c088",
   "metadata": {},
   "outputs": [],
   "source": [
    "#columns1 = ['Column_A','Column_B','Column_C']"
   ]
  },
  {
   "cell_type": "code",
   "execution_count": 10,
   "id": "b6ed7c64",
   "metadata": {},
   "outputs": [],
   "source": [
    "df1 = pd.DataFrame(data1)"
   ]
  },
  {
   "cell_type": "code",
   "execution_count": 11,
   "id": "0049b9b6",
   "metadata": {},
   "outputs": [
    {
     "data": {
      "text/html": [
       "<div>\n",
       "<style scoped>\n",
       "    .dataframe tbody tr th:only-of-type {\n",
       "        vertical-align: middle;\n",
       "    }\n",
       "\n",
       "    .dataframe tbody tr th {\n",
       "        vertical-align: top;\n",
       "    }\n",
       "\n",
       "    .dataframe thead th {\n",
       "        text-align: right;\n",
       "    }\n",
       "</style>\n",
       "<table border=\"1\" class=\"dataframe\">\n",
       "  <thead>\n",
       "    <tr style=\"text-align: right;\">\n",
       "      <th></th>\n",
       "      <th>0</th>\n",
       "      <th>1</th>\n",
       "    </tr>\n",
       "  </thead>\n",
       "  <tbody>\n",
       "    <tr>\n",
       "      <th>0</th>\n",
       "      <td>[[[13, 101, 15], [12, 55, 13], [12, 12, 12], [...</td>\n",
       "      <td>[0, 0, 0, 0, 0, 0, 0, 0, 1]</td>\n",
       "    </tr>\n",
       "    <tr>\n",
       "      <th>1</th>\n",
       "      <td>[[[13, 101, 15], [12, 55, 13], [12, 12, 12], [...</td>\n",
       "      <td>[0, 0, 0, 0, 0, 0, 0, 0, 1]</td>\n",
       "    </tr>\n",
       "    <tr>\n",
       "      <th>2</th>\n",
       "      <td>[[[13, 101, 15], [12, 55, 13], [12, 12, 12], [...</td>\n",
       "      <td>[0, 0, 0, 0, 0, 0, 0, 0, 1]</td>\n",
       "    </tr>\n",
       "    <tr>\n",
       "      <th>3</th>\n",
       "      <td>[[[13, 101, 15], [12, 55, 13], [12, 12, 12], [...</td>\n",
       "      <td>[0, 0, 0, 0, 0, 0, 0, 0, 1]</td>\n",
       "    </tr>\n",
       "    <tr>\n",
       "      <th>4</th>\n",
       "      <td>[[[13, 101, 15], [12, 55, 13], [12, 12, 12], [...</td>\n",
       "      <td>[0, 0, 0, 0, 0, 0, 0, 0, 1]</td>\n",
       "    </tr>\n",
       "  </tbody>\n",
       "</table>\n",
       "</div>"
      ],
      "text/plain": [
       "                                                   0  \\\n",
       "0  [[[13, 101, 15], [12, 55, 13], [12, 12, 12], [...   \n",
       "1  [[[13, 101, 15], [12, 55, 13], [12, 12, 12], [...   \n",
       "2  [[[13, 101, 15], [12, 55, 13], [12, 12, 12], [...   \n",
       "3  [[[13, 101, 15], [12, 55, 13], [12, 12, 12], [...   \n",
       "4  [[[13, 101, 15], [12, 55, 13], [12, 12, 12], [...   \n",
       "\n",
       "                             1  \n",
       "0  [0, 0, 0, 0, 0, 0, 0, 0, 1]  \n",
       "1  [0, 0, 0, 0, 0, 0, 0, 0, 1]  \n",
       "2  [0, 0, 0, 0, 0, 0, 0, 0, 1]  \n",
       "3  [0, 0, 0, 0, 0, 0, 0, 0, 1]  \n",
       "4  [0, 0, 0, 0, 0, 0, 0, 0, 1]  "
      ]
     },
     "execution_count": 11,
     "metadata": {},
     "output_type": "execute_result"
    }
   ],
   "source": [
    "df1.head()"
   ]
  },
  {
   "cell_type": "code",
   "execution_count": 12,
   "id": "43947fbc",
   "metadata": {},
   "outputs": [
    {
     "data": {
      "text/plain": [
       "(500, 2)"
      ]
     },
     "execution_count": 12,
     "metadata": {},
     "output_type": "execute_result"
    }
   ],
   "source": [
    "df1.shape"
   ]
  },
  {
   "cell_type": "code",
   "execution_count": 13,
   "id": "f6a2b1a3",
   "metadata": {},
   "outputs": [],
   "source": [
    "#!pip uninstall numpy"
   ]
  },
  {
   "cell_type": "code",
   "execution_count": 14,
   "id": "56ab7463",
   "metadata": {},
   "outputs": [],
   "source": [
    "#!pip install numpy==1.16.4"
   ]
  },
  {
   "cell_type": "code",
   "execution_count": null,
   "id": "f2e927fe",
   "metadata": {},
   "outputs": [],
   "source": []
  },
  {
   "cell_type": "code",
   "execution_count": 15,
   "id": "10775861",
   "metadata": {},
   "outputs": [],
   "source": [
    "data5 = np.load('training_data-5.npy' ,allow_pickle=True)"
   ]
  },
  {
   "cell_type": "code",
   "execution_count": 16,
   "id": "aeaf733e",
   "metadata": {},
   "outputs": [],
   "source": [
    "df5 = pd.DataFrame(data5)"
   ]
  },
  {
   "cell_type": "code",
   "execution_count": 17,
   "id": "15d8d39e",
   "metadata": {},
   "outputs": [
    {
     "data": {
      "text/html": [
       "<div>\n",
       "<style scoped>\n",
       "    .dataframe tbody tr th:only-of-type {\n",
       "        vertical-align: middle;\n",
       "    }\n",
       "\n",
       "    .dataframe tbody tr th {\n",
       "        vertical-align: top;\n",
       "    }\n",
       "\n",
       "    .dataframe thead th {\n",
       "        text-align: right;\n",
       "    }\n",
       "</style>\n",
       "<table border=\"1\" class=\"dataframe\">\n",
       "  <thead>\n",
       "    <tr style=\"text-align: right;\">\n",
       "      <th></th>\n",
       "      <th>0</th>\n",
       "      <th>1</th>\n",
       "      <th>2</th>\n",
       "    </tr>\n",
       "  </thead>\n",
       "  <tbody>\n",
       "    <tr>\n",
       "      <th>0</th>\n",
       "      <td>[[[51, 51, 51], [51, 51, 51], [51, 51, 51], [5...</td>\n",
       "      <td>[0, 1, 0, 0, 0, 0, 0, 0, 0]</td>\n",
       "      <td>[0, 0, 647, -2567, 1272, -1123, 0, 0, 0, 0, 0,...</td>\n",
       "    </tr>\n",
       "    <tr>\n",
       "      <th>1</th>\n",
       "      <td>[[[51, 51, 51], [51, 51, 51], [51, 51, 51], [5...</td>\n",
       "      <td>[0, 0, 0, 0, 0, 0, 0, 0, 1]</td>\n",
       "      <td>[0, 0, 647, -2567, 1272, -1123, 0, 0, 0, 0, 0,...</td>\n",
       "    </tr>\n",
       "    <tr>\n",
       "      <th>2</th>\n",
       "      <td>[[[51, 51, 51], [51, 51, 51], [51, 51, 51], [5...</td>\n",
       "      <td>[0, 0, 0, 0, 0, 0, 0, 0, 1]</td>\n",
       "      <td>[0, 0, 647, -2567, 1272, -1123, 0, 0, 0, 0, 0,...</td>\n",
       "    </tr>\n",
       "    <tr>\n",
       "      <th>3</th>\n",
       "      <td>[[[51, 51, 51], [51, 51, 51], [51, 51, 51], [5...</td>\n",
       "      <td>[0, 0, 0, 0, 0, 0, 0, 0, 1]</td>\n",
       "      <td>[0, 0, 647, -2567, 1272, -1123, 0, 0, 0, 0, 0,...</td>\n",
       "    </tr>\n",
       "    <tr>\n",
       "      <th>4</th>\n",
       "      <td>[[[51, 51, 51], [51, 51, 51], [51, 51, 51], [5...</td>\n",
       "      <td>[0, 0, 0, 0, 0, 0, 0, 0, 1]</td>\n",
       "      <td>[0, 0, 647, -2567, 1272, -1123, 0, 0, 0, 0, 0,...</td>\n",
       "    </tr>\n",
       "  </tbody>\n",
       "</table>\n",
       "</div>"
      ],
      "text/plain": [
       "                                                   0  \\\n",
       "0  [[[51, 51, 51], [51, 51, 51], [51, 51, 51], [5...   \n",
       "1  [[[51, 51, 51], [51, 51, 51], [51, 51, 51], [5...   \n",
       "2  [[[51, 51, 51], [51, 51, 51], [51, 51, 51], [5...   \n",
       "3  [[[51, 51, 51], [51, 51, 51], [51, 51, 51], [5...   \n",
       "4  [[[51, 51, 51], [51, 51, 51], [51, 51, 51], [5...   \n",
       "\n",
       "                             1  \\\n",
       "0  [0, 1, 0, 0, 0, 0, 0, 0, 0]   \n",
       "1  [0, 0, 0, 0, 0, 0, 0, 0, 1]   \n",
       "2  [0, 0, 0, 0, 0, 0, 0, 0, 1]   \n",
       "3  [0, 0, 0, 0, 0, 0, 0, 0, 1]   \n",
       "4  [0, 0, 0, 0, 0, 0, 0, 0, 1]   \n",
       "\n",
       "                                                   2  \n",
       "0  [0, 0, 647, -2567, 1272, -1123, 0, 0, 0, 0, 0,...  \n",
       "1  [0, 0, 647, -2567, 1272, -1123, 0, 0, 0, 0, 0,...  \n",
       "2  [0, 0, 647, -2567, 1272, -1123, 0, 0, 0, 0, 0,...  \n",
       "3  [0, 0, 647, -2567, 1272, -1123, 0, 0, 0, 0, 0,...  \n",
       "4  [0, 0, 647, -2567, 1272, -1123, 0, 0, 0, 0, 0,...  "
      ]
     },
     "execution_count": 17,
     "metadata": {},
     "output_type": "execute_result"
    }
   ],
   "source": [
    "df5.head()"
   ]
  },
  {
   "cell_type": "code",
   "execution_count": 18,
   "id": "8164eb6f",
   "metadata": {},
   "outputs": [
    {
     "data": {
      "text/plain": [
       "(500, 3)"
      ]
     },
     "execution_count": 18,
     "metadata": {},
     "output_type": "execute_result"
    }
   ],
   "source": [
    "df5.shape"
   ]
  },
  {
   "cell_type": "code",
   "execution_count": null,
   "id": "5802842a",
   "metadata": {},
   "outputs": [],
   "source": []
  },
  {
   "cell_type": "code",
   "execution_count": null,
   "id": "62cf694c",
   "metadata": {},
   "outputs": [],
   "source": []
  }
 ],
 "metadata": {
  "kernelspec": {
   "display_name": "Python (pygta5)",
   "language": "python",
   "name": "pygta5"
  },
  "language_info": {
   "codemirror_mode": {
    "name": "ipython",
    "version": 3
   },
   "file_extension": ".py",
   "mimetype": "text/x-python",
   "name": "python",
   "nbconvert_exporter": "python",
   "pygments_lexer": "ipython3",
   "version": "3.7.0"
  }
 },
 "nbformat": 4,
 "nbformat_minor": 5
}
