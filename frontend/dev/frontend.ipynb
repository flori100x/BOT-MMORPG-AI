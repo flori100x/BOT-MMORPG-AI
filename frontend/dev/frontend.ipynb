{
 "cells": [
  {
   "cell_type": "markdown",
   "id": "754df202-93a2-4c8a-95aa-e5ca2d2ace27",
   "metadata": {},
   "source": [
    "### Recording Screen"
   ]
  },
  {
   "cell_type": "code",
   "execution_count": 7,
   "id": "f988fc77-25bf-41cc-8bb8-0ef5eb7d2dcc",
   "metadata": {},
   "outputs": [
    {
     "name": "stdout",
     "output_type": "stream",
     "text": [
      "./IMG/gameplay_2021_10_23_16_31_09_977.jpg\n",
      "./IMG/gameplay_2021_10_23_16_31_11_996.jpg\n",
      "./IMG/gameplay_2021_10_23_16_31_14_000.jpg\n",
      "./IMG/gameplay_2021_10_23_16_31_16_013.jpg\n",
      "./IMG/gameplay_2021_10_23_16_31_18_038.jpg\n",
      "./IMG/gameplay_2021_10_23_16_31_20_082.jpg\n",
      "./IMG/gameplay_2021_10_23_16_31_22_138.jpg\n",
      "./IMG/gameplay_2021_10_23_16_31_24_736.jpg\n",
      "./IMG/gameplay_2021_10_23_16_31_26_781.jpg\n",
      "./IMG/gameplay_2021_10_23_16_31_28_828.jpg\n",
      "./IMG/gameplay_2021_10_23_16_31_30_838.jpg\n",
      "./IMG/gameplay_2021_10_23_16_31_32_846.jpg\n",
      "./IMG/gameplay_2021_10_23_16_31_34_855.jpg\n",
      "./IMG/gameplay_2021_10_23_16_31_36_902.jpg\n",
      "./IMG/gameplay_2021_10_23_16_31_38_907.jpg\n",
      "./IMG/gameplay_2021_10_23_16_31_40_913.jpg\n",
      "./IMG/gameplay_2021_10_23_16_31_42_953.jpg\n",
      "./IMG/gameplay_2021_10_23_16_31_44_957.jpg\n",
      "./IMG/gameplay_2021_10_23_16_31_46_958.jpg\n",
      "./IMG/gameplay_2021_10_23_16_31_49_013.jpg\n"
     ]
    }
   ],
   "source": [
    "%run -i images2"
   ]
  },
  {
   "cell_type": "markdown",
   "id": "47ea9a2d-955e-49e1-bc2b-fe98c2ddbd08",
   "metadata": {},
   "source": [
    "### Recording Keyboard"
   ]
  },
  {
   "cell_type": "markdown",
   "id": "3932f69c-296b-4a3f-a510-33ee8dee5380",
   "metadata": {},
   "source": [
    "The first step is learn how to record the keybord"
   ]
  },
  {
   "cell_type": "code",
   "execution_count": 4,
   "id": "014aae76-09e8-4ead-94d8-7bfc1ae40318",
   "metadata": {},
   "outputs": [],
   "source": [
    "# Testing the record"
   ]
  },
  {
   "cell_type": "code",
   "execution_count": null,
   "id": "4874569a",
   "metadata": {},
   "outputs": [],
   "source": [
    "%run -i keyboard"
   ]
  },
  {
   "cell_type": "code",
   "execution_count": 4,
   "id": "36c10961",
   "metadata": {},
   "outputs": [],
   "source": [
    "#!python keyboard.py"
   ]
  },
  {
   "cell_type": "code",
   "execution_count": 5,
   "id": "f3420980-499d-49bb-b4da-733afbe50f31",
   "metadata": {},
   "outputs": [],
   "source": [
    "#with open('log.txt') as f:\n",
    "#    lines = f.readlines()\n",
    "#print(lines)"
   ]
  },
  {
   "cell_type": "code",
   "execution_count": 6,
   "id": "68e4f663",
   "metadata": {},
   "outputs": [],
   "source": [
    "#!python video.py"
   ]
  }
 ],
 "metadata": {
  "kernelspec": {
   "display_name": "Python (game)",
   "language": "python",
   "name": "game"
  },
  "language_info": {
   "codemirror_mode": {
    "name": "ipython",
    "version": 3
   },
   "file_extension": ".py",
   "mimetype": "text/x-python",
   "name": "python",
   "nbconvert_exporter": "python",
   "pygments_lexer": "ipython3",
   "version": "3.7.0"
  }
 },
 "nbformat": 4,
 "nbformat_minor": 5
}
