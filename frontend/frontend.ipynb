{
 "cells": [
  {
   "cell_type": "markdown",
   "id": "47ea9a2d-955e-49e1-bc2b-fe98c2ddbd08",
   "metadata": {},
   "source": [
    "### Recording Keyboard"
   ]
  },
  {
   "cell_type": "markdown",
   "id": "3932f69c-296b-4a3f-a510-33ee8dee5380",
   "metadata": {},
   "source": [
    "The first step is learn how to record the keybord"
   ]
  },
  {
   "cell_type": "code",
   "execution_count": 4,
   "id": "014aae76-09e8-4ead-94d8-7bfc1ae40318",
   "metadata": {},
   "outputs": [],
   "source": [
    "# Testing the record"
   ]
  },
  {
   "cell_type": "code",
   "execution_count": 5,
   "id": "36c10961",
   "metadata": {},
   "outputs": [
    {
     "name": "stdout",
     "output_type": "stream",
     "text": [
      "^C\n"
     ]
    }
   ],
   "source": [
    "!python keyboard.py"
   ]
  },
  {
   "cell_type": "code",
   "execution_count": 3,
   "id": "f3420980-499d-49bb-b4da-733afbe50f31",
   "metadata": {},
   "outputs": [
    {
     "name": "stdout",
     "output_type": "stream",
     "text": [
      "['Key.backspaceKey.backspaceKey.backspaceKey.backspaceaaa\\n', '\\n', '\\n', '\\n', '\\n', '\\n', '\\n', 'wwwwaaaassssddddaaaaaaaaaxxxxxxxxxxxxxx\\n', '\\n', '\\n', '\\\\x01\\\\x01\\\\x01\\\\x01\\\\x01\\\\x18\\\\x18\\\\x18\\\\x18\\\\x18\\\\x16\\\\x16\\\\x16\\\\x16\\\\x16\\\\x01\\\\x01\\\\x01\\\\x18\\\\x18\\\\x18\\\\x18\\\\x18\\\\x18\\n', '\\n', '\\n', '\\\\x16\\\\x16\\\\x16\\\\x16\\\\x01\\\\x01\\\\x01\\\\x01\\\\x18\\\\x18\\\\x18\\n', '\\n', '\\n', '\\n', '\\n', '\\n', '\\n', '\\n', '\\\\x16\\\\x16\\\\x16\\\\x16\\\\x03\\\\x03\\\\x03\\\\x03\\\\x1a\\\\x1a\\\\x1a\\\\x1a\\\\x18\\\\x18\\\\x18\\\\x18\\\\x18\\\\x18\\\\x1a\\\\x1a\\\\x1a\\\\x1a\\\\x1a\\\\x1a\\\\x18\\\\x18\\\\x18\\\\x18\\n', '\\n', '\\n', '\\n', 'Key.backspaceKey.backspaceKey.backspaceKey.backspaceKey.backspaceKey.backspaceKey.backspaceKey.backspace\\n', '\\n', '\\n', '\\n', 'Key.backspaceKey.backspaceKey.backspaceKey.backspaceKey.backspaceKey.backspaceKey.backspaceKey.backspace\\\\x16\\\\x16\\\\x16\\\\x16\\\\x13\\\\x13\\\\x13\\\\x13vvvvviiiiiddddeeeeeeppppp\\n', '\\n', '\\n', '\\n', '\\n', 'Key.backspaceKey.backspaceKey.backspaceKey.backspaceooooo\\n', '\\n', '\\n', '\\n', '\\n', 'xxxxxxxxxxxxxxxxxxxxxxxxxxxxxx\\\\x03\\\\x03\\\\x03\\\\x03\\\\x03\\\\x16\\\\x16\\\\x16\\\\x16vvvviiiiiddddeeeeoooo\\n', '\\n', '\\n', '\\n', '\\n', '\\n', '\\n', '\\n', '\\n', '\\n', '\\n', '\\n', '\\n', '\\n', '\\n', '\\n', '\\n', '1111    22222   ssssKey.backspaceKey.backspaceKey.backspaceKey.backspace2222    \\n', '\\n', '\\n', '\\n', 'RRRRReeeeccccoooorrrrdddddiiinnnnnngggg    \\n', '\\n', '\\n', '\\n', 'nnooooo    rrrreeecccccoooorrrrrdd////\\n', '\\n', '\\n', '\\n', '\\n', 'Key.backspaceKey.backspaceKey.backspaceKey.backspaceKey.backspaceKey.backspaceKey.backspaceKey.backspace\\n', '\\n', '\\n', '\\n', '\\n', '\\n', '\\n', '\\n', '\\n', '\\n', '\\n', '\\n', '\\n']\n"
     ]
    }
   ],
   "source": [
    "with open('log.txt') as f:\n",
    "    lines = f.readlines()\n",
    "print(lines)"
   ]
  },
  {
   "cell_type": "code",
   "execution_count": 1,
   "id": "511cf947",
   "metadata": {},
   "outputs": [
    {
     "ename": "SyntaxError",
     "evalue": "invalid syntax (Temp/ipykernel_7084/78484657.py, line 1)",
     "output_type": "error",
     "traceback": [
      "\u001b[1;36m  File \u001b[1;32m\"C:\\Users\\rusla\\AppData\\Local\\Temp/ipykernel_7084/78484657.py\"\u001b[1;36m, line \u001b[1;32m1\u001b[0m\n\u001b[1;33m    no record\u001b[0m\n\u001b[1;37m            ^\u001b[0m\n\u001b[1;31mSyntaxError\u001b[0m\u001b[1;31m:\u001b[0m invalid syntax\n"
     ]
    }
   ],
   "source": [
    "no record"
   ]
  },
  {
   "cell_type": "code",
   "execution_count": 7,
   "id": "68e4f663",
   "metadata": {},
   "outputs": [
    {
     "name": "stdout",
     "output_type": "stream",
     "text": [
      "^C\n"
     ]
    }
   ],
   "source": [
    "!python video.py"
   ]
  },
  {
   "cell_type": "code",
   "execution_count": null,
   "id": "bdb00022-d1c8-49da-97cb-4afc21483927",
   "metadata": {},
   "outputs": [],
   "source": []
  }
 ],
 "metadata": {
  "kernelspec": {
   "display_name": "Python (game)",
   "language": "python",
   "name": "game"
  },
  "language_info": {
   "codemirror_mode": {
    "name": "ipython",
    "version": 3
   },
   "file_extension": ".py",
   "mimetype": "text/x-python",
   "name": "python",
   "nbconvert_exporter": "python",
   "pygments_lexer": "ipython3",
   "version": "3.7.0"
  }
 },
 "nbformat": 4,
 "nbformat_minor": 5
}
